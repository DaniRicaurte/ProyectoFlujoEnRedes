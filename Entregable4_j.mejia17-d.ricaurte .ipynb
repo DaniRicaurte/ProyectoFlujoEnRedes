{
 "cells": [
  {
   "cell_type": "code",
   "execution_count": 1,
   "id": "1968f76b-bf68-4ea4-8151-550f5d05a417",
   "metadata": {
    "tags": []
   },
   "outputs": [],
   "source": [
    "import networkx as nx\n",
    "import matplotlib.pyplot as plt\n",
    "import gurobipy as gp\n",
    "import math\n",
    "import re\n",
    "from gurobipy import *"
   ]
  },
  {
   "cell_type": "markdown",
   "id": "401801d3",
   "metadata": {},
   "source": [
    "|Estudiante|Código|Correo|\n",
    "|-----|-----|----|\n",
    "|Juana Mejía Botero|20221512|j.mejia17|\n",
    "|Daniela Ricaurte Echeverry|201822966|d.ricaurte|\n",
    "\n",
    "# Proyecto - Entrega 3\n"
   ]
  },
  {
   "cell_type": "markdown",
   "id": "6baa834b",
   "metadata": {},
   "source": [
    "## Lectura de datos"
   ]
  },
  {
   "cell_type": "code",
   "execution_count": 2,
   "id": "06359173",
   "metadata": {},
   "outputs": [],
   "source": [
    "# Datos globales del grafo\n",
    "datos_globales = {}\n",
    "\n",
    "# Nodos del grafo\n",
    "nodos = []\n",
    "\n",
    "# Demanda de potencia activa de los nodos\n",
    "pd = {}\n",
    "# Demanda de potencia reactiva de los nodos\n",
    "qd = {}\n",
    "\n",
    "# Resistencia de los arcos\n",
    "r = {}\n",
    "# Reactancia de los arcos\n",
    "x = {}\n",
    "# Arcos\n",
    "B = []\n",
    "\n",
    "file_path = \"C:\\\\Users\\\\danir\\\\Documents\\\\GitHub\\\\ProyectoFlujoEnRedes\\\\Sistemas_test\\\\datos14.txt\"\n",
    "#\"/Users/juanamejia/Desktop/uni/SVII/FR/ProyectoFlujoEnRedes/datos14.txt\""
   ]
  },
  {
   "cell_type": "code",
   "execution_count": 3,
   "metadata": {},
   "outputs": [],
   "source": [
    "def getFile():\n",
    "    valor=file_path.split(\"\\\\\")\n",
    "    last=valor[len(valor)-1]\n",
    "    splitted= last.split('.')\n",
    "    print(splitted[0])\n",
    "    return splitted\n",
    "\n"
   ]
  },
  {
   "cell_type": "code",
   "execution_count": 4,
   "id": "54864767",
   "metadata": {},
   "outputs": [],
   "source": [
    "def calcZbase():\n",
    "    return 1000* ((datos_globales.get('vbase')**2)/datos_globales.get('sbase'))\n",
    "\n",
    "def lecturaDocumento():\n",
    "    \n",
    "    #Valores globales    \n",
    "    patterns = {\n",
    "        'nref': r'nref\\s*=\\s*([\\d.]+);',\n",
    "        'vref': r'vref\\s*=\\s*([\\d.]+);',\n",
    "        'vbase': r'vbase\\s*=\\s*([\\d.]+);',\n",
    "        'sbase': r'sbase\\s*=\\s*([\\d.]+);',\n",
    "        'tol': r'tol\\s*=\\s*([\\d.^-]+);', \n",
    "        'vmin': r'vmin\\s*=\\s*([\\d.]+);',\n",
    "        'vmax': r'vmax\\s*=\\s*([\\d.]+);',\n",
    "        'zbase': r'zbase\\s*=\\s*([\\d.]+);',\n",
    "    }\n",
    "    \n",
    "    branch_pattern = r'ramos\\s*=\\s*\\[(.*?)\\];'\n",
    "    bus_demand_pattern = r'barras\\s*=\\s*\\[(.*?)\\];'\n",
    "    \n",
    "    branches = []\n",
    "    bus_demand = []\n",
    "    \n",
    "    with open(file_path, \"r\",encoding='latin1') as file:\n",
    "        text = file.read()\n",
    "    \n",
    "\n",
    "    for key, pattern in patterns.items():\n",
    "        match = re.search(pattern, text, re.IGNORECASE)\n",
    "        if match:\n",
    "            if key == 'tol':\n",
    "                base, exponent = match.group(1).split('^')\n",
    "                datos_globales[key] = float(base) * 10 ** int(exponent)\n",
    "\n",
    "            else:\n",
    "                datos_globales[key] = float(match.group(1))\n",
    "    \n",
    "    datos_globales[key] = calcZbase()\n",
    "    \n",
    "    # Datos de ramas      \n",
    "    match = re.search(branch_pattern, text, re.DOTALL)\n",
    "    if match:\n",
    "        branch_data = match.group(1)\n",
    "\n",
    "        \n",
    "        branch_lines = branch_data.split('\\n')\n",
    "        branch_lines = [line.strip() for line in branch_lines if not line.strip().startswith('%')]\n",
    "\n",
    "       \n",
    "        for line in branch_lines:\n",
    "            valores = line.split()\n",
    "            if len(valores) == 4:\n",
    "                branch = [float(valor) for valor in valores]\n",
    "                branches.append(branch)\n",
    "                \n",
    "    # Datos de la demanda de potencia activa y reactiva en las barras\n",
    "    match = re.search(bus_demand_pattern, text, re.DOTALL)\n",
    "    if match:\n",
    "        bus_demand_data = match.group(1)\n",
    "\n",
    "       \n",
    "        bus_demand_lines = bus_demand_data.split('\\n')\n",
    "        bus_demand_lines = [line.strip() for line in bus_demand_lines if not line.strip().startswith('%')]\n",
    "\n",
    "       \n",
    "        for line in bus_demand_lines:\n",
    "            valores = line.split()\n",
    "            if len(valores) >= 4:\n",
    "                bus = [int(valores[0]), float(valores[1]), float(valores[2]), float(valores[3])]\n",
    "                bus_demand.append(bus)\n",
    "    \n",
    "    # Editar los valores\n",
    "    valor=getFile()\n",
    "    value=valor[0].split('datos')\n",
    "    numNodos(int(value[1]))\n",
    "    potencias(bus_demand)\n",
    "    impedencia(branches)\n",
    "\n",
    "    \n",
    "def lecturaDocumento14():\n",
    "    \n",
    "    #Valores globales    \n",
    "    patterns = {\n",
    "        'nref': r'nref\\s*=\\s*([\\d.]+);',\n",
    "        'vref': r'vref\\s*=\\s*([\\d.]+);',\n",
    "        'vbase': r'vbase\\s*=\\s*([\\d.]+);',\n",
    "        'sbase': r'sbase\\s*=\\s*([\\d.]+);',\n",
    "        'tol': r'tol\\s*=\\s*([\\d.^-]+);', \n",
    "        'vmin': r'vmin\\s*=\\s*([\\d.]+);',\n",
    "        'vmax': r'vmax\\s*=\\s*([\\d.]+);',\n",
    "        'zbase': r'zbase\\s*=\\s*([\\d.]+);',\n",
    "    }\n",
    "    \n",
    "    branch_pattern = r'ramos\\s*=\\s*\\[(.*?)\\];'\n",
    "    bus_demand_pattern = r'barras\\s*=\\s*\\[(.*?)\\];'\n",
    "    \n",
    "    branches = []\n",
    "    bus_demand = []\n",
    "    \n",
    "    \n",
    "    #input('Ingresar el path del archivo \\n')\n",
    "    \n",
    "    with open(file_path, \"r\",encoding='latin1') as file:\n",
    "        text = file.read()\n",
    "    \n",
    "\n",
    "    for key, pattern in patterns.items():\n",
    "        match = re.search(pattern, text, re.IGNORECASE)\n",
    "        if match:\n",
    "            if key == 'tol':\n",
    "                base, exponent = match.group(1).split('^')\n",
    "                datos_globales[key] = float(base) * 10 ** int(exponent)\n",
    "            else:\n",
    "                datos_globales[key] = float(match.group(1))\n",
    "    \n",
    "    \n",
    "    \n",
    "    # Datos de ramas      \n",
    "    match = re.search(branch_pattern, text, re.DOTALL)\n",
    "    if match:\n",
    "        branch_data = match.group(1)\n",
    "\n",
    "        \n",
    "        branch_lines = branch_data.split('\\n')\n",
    "        branch_lines = [line.strip() for line in branch_lines if not line.strip().startswith('%')]\n",
    "\n",
    "       \n",
    "        for line in branch_lines:\n",
    "            valores = line.split()\n",
    "            if len(valores) == 4:\n",
    "                branch = [float(valor) for valor in valores]\n",
    "                branches.append(branch)\n",
    "                \n",
    "    # Datos de la demanda de potencia activa y reactiva en las barras\n",
    "    match = re.search(bus_demand_pattern, text, re.DOTALL)\n",
    "    if match:\n",
    "        bus_demand_data = match.group(1)\n",
    "\n",
    "       \n",
    "        bus_demand_lines = bus_demand_data.split('\\n')\n",
    "        bus_demand_lines = [line.strip() for line in bus_demand_lines if not line.strip().startswith('%')]\n",
    "\n",
    "       \n",
    "        for line in bus_demand_lines:\n",
    "            valores = line.split()\n",
    "            if len(valores) >= 4:\n",
    "                bus = [int(valores[0]), float(valores[1]), float(valores[2]), float(valores[3])]\n",
    "                bus_demand.append(bus)\n",
    "    \n",
    "    # Editar los valores\n",
    "    valor=getFile()\n",
    "    value=valor[0].split('datos')\n",
    "    numNodos(int(value[1]))\n",
    "    potencias(bus_demand)\n",
    "    impedencia14(branches)\n",
    "      \n",
    "        \n",
    "def impedencia14(branches): \n",
    "    for branch in branches:\n",
    "        from_node = int(branch[0])\n",
    "        to_node = int(branch[1])\n",
    "        \n",
    "        \n",
    "        B.append( (from_node, to_node))\n",
    "        B.append( ( to_node, from_node))\n",
    "        r[( from_node, to_node)] = branch[2]*0.01\n",
    "        r[( to_node, from_node)] = branch[2]*0.01\n",
    "        x[( from_node, to_node)] = branch[3]*0.01\n",
    "        x[( to_node, from_node)] = branch[3]*0.01\n",
    "\n",
    "\n",
    "    \n",
    "    \n",
    "\n",
    "def numNodos(n):\n",
    "    for i in range (1,n+1):\n",
    "        nodos.append(i)\n",
    "    \n",
    "\n",
    "\n",
    "def potencias(demand):\n",
    "    for bus in demand:\n",
    "        pd[(bus[0])] = bus[1]\n",
    "        qd[( bus[0])] = bus[2]\n",
    "      \n",
    "        \n",
    "def impedencia(branches): \n",
    "    for branch in branches:\n",
    "        from_node = int(branch[0])\n",
    "        to_node = int(branch[1])\n",
    "        \n",
    "        \n",
    "        B.append( (from_node, to_node))\n",
    "        B.append( ( to_node, from_node))\n",
    "        r[( from_node, to_node)] = branch[2]/datos_globales.get('zbase')\n",
    "        r[( to_node, from_node)] = branch[2]/datos_globales.get('zbase')\n",
    "        x[( from_node, to_node)] = branch[3]/datos_globales.get('zbase')\n",
    "        x[( to_node, from_node)] = branch[3]/datos_globales.get('zbase')\n"
   ]
  },
  {
   "cell_type": "code",
   "execution_count": 5,
   "metadata": {},
   "outputs": [
    {
     "data": {
      "text/plain": [
       "True"
      ]
     },
     "execution_count": 5,
     "metadata": {},
     "output_type": "execute_result"
    }
   ],
   "source": [
    "file_path.find(\"datos14\") > -1"
   ]
  },
  {
   "cell_type": "code",
   "execution_count": 6,
   "metadata": {},
   "outputs": [
    {
     "name": "stdout",
     "output_type": "stream",
     "text": [
      "datos14\n"
     ]
    }
   ],
   "source": [
    "if file_path.find(\"datos14\") > -1:\n",
    "    lecturaDocumento14()\n",
    "else:\n",
    "    lecturaDocumento()\n",
    "    print(datos_globales.get(\"zbase\"))\n"
   ]
  },
  {
   "cell_type": "code",
   "execution_count": 7,
   "id": "5d7c73ee-47cf-49e0-ab8f-de37a25456e8",
   "metadata": {
    "tags": []
   },
   "outputs": [
    {
     "name": "stdout",
     "output_type": "stream",
     "text": [
      "[1, 2, 3, 4, 5, 6, 7, 8, 9, 10, 11, 12, 13, 14]\n"
     ]
    }
   ],
   "source": [
    "print(nodos)\n",
    "for i in nodos:\n",
    "    i"
   ]
  },
  {
   "cell_type": "markdown",
   "id": "703046bc",
   "metadata": {},
   "source": [
    "## Visualización de los datos"
   ]
  },
  {
   "cell_type": "code",
   "execution_count": 8,
   "id": "a627a85f",
   "metadata": {},
   "outputs": [
    {
     "name": "stdout",
     "output_type": "stream",
     "text": [
      "Nodos\n",
      "[1, 2, 3, 4, 5, 6, 7, 8, 9, 10, 11, 12, 13, 14]\n",
      "Datos Globales\n",
      "nref: 14.0\n",
      "vref: 1.0\n",
      "vbase: 23.0\n",
      "sbase: 100000.0\n",
      "tol: 1e-07\n",
      "vmin: 0.93\n",
      "vmax: 1.05\n",
      "zbase: 100.0\n",
      "Demanda de potencia Activa(pd)\n",
      "14 0.0\n",
      "13 2000.0\n",
      "12 3000.0\n",
      "11 2000.0\n",
      "10 1500.0\n",
      "9 4000.0\n",
      "8 5000.0\n",
      "7 1000.0\n",
      "6 600.0\n",
      "5 4500.0\n",
      "4 1000.0\n",
      "3 1000.0\n",
      "2 1000.0\n",
      "1 2100.0\n",
      "Demanda de Potencia Reactiva(qd)\n",
      "14 0.0\n",
      "13 1600.0\n",
      "12 1500.0\n",
      "11 800.0\n",
      "10 1200.0\n",
      "9 2700.0\n",
      "8 3000.0\n",
      "7 900.0\n",
      "6 100.0\n",
      "5 2000.0\n",
      "4 900.0\n",
      "3 700.0\n",
      "2 900.0\n",
      "1 1000.0\n",
      "Resistencia(r) de los arcos\n",
      "(14, 13) 0.075\n",
      "(13, 14) 0.075\n",
      "(13, 12) 0.08\n",
      "(12, 13) 0.08\n",
      "(13, 11) 0.09\n",
      "(11, 13) 0.09\n",
      "(11, 10) 0.04\n",
      "(10, 11) 0.04\n",
      "(14, 9) 0.11\n",
      "(9, 14) 0.11\n",
      "(9, 8) 0.08\n",
      "(8, 9) 0.08\n",
      "(9, 7) 0.11\n",
      "(7, 9) 0.11\n",
      "(8, 6) 0.11\n",
      "(6, 8) 0.11\n",
      "(8, 5) 0.08\n",
      "(5, 8) 0.08\n",
      "(14, 4) 0.11\n",
      "(4, 14) 0.11\n",
      "(4, 3) 0.09\n",
      "(3, 4) 0.09\n",
      "(4, 2) 0.08\n",
      "(2, 4) 0.08\n",
      "(2, 1) 0.04\n",
      "(1, 2) 0.04\n",
      "(12, 6) 0.04\n",
      "(6, 12) 0.04\n",
      "(7, 3) 0.04\n",
      "(3, 7) 0.04\n",
      "(10, 1) 0.09\n",
      "(1, 10) 0.09\n",
      "Reactancia(x) de los arcos\n",
      "(14, 13) 0.1\n",
      "(13, 14) 0.1\n",
      "(13, 12) 0.11\n",
      "(12, 13) 0.11\n",
      "(13, 11) 0.18\n",
      "(11, 13) 0.18\n",
      "(11, 10) 0.04\n",
      "(10, 11) 0.04\n",
      "(14, 9) 0.11\n",
      "(9, 14) 0.11\n",
      "(9, 8) 0.11\n",
      "(8, 9) 0.11\n",
      "(9, 7) 0.11\n",
      "(7, 9) 0.11\n",
      "(8, 6) 0.11\n",
      "(6, 8) 0.11\n",
      "(8, 5) 0.11\n",
      "(5, 8) 0.11\n",
      "(14, 4) 0.11\n",
      "(4, 14) 0.11\n",
      "(4, 3) 0.12\n",
      "(3, 4) 0.12\n",
      "(4, 2) 0.11\n",
      "(2, 4) 0.11\n",
      "(2, 1) 0.04\n",
      "(1, 2) 0.04\n",
      "(12, 6) 0.04\n",
      "(6, 12) 0.04\n",
      "(7, 3) 0.04\n",
      "(3, 7) 0.04\n",
      "(10, 1) 0.12\n",
      "(1, 10) 0.12\n",
      "Arcos\n",
      "[(14, 13), (13, 14), (13, 12), (12, 13), (13, 11), (11, 13), (11, 10), (10, 11), (14, 9), (9, 14), (9, 8), (8, 9), (9, 7), (7, 9), (8, 6), (6, 8), (8, 5), (5, 8), (14, 4), (4, 14), (4, 3), (3, 4), (4, 2), (2, 4), (2, 1), (1, 2), (12, 6), (6, 12), (7, 3), (3, 7), (10, 1), (1, 10)]\n"
     ]
    }
   ],
   "source": [
    "def printDatos():\n",
    "    print(\"Nodos\")\n",
    "    print(nodos)\n",
    "    \n",
    "    print(\"Datos Globales\")\n",
    "    for key, value in datos_globales.items():\n",
    "        print(f\"{key}: {value}\")\n",
    "    \n",
    "    print(\"Demanda de potencia Activa(pd)\")\n",
    "    for key, value in pd.items():\n",
    "        print(key, value)\n",
    "\n",
    "\n",
    "    print(\"Demanda de Potencia Reactiva(qd)\")\n",
    "    for key, value in qd.items():\n",
    "        print(key, value)\n",
    "    \n",
    "    print(\"Resistencia(r) de los arcos\")\n",
    "    for key, value in r.items():\n",
    "        print(key, value)\n",
    "    \n",
    "    print(\"Reactancia(x) de los arcos\")\n",
    "    for key, value in x.items():\n",
    "        print(key, value)\n",
    "        \n",
    "    print(\"Arcos\")\n",
    "    print(B)\n",
    "\n",
    "printDatos()\n",
    "    "
   ]
  },
  {
   "cell_type": "markdown",
   "id": "8f424146",
   "metadata": {},
   "source": [
    "## Visualizción del grafo"
   ]
  },
  {
   "cell_type": "code",
   "execution_count": 9,
   "id": "19cc2778",
   "metadata": {},
   "outputs": [
    {
     "data": {
      "image/png": "[encoded data removed]",
      "text/plain": [
       "<Figure size 640x480 with 1 Axes>"
      ]
     },
     "metadata": {},
     "output_type": "display_data"
    }
   ],
   "source": [
    "def printGrafo():\n",
    "    # Crear un grafo dirigido\n",
    "    G = nx.Graph()\n",
    "    \n",
    "    # Añadir nodos\n",
    "    for node in nodos:\n",
    "        G.add_node(node)\n",
    "        \n",
    "    for i, j in B:\n",
    "        G.add_edge(i,j)\n",
    "        \n",
    "    pos = nx.spring_layout(G)\n",
    "    nx.draw(G, pos, with_labels=True, node_size=1000, node_color='lightblue', width=2, font_size=15)\n",
    "    plt.show()\n",
    "\n",
    "printGrafo()"
   ]
  },
  {
   "cell_type": "markdown",
   "id": "5b946d36-1a27-4a7d-aca6-e163d3917208",
   "metadata": {
    "tags": []
   },
   "source": [
    "\n",
    "## Modelo Matemático\n",
    "\n",
    "### Variables del Problema\n",
    "- $y_{ij}$ variable binaria que representa el *estado de la llave de interconexión* entre i y j, donde esta será 1 si la llave está abierta y 0 si se encuentra cerrada.  \n",
    "- $P_{ij}$ variable continua que representa el flujo de *potencia activa* entre los nodos $i$ y $j$.\n",
    "- $Q_{ij}$ variable continua que representa el flujo de *potencia reactiva* entre los nodos $i$ y $j$.\n",
    "- $I_{ij}$ variable continua que representa el flujo de corriente entre los nodos $i$ y $j$.\n",
    "- $V_{i}$ variable continua  representa el voltaje en el nodo $i$.\n",
    "\n",
    "\n",
    "### Parámetros del Problema\n",
    "\n",
    "- $P_{i}^{D}$ representa la demanda de potencia activa en el nodo $i$ \n",
    "\n",
    "- $Q_{i}^{D}$  representa la demanda de potencia  reactiva en el nodo $i$.\n",
    "\n",
    "- $R_{ij}$ representa la resistencia de la linea entre los nodos $i$ y $j$ \n",
    "\n",
    "- $X_{ij}$ representa la reactancia de la linea entre los nodos $i$ y $j$."
   ]
  },
  {
   "cell_type": "markdown",
   "id": "05c37abc-d6d4-4438-9eaf-963a79b9e612",
   "metadata": {},
   "source": [
    "## Creación del modelo\n",
    "\n",
    "Para le modelo $t=1$."
   ]
  },
  {
   "cell_type": "code",
   "execution_count": 10,
   "id": "90840822-6bde-49ee-8b43-e07baacd4191",
   "metadata": {
    "tags": []
   },
   "outputs": [
    {
     "name": "stdout",
     "output_type": "stream",
     "text": [
      "Set parameter Username\n",
      "Academic license - for non-commercial use only - expires 2024-10-22\n",
      "21.39 24.150000000000002\n"
     ]
    }
   ],
   "source": [
    "# Create optimization model\n",
    "m = gp.Model(\"RSD\")\n",
    "#Constantes\n",
    "\n",
    "#tolerancia\n",
    "tol=datos_globales.get(\"tol\")\n",
    "\n",
    "# b=lo que genera/consume cada nodo\n",
    "b_v= 0.1\n",
    "\n",
    "\n",
    "# tension minimima kV\n",
    "vmin=float(datos_globales.get(\"vmin\"))*float(datos_globales.get(\"vbase\"))\n",
    "\n",
    "\n",
    "\n",
    "# tension maxima kV\n",
    "vmax= float(datos_globales.get(\"vmax\"))*float(datos_globales.get(\"vbase\"))\n",
    "\n",
    "nref=int(datos_globales.get(\"nref\"))\n",
    "\n",
    "delV=vmax-vmin\n",
    "\n",
    "# Potencia base kW\n",
    "sbase= datos_globales.get(\"sbase\")\n",
    "\n",
    "print(vmin, vmax)\n",
    "# Variables\n",
    "# Estado de la llave del arco i y j\n",
    "y =  m.addVars(nodos, nodos,  vtype=GRB.BINARY, name=\"y\")\n",
    "\n",
    "# Flujo de potencia activa entre los nodos i y j \n",
    "P =  m.addVars(nodos,nodos, vtype=GRB.CONTINUOUS,lb= 0, ub=1,  name=\"P\")\n",
    "\n",
    "# Flujo de potencia reactiva entre los nodos i y j \n",
    "Q = m.addVars(nodos,nodos,  vtype=GRB.CONTINUOUS,lb= 0, ub=1,  name=\"Q\")\n",
    "\n",
    "# Flujo de Corriente entre los nodos i y j\n",
    "I = m.addVars(nodos,nodos,  vtype=GRB.CONTINUOUS, name=\"I\")\n",
    "\n",
    "# Valor al cuadrado del flujo de Corriente entre los nodos i y j\n",
    "Isqr = m.addVars(nodos,nodos,  vtype=GRB.CONTINUOUS, lb= 0, ub=1, name=\"Isqr\")\n",
    "\n",
    "# Voltaje del nodo i\n",
    "V = m.addVars(nodos,  vtype=GRB.CONTINUOUS, lb=vmin, ub=vmax, name=\"V\")\n",
    "\n",
    "# Valor al cuadrado del voltaje del nodo i\n",
    "Vsqr = m.addVars(nodos, vtype=GRB.CONTINUOUS, lb=vmin**2, ub=vmax**2, name=\"Vsqr\")\n",
    "\n",
    "# Delta del V\n",
    "deltaV= m.addVars(nodos, nodos, vtype=GRB.CONTINUOUS, lb=-delV, ub=delV, name=\"deltaV\")\n"
   ]
  },
  {
   "cell_type": "code",
   "execution_count": 11,
   "id": "30efaf4d-ec34-4597-879f-49fedaad5a41",
   "metadata": {
    "tags": []
   },
   "outputs": [
    {
     "name": "stdout",
     "output_type": "stream",
     "text": [
      "100000.0\n"
     ]
    }
   ],
   "source": [
    "for (i, j) in B:\n",
    "    m.addConstr(Isqr[i, j]  == I[i, j] * I[i, j], name=f\"sqr_constraint_I_{i}_{j}\")\n",
    "print(sbase)"
   ]
  },
  {
   "cell_type": "code",
   "execution_count": 12,
   "id": "97f1c256-f20f-4343-8a28-a2833d048d75",
   "metadata": {
    "tags": []
   },
   "outputs": [],
   "source": [
    "for i in nodos:\n",
    "   m.addConstr(Vsqr[i] == V[i] * V[i], name=f\"sqr_constraint_V_{i}_{j}\")"
   ]
  },
  {
   "cell_type": "code",
   "execution_count": 13,
   "id": "3b309399-acbb-409f-97d4-52820008921e",
   "metadata": {
    "tags": []
   },
   "outputs": [],
   "source": [
    "m.update()"
   ]
  },
  {
   "cell_type": "markdown",
   "id": "6155ed3e-202d-4206-a5f2-bae0b7f35ca6",
   "metadata": {},
   "source": [
    "### Función Objetivo\n",
    "\n",
    "$$\n",
    "Min \\sum\\limits_{ij \\in {B}} {{R_{ij}}I_{ij}^{2}};\n",
    "$$\n"
   ]
  },
  {
   "cell_type": "code",
   "execution_count": 14,
   "id": "f4829c18-026b-4232-912c-29b4206d2cef",
   "metadata": {
    "tags": []
   },
   "outputs": [],
   "source": [
    "FO = LinExpr()\n",
    "for (i, j) in B:\n",
    "    FO += I[i,j]**2 * r[i, j]\n",
    "\n",
    "m.setObjective(FO, GRB.MINIMIZE)\n",
    "    "
   ]
  },
  {
   "cell_type": "markdown",
   "id": "aca66814-d283-464d-b65a-b0d05c33f010",
   "metadata": {},
   "source": [
    "### Restricciones del problema"
   ]
  },
  {
   "cell_type": "markdown",
   "id": "7555fd10-5118-4f47-b153-c86715ad7cb4",
   "metadata": {},
   "source": [
    "1. Equilibrio de potencia activa: esta restricción regula que la cantidad total de potencia activa que es consumida en el sistema eléctrico sea igual a la generada y entregada al sistema, además debe ser igual a la demandada del nodo. \n",
    "\n",
    "$$\n",
    "\\sum\\limits_{ki \\in {B}} {{P_{ki}}}   - \\sum\\limits_{ij \\in {B}} {\\left( {{P_{ij}} + {R_{ij}}I_{ij}^{2}} \\right)} + P_{i,t}^S = P_{i,t}^D;\\forall i \\in {N}\n",
    "$$"
   ]
  },
  {
   "cell_type": "code",
   "execution_count": 15,
   "id": "50a7cb4d-ac1d-4363-af34-864652f8dd34",
   "metadata": {},
   "outputs": [],
   "source": [
    "for i in nodos:    \n",
    "    expr1 =0\n",
    "    expr2 =0\n",
    "    for k in nodos:\n",
    "        if ((k,i) in B):\n",
    "            expr1+=(P[k, i])\n",
    "    \n",
    "    for j in nodos:\n",
    "        if ((i,j) in B):\n",
    "            expr2+= P[i, j] + r[i, j] * I[i, j]**2\n",
    "    \n",
    "    \n",
    "    r1 = expr1 - expr2 \n",
    "    \n",
    "    if(i!=int(datos_globales.get(\"nref\"))):\n",
    "        m.addConstr(r1 == pd[i]/sbase, name=f\"demanda_potencia_activa _{i}\")\n",
    "    else:\n",
    "        m.addConstr(r1 <= pd[i]/sbase, name=f\"demanda_potencia_activa _{i}\")"
   ]
  },
  {
   "cell_type": "markdown",
   "id": "d2516c16-54b1-4777-ad07-d8166cfb66db",
   "metadata": {},
   "source": [
    "2. Equilibrio de potencia reactiva: permite que la cantidad total de potencia reactiva que es consumida en el sistema eléctrico sea igual a la generada y entregada al sistema y debe igualar la demanda del nodo.\n",
    "\n",
    "$$\n",
    "\\sum\\limits_{ki \\in {B}} {{Q_{ki,t}}}   - \\sum\\limits_{ij \\in {B}} {\\left( {{Q_{ij,t}} + {X_{ij}}I_{ij,t}^{2}} \\right)}  + Q_{i,t}^S= Q_{i,t}^D;\\forall i \\in {N},    \\forall t \\in {T}\n",
    "$$ "
   ]
  },
  {
   "cell_type": "code",
   "execution_count": 16,
   "id": "e8fe7987-6457-482d-b866-355b43e5606f",
   "metadata": {},
   "outputs": [],
   "source": [
    "for i in nodos:\n",
    "    \n",
    "    expr1 =0\n",
    "    expr2 =0\n",
    "    for k in nodos:\n",
    "        if ((k,i) in B):\n",
    "            expr1+=(Q[k, i])\n",
    "    \n",
    "    for j in nodos:\n",
    "        if ((i,j) in B):\n",
    "            expr2+= Q[i, j] + x[i, j] * I[i, j]**2\n",
    "    \n",
    "\n",
    "    r1 = expr1 - expr2 \n",
    "    \n",
    "\n",
    "    if(i!=int(datos_globales.get(\"nref\"))):\n",
    "        m.addConstr(r1 == qd[i]/sbase, name=f\"demanda_potencia_reactiva _{i}\")\n",
    "    else:\n",
    "        m.addConstr(r1 <= qd[i]/sbase, name=f\"demanda_potencia_reactiva _{i}\")\n"
   ]
  },
  {
   "cell_type": "markdown",
   "id": "5e32b3dd-f3fe-4629-ad23-2ae087b8088c",
   "metadata": {},
   "source": [
    "3. Restricción del limite de la magnitud de tensión. El voltaje debe encontrarse entre un rango especifico. \n",
    "\n",
    "$$\n",
    "{V_{i,t}^{sqr} = V_{j,t}^{sqr} + 2\\left( {{R_{ij}}{P_{ij,t}} + {X_{ij}}{Q_{ij,t}}} \\right)}- Z_{ij}^2{I_{ij,t}^{sqr}} + \\Delta_{ij,t}^{V}; \\forall ij \\in {B},  \\forall  t \\in {T}\n",
    "$$\n",
    "\n",
    "$$\n",
    "{V_{i}^{2} = V_{j}^{2} + 2\\left( {{R_{ij}}{P_{ij}} + {X_{ij}}{Q_{ij}}} \\right)}- (x_{ij}^2+r_{i,j}^2){I_{ij}^{2}} + \\Delta_{ij}^{V}; \\forall ij \\in {B}\n",
    "$$\n",
    "\n",
    "$Z_{i,j}=x_{ij}^2+r_{i,j}^2$"
   ]
  },
  {
   "cell_type": "code",
   "execution_count": 17,
   "id": "ca768179-d8f5-4a47-be08-3d2530966b8a",
   "metadata": {},
   "outputs": [],
   "source": [
    "for i,j in B: \n",
    "    expr1= 2*(P[(i, j)] * r[i,j] +Q[(i, j)] *x[i,j])\n",
    "    expr2= (x[i,j]**2 + r[i,j]**2) *I[i,j]**2\n",
    "    r3= V[(j)]**2 + expr1 - expr2 + deltaV[i,j]\n",
    "    \n",
    "    m.addConstr(Vsqr[i]==r3,name=f\"limite de magnitud de tensión\")\n",
    "    \n"
   ]
  },
  {
   "cell_type": "markdown",
   "id": "4abe8ed5-4542-4b65-b343-7cd347057ec4",
   "metadata": {},
   "source": [
    "4. Restricción que permite regular la magnitud de tensión entre los nodos del sistema con respecto al estado de conexión/desconexión de las llaves de interconexión entre los nodos. \n",
    "\n",
    "$$\n",
    "- {b^V}( {1 - {y_{ij}^B}}) \\le \\Delta _{ij}^V \\le {b^V}( {1 -  {y_{ij}^B}});\\forall ij \\in B\n",
    "$$\n",
    "b= lo que genera/consume cada nodo\n"
   ]
  },
  {
   "cell_type": "code",
   "execution_count": 18,
   "id": "eb773f75-2b19-4076-9156-b872593c6164",
   "metadata": {},
   "outputs": [],
   "source": [
    "for (i,j) in B: \n",
    "    expr1= -b_v *(1 - y[i, j])\n",
    "    m.addConstr(expr1 <= deltaV[(i, j)] ,name=f\"regular la magnitud minima de tensión entre los nodos del sistema con respecto a las llaves\")\n",
    "    expr2 = b_v * (1 - y[i, j])\n",
    "    m.addConstr(deltaV[(i, j)]<= expr2,name=f\"regular la magnitud maxima de tensión entre los nodos del sistema con respecto a las llaves\")\n",
    "\n",
    "   "
   ]
  },
  {
   "cell_type": "markdown",
   "id": "2d3e0b97-833e-492f-828c-21c73b4f9588",
   "metadata": {},
   "source": [
    "5. Restricción que permite que se sigan las leyes de la conservación de energía en el sistema eléctrico y tiene en cuenta la relación entre las magnitudes de tensión, corriente y potencias activas y reactivas\n",
    "$$\n",
    "V_{j}^{2} I_{ij}^{2} = P_{ij}^2 +  Q_{ij}^2;\\forall ij \\in {B}\n",
    "$$\n",
    "\n",
    "Esta se debe de linealizar, para lograr que sea una restricción optima de LP"
   ]
  },
  {
   "cell_type": "code",
   "execution_count": 19,
   "id": "d9c6881d-26e6-495e-89ac-cc56b5d1761b",
   "metadata": {},
   "outputs": [],
   "source": [
    "for (i,j) in B:\n",
    "    v1=V[j]**2\n",
    "    v2=I[i, j]**2\n",
    "    m.addConstr(Vsqr[j] * Isqr[i,j] == P[i, j] * P[i, j] + Q[i, j] * Q[i, j],\n",
    "                    name=f\"restriccion_cuadratica_{i}_{j}\")"
   ]
  },
  {
   "cell_type": "markdown",
   "id": "e7eebccb-e47f-495f-82cd-01e41122f00a",
   "metadata": {
    "tags": []
   },
   "source": [
    "6. Conservación de potencia en el sistema eléctrico. \n",
    "\n",
    "$$\n",
    "{ {\\underline V }^2} \\le V_{i}^{2} \\le {\\overline V }^2;\\forall i \\in N\n",
    "$$"
   ]
  },
  {
   "cell_type": "code",
   "execution_count": 20,
   "id": "aa74b776-95f8-4ed9-b4f7-21d272ee0546",
   "metadata": {},
   "outputs": [],
   "source": [
    "for i in nodos:\n",
    "    m.addConstr(vmin**2<= V[i]**2, name =f\" Conservación_minima_de_potencia_{i}\")\n",
    "    m.addConstr(Vsqr[i]<=vmax**2, name =f\" Conservación_maxima_de_potencia_{i}\")"
   ]
  },
  {
   "cell_type": "markdown",
   "id": "5453bec0-86ff-49e4-bd1c-cca99e80be27",
   "metadata": {},
   "source": [
    "7. Límites al cuadrado de la magnitud de la corriente entre los nodos i y j cuando la llave de interconexión se encuentre abierta. \n",
    "\n",
    "$$\n",
    "0 \\le I_{ij}^{2} \\le \\overline I_{ij}^2 y_{ij}^B;\\forall ij \\in {B}\n",
    "$$\n",
    "\n",
    "$  \\overline I_{ij} = V_{max} / R_{i,j}$\n"
   ]
  },
  {
   "cell_type": "code",
   "execution_count": 21,
   "id": "b7893d60-d912-40a7-85fa-39523f0d2fc4",
   "metadata": {},
   "outputs": [],
   "source": [
    "for (i,j) in B:\n",
    "    m.addConstr(0<=I[i,j]**2, name=f\"magnitud_minima_Corriente_{i}_{j}\")\n",
    "    m.addConstr(I[i,j]**2<= (vmax/r[i,j])**2*y[i,j], name=f\"magnitud_maxima_Corriente_{i}_{j}\")\n",
    "    "
   ]
  },
  {
   "cell_type": "markdown",
   "id": "93b5ef13-4cb8-4cc5-a5c0-3d3508fbf663",
   "metadata": {},
   "source": [
    "8. Restricción de la variable de estado de funcionamiento de los interruptores de interconexión $y_{ij,t}^B$.\n",
    "\n",
    "$$\n",
    "y_{ij,t}^B \\in \\left\\{ {0,1} \\right\\};\\forall ij \\in {B}, \\forall t \\in {T}\n",
    "$$"
   ]
  },
  {
   "cell_type": "code",
   "execution_count": 22,
   "id": "455434c1",
   "metadata": {},
   "outputs": [],
   "source": [
    "for (i,j) in B:\n",
    "    m.addConstr((y[i,j]+y[j,i])<=1, name=f\"solo_una_una_direccion_de_flujo_entre_los_nodos_{i}_{j}\")"
   ]
  },
  {
   "cell_type": "markdown",
   "id": "c24be64b-874e-4c4e-bf1d-4509166e2cb7",
   "metadata": {},
   "source": [
    "9. Restricción de radialidad\n",
    "\n",
    "$$\\sum_{ij \\in B}{ y_{ij,t}^B} = |N|- |N_{sub}|$$\n",
    "\n",
    "Para le caso Nsub= 1, entonces\n",
    "\n",
    "$$\\sum_{ij \\in B}{ y_{ij,t}^B} = |N|- 1$$\n"
   ]
  },
  {
   "cell_type": "code",
   "execution_count": 23,
   "id": "ac60b9a3-7871-4366-8f3e-eb50e37e4753",
   "metadata": {
    "tags": []
   },
   "outputs": [
    {
     "name": "stdout",
     "output_type": "stream",
     "text": [
      "[1, 2, 3, 4, 5, 6, 7, 8, 9, 10, 11, 12, 13, 14]\n",
      "14\n"
     ]
    }
   ],
   "source": [
    "print(nodos)\n",
    "print(len(nodos))"
   ]
  },
  {
   "cell_type": "code",
   "execution_count": 24,
   "id": "eb56b4e4-63e2-49cf-9424-3c3f78b43070",
   "metadata": {},
   "outputs": [
    {
     "name": "stdout",
     "output_type": "stream",
     "text": [
      "14\n"
     ]
    },
    {
     "data": {
      "text/plain": [
       "<gurobi.Constr *Awaiting Model Update*>"
      ]
     },
     "execution_count": 24,
     "metadata": {},
     "output_type": "execute_result"
    }
   ],
   "source": [
    "valor=0\n",
    "print(len(nodos))\n",
    "\n",
    "for (i,j) in B:\n",
    "    valor+=y[i,j]\n",
    "    \n",
    "m.addConstr(valor ==(len(nodos)-1), name=f\"Restriccione_de_radialidad\")\n"
   ]
  },
  {
   "cell_type": "code",
   "execution_count": 25,
   "id": "5b6fb026",
   "metadata": {},
   "outputs": [],
   "source": [
    "for i in nodos: \n",
    "    suma=0\n",
    "    if (i!=int(datos_globales.get(\"nref\"))):\n",
    "        for j in nodos: \n",
    "           if (i,j) in B: \n",
    "                suma+=y[j,i]\n",
    "        m.addConstr(suma >=1, name=f\"conexion{i}\")\n",
    "    else:\n",
    "        for j in nodos: \n",
    "           if (i,j) in B: \n",
    "                suma+=y[i,j]\n",
    "        m.addConstr(suma >=1, name=f\"conexion{i}\")\n",
    "\n"
   ]
  },
  {
   "cell_type": "code",
   "execution_count": 26,
   "id": "6c417ee2-8a78-4042-8d50-1100a2695098",
   "metadata": {
    "tags": []
   },
   "outputs": [],
   "source": [
    "m.update()"
   ]
  },
  {
   "cell_type": "code",
   "execution_count": 27,
   "id": "cdd3890f-91d9-49f1-9ada-5292ef8dfc21",
   "metadata": {
    "tags": []
   },
   "outputs": [
    {
     "name": "stdout",
     "output_type": "stream",
     "text": [
      "Set parameter NonConvex to value 2\n"
     ]
    }
   ],
   "source": [
    "m.setParam(\"NonConvex\",2)"
   ]
  },
  {
   "cell_type": "code",
   "execution_count": 28,
   "id": "9cfe737e-920d-4726-8e8a-0cde855a77c4",
   "metadata": {},
   "outputs": [
    {
     "name": "stdout",
     "output_type": "stream",
     "text": [
      "Gurobi Optimizer version 10.0.3 build v10.0.3rc0 (win64)\n",
      "\n",
      "CPU model: 12th Gen Intel(R) Core(TM) i5-1240P, instruction set [SSE2|AVX|AVX2]\n",
      "Thread count: 12 physical cores, 16 logical processors, using up to 16 threads\n",
      "\n",
      "Optimize a model with 125 rows, 1204 columns and 270 nonzeros\n",
      "Model fingerprint: 0x720901e2\n",
      "Model has 32 quadratic objective terms\n",
      "Model has 216 quadratic constraints\n",
      "Variable types: 1008 continuous, 196 integer (196 binary)\n",
      "Coefficient statistics:\n",
      "  Matrix range     [1e-01, 1e+00]\n",
      "  QMatrix range    [3e-03, 1e+00]\n",
      "  QLMatrix range   [8e-02, 4e+05]\n",
      "  Objective range  [0e+00, 0e+00]\n",
      "  QObjective range [8e-02, 2e-01]\n",
      "  Bounds range     [1e+00, 6e+02]\n",
      "  RHS range        [1e-01, 6e+02]\n",
      "  QRHS range       [1e-03, 5e+02]\n",
      "Presolve removed 3 rows and 993 columns\n",
      "Presolve time: 0.00s\n",
      "Presolved: 646 rows, 301 columns, 1580 nonzeros\n",
      "Presolved model has 136 bilinear constraint(s)\n",
      "Variable types: 271 continuous, 30 integer (30 binary)\n",
      "\n",
      "Root relaxation: objective 4.240140e-07, 77 iterations, 0.00 seconds (0.00 work units)\n",
      "\n",
      "    Nodes    |    Current Node    |     Objective Bounds      |     Work\n",
      " Expl Unexpl |  Obj  Depth IntInf | Incumbent    BestBd   Gap | It/Node Time\n",
      "\n",
      "     0     0    0.00000    0   38          -    0.00000      -     -    0s\n",
      "     0     0    0.00000    0   42          -    0.00000      -     -    0s\n",
      "     0     0    0.00000    0   42          -    0.00000      -     -    0s\n",
      "     0     2    0.00000    0   42          -    0.00000      -     -    0s\n",
      "* 1025   425              19       0.0000186    0.00001  72.1%  16.6    0s\n",
      "* 1237   520              39       0.0000110    0.00001  52.8%  15.2    0s\n",
      "* 1643   573              32       0.0000101    0.00001  24.6%  13.9    0s\n",
      "* 1777   767              46       0.0000100    0.00001  23.7%  13.2    0s\n",
      "* 1778   767              46       0.0000100    0.00001  23.7%  13.2    0s\n",
      "* 1781   767              45       0.0000100    0.00001  23.7%  13.2    0s\n",
      "* 2062   731              45       0.0000098    0.00001  22.1%  11.8    0s\n",
      "* 2064   731              44       0.0000098    0.00001  22.1%  11.8    0s\n",
      "* 2182   731              37       0.0000098    0.00001  6.03%  11.3    0s\n",
      "* 2696   119              35       0.0000098    0.00001  0.00%   9.4    0s\n",
      "\n",
      "Cutting planes:\n",
      "  Implied bound: 53\n",
      "  RLT: 4\n",
      "\n",
      "Explored 2942 nodes (25397 simplex iterations) in 0.50 seconds (0.24 work units)\n",
      "Thread count was 16 (of 16 available processors)\n",
      "\n",
      "Solution count 10: 9.77326e-06 9.77837e-06 9.78397e-06 ... 1.85864e-05\n",
      "No other solutions better than 9.77326e-06\n",
      "\n",
      "Optimal solution found (tolerance 1.00e-04)\n",
      "Best objective 9.720153491348e-06, best bound 9.773257732962e-06, gap 0.0000%\n"
     ]
    }
   ],
   "source": [
    "m.optimize()"
   ]
  },
  {
   "cell_type": "code",
   "execution_count": 29,
   "id": "e1feab80-2e82-434d-be44-727848950d4c",
   "metadata": {
    "tags": []
   },
   "outputs": [
    {
     "name": "stdout",
     "output_type": "stream",
     "text": [
      "datos14\n",
      "Warning: constraint name \"regular la magnitud minima de tensión entre los nodos del sistema con respecto a las llaves\" has a space\n",
      "Warning: Q constraint name \"demanda_potencia_activa _1\" has a space\n"
     ]
    }
   ],
   "source": [
    "valor=getFile()\n",
    "value=valor[0]\n",
    "if m.Status == GRB.INFEASIBLE:\n",
    "    m.computeIIS()\n",
    "    m.write(f'{value}.ilp')\n",
    "else:\n",
    "    m.write(f'{value}.lp')\n",
    "    m.write(f'{value}.sol')"
   ]
  },
  {
   "cell_type": "code",
   "execution_count": 30,
   "id": "216e8c05",
   "metadata": {},
   "outputs": [
    {
     "name": "stderr",
     "output_type": "stream",
     "text": [
      "C:\\Users\\danir\\AppData\\Local\\Temp\\ipykernel_11776\\3035985999.py:21: UserWarning: \n",
      "\n",
      "The connectionstyle keyword argument is not applicable when drawing edges\n",
      "with LineCollection.\n",
      "\n",
      "To make this warning go away, either specify `arrows=True` to\n",
      "force FancyArrowPatches or use the default value for connectionstyle.\n",
      "Note that using FancyArrowPatches may be slow for large graphs.\n",
      "\n",
      "  nx.draw_networkx_edges(G, pos, edgelist=[edge], width=1.0, alpha=0.5, edge_color='black', connectionstyle=\"arc3,rad=0.1\")\n"
     ]
    },
    {
     "data": {
      "image/png": "[encoded data removed]",
      "text/plain": [
       "<Figure size 640x480 with 1 Axes>"
      ]
     },
     "metadata": {},
     "output_type": "display_data"
    },
    {
     "name": "stdout",
     "output_type": "stream",
     "text": [
      "9.720153491348082e-06\n"
     ]
    }
   ],
   "source": [
    "# Crear un grafo dirigido\n",
    "G = nx.Graph()\n",
    "\n",
    "def printGrafo():\n",
    "   \n",
    "    \n",
    "    \n",
    "    # Añadir nodos\n",
    "    for node in nodos:\n",
    "        G.add_node(node)\n",
    "    \n",
    "    for i, j in B:\n",
    "        if y[i,j].x>0:\n",
    "            G.add_edge(i,j)\n",
    "        \n",
    "    pos = nx.spring_layout(G)\n",
    "\n",
    "    nx.draw(G, pos, with_labels=True, node_size=120, node_color='lightblue', width=1, font_size=10)\n",
    "    nx.draw_networkx_nodes(G, pos, nodelist=[nref], node_color='red', node_size=120)\n",
    "    for edge in G.edges():\n",
    "        nx.draw_networkx_edges(G, pos, edgelist=[edge], width=1.0, alpha=0.5, edge_color='black', connectionstyle=\"arc3,rad=0.1\")\n",
    "\n",
    "    plt.show()\n",
    "\n",
    "plt.title(f'Resultado para {value}')\n",
    "printGrafo()\n",
    "print(m.objval)"
   ]
  },
  {
   "cell_type": "code",
   "execution_count": 31,
   "metadata": {},
   "outputs": [
    {
     "name": "stdout",
     "output_type": "stream",
     "text": [
      "The node '14' can reach all other nodes in the graph.\n"
     ]
    }
   ],
   "source": [
    "selected_node = nref # Replace this with the node you want to check\n",
    "\n",
    "# Check if the selected node can reach all other nodes\n",
    "reachable_nodes = set(nx.node_connected_component(G, selected_node))\n",
    "if reachable_nodes == set(nodos):\n",
    "    print(f\"The node '{selected_node}' can reach all other nodes in the graph.\")\n",
    "else:\n",
    "    print(f\"The node '{selected_node}' cannot reach all other nodes in the graph.\")"
   ]
  },
  {
   "cell_type": "code",
   "execution_count": 32,
   "metadata": {},
   "outputs": [
    {
     "name": "stdout",
     "output_type": "stream",
     "text": [
      "[(14, 13), (13, 12), (13, 11), (11, 10), (14, 9), (9, 8), (8, 5), (14, 4), (4, 3), (4, 2), (2, 1), (12, 6), (3, 7)]\n"
     ]
    }
   ],
   "source": [
    "edges_list=[]\n",
    "for i, j in B:\n",
    "    if y[i,j].x>0:\n",
    "        edges_list.append((i,j))\n",
    "\n",
    "print(edges_list)"
   ]
  },
  {
   "cell_type": "code",
   "execution_count": 33,
   "metadata": {},
   "outputs": [],
   "source": [
    "\n",
    "GDi = nx.DiGraph()\n",
    "GDi.add_edges_from(edges_list)"
   ]
  },
  {
   "cell_type": "code",
   "execution_count": 34,
   "metadata": {},
   "outputs": [
    {
     "name": "stdout",
     "output_type": "stream",
     "text": [
      "Node 14 can reach all other nodes.\n"
     ]
    }
   ],
   "source": [
    "reachable_nodes = set(nx.descendants(GDi, nref  )).union({nref  })\n",
    "all_nodes = set(GDi.nodes())\n",
    "\n",
    "if reachable_nodes == all_nodes:\n",
    "    print(f\"Node {nref} can reach all other nodes.\")\n",
    "else:\n",
    "    print(f\"Node {nref} cannot reach all other nodes.\")"
   ]
  }
 ],
 "metadata": {
  "kernelspec": {
   "display_name": "Python 3 (ipykernel)",
   "language": "python",
   "name": "python3"
  },
  "language_info": {
   "codemirror_mode": {
    "name": "ipython",
    "version": 3
   },
   "file_extension": ".py",
   "mimetype": "text/x-python",
   "name": "python",
   "nbconvert_exporter": "python",
   "pygments_lexer": "ipython3",
   "version": "3.11.3"
  },
  "toc-autonumbering": true,
  "toc-showcode": true,
  "toc-showmarkdowntxt": true,
  "toc-showtags": true
 },
 "nbformat": 4,
 "nbformat_minor": 5
}
