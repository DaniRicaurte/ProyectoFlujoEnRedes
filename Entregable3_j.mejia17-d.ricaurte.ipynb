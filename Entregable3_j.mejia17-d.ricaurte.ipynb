{
 "cells": [
  {
   "cell_type": "code",
   "execution_count": null,
   "id": "1968f76b-bf68-4ea4-8151-550f5d05a417",
   "metadata": {
    "tags": []
   },
   "outputs": [],
   "source": [
    "import networkx as nx\n",
    "import matplotlib.pyplot as plt\n",
    "import gurobipy as gp\n",
    "import math\n",
    "from gurobipy import *\n",
    "GRB_LICENSE_FILE=\"/Users/juanamejia/gurobi.lic\""
   ]
  },
  {
   "cell_type": "markdown",
   "id": "5b946d36-1a27-4a7d-aca6-e163d3917208",
   "metadata": {
    "tags": []
   },
   "source": [
    "|Estudiante|Código|Correo|\n",
    "|-----|-----|----|\n",
    "|Juana Mejía Botero|20221512|j.mejia17|\n",
    "|Daniela Ricaurte Echeverry|201822966|d.ricaurte|\n",
    "\n",
    "# Proyecto - Entrega 3\n",
    "\n",
    "\n",
    "## Modelo Matemático\n",
    "\n",
    "### Variables del Problema\n",
    "- $y_{ij}$ variable binaria que representa el *estado de la llave de interconexión* entre i y j, donde esta será 1 si la llave está abierta y 0 si se encuentra cerrada.  \n",
    "- $P_{ij}$ variable continua que representa el flujo de *potencia activa* entre los nodos $i$ y $j$.\n",
    "- $Q_{ij}$ variable continua que representa el flujo de *potencia reactiva* entre los nodos $i$ y $j$.\n",
    "- $I_{ij}$ variable continua que representa el flujo de corriente entre los nodos $i$ y $j$.\n",
    "- $V_{i}$ variable continua  representa el voltaje en el nodo $i$.\n",
    "\n",
    "\n",
    "### Parámetros del Problema\n",
    "\n",
    "- $P_{i}^{D}$ representa la demanda de potencia activa en el nodo $i$ \n",
    "\n",
    "- $Q_{i}^{D}$  representa la demanda de potencia  reactiva en el nodo $i$.\n",
    "\n",
    "- $R_{ij}$ representa la resistencia de la linea entre los nodos $i$ y $j$ \n",
    "\n",
    "- $X_{ij}$ representa la reactancia de la linea entre los nodos $i$ y $j$."
   ]
  },
  {
   "cell_type": "code",
   "execution_count": null,
   "id": "4dfdd295-4d80-4068-a9bd-07e250cdeee0",
   "metadata": {
    "tags": []
   },
   "outputs": [],
   "source": [
    "# Base de datos\n",
    "file = open(\"/Users/juanamejia/Desktop/uni/SVII/FR/datos14.txt\", \"r\",encoding='latin-1')\n",
    "\n",
    "print(file.read())\n",
    "print()\n",
    "\n"
   ]
  },
  {
   "cell_type": "code",
   "execution_count": null,
   "id": "be1741d4-27c8-4b01-9ad9-b6e5a8fb67fd",
   "metadata": {
    "tags": []
   },
   "outputs": [],
   "source": [
    "import re\n",
    "\n",
    "# Define a dictionary to store the values\n",
    "values = {}\n",
    "branches = []\n",
    "bus_demand = []\n",
    "\n",
    "\n",
    "# Define regular expressions to match the variables and their values\n",
    "patterns = {\n",
    "    'nref': r'nref\\s*=\\s*([\\d.]+);',\n",
    "    'vref': r'vref\\s*=\\s*([\\d.]+);',\n",
    "    'vbase': r'vbase\\s*=\\s*([\\d.]+);',\n",
    "    'sbase': r'sbase\\s*=\\s*([\\d.]+);',\n",
    "    'tol': r'tol\\s*=\\s*([\\d.eE+-]+);',  # Updated for exponent notation\n",
    "    'vmin': r'vmin\\s*=\\s*([\\d.]+);',\n",
    "    'vmax': r'vmax\\s*=\\s*([\\d.]+);',\n",
    "    'zbase': r'zbase\\s*=\\s*([\\d.]+);',\n",
    "}\n",
    "\n",
    "branch_pattern = r'ramos\\s*=\\s*\\[(.*?)\\];'\n",
    "bus_demand_pattern = r'barras\\s*=\\s*\\[(.*?)\\];'\n",
    "\n",
    "# Read the content of the file\n",
    "file_path = \"/Users/juanamejia/Desktop/uni/SVII/FR/datos14.txt\"\n",
    "with open(file_path, \"r\",encoding='latin-1' ) as file:\n",
    "    text = file.read()\n",
    "\n",
    "# Extract the values using regular expressions\n",
    "for key, pattern in patterns.items():\n",
    "    match = re.search(pattern, text, re.IGNORECASE)\n",
    "    if match:\n",
    "        if key == 'tol':\n",
    "            print(key)\n",
    "            base, exponent = match.group(1).split('e')\n",
    "            values[key] = float(base) * 10 ** int(exponent)\n",
    "        else:\n",
    "            values[key] = float(match.group(1))\n",
    "print (values)\n",
    "# Print the extracted values\n",
    "for key, value in values.items():\n",
    "    print(\"items\")\n",
    "    print(f\"{key}: {value}\")\n",
    "    \n",
    "\n",
    "# Extract branch data using the pattern\n",
    "match = re.search(branch_pattern, text, re.DOTALL)\n",
    "if match:\n",
    "    branch_data = match.group(1)\n",
    "\n",
    "    # Split the data into individual lines and remove comments\n",
    "    branch_lines = branch_data.split('\\n')\n",
    "    branch_lines = [line.strip() for line in branch_lines if not line.strip().startswith('%')]\n",
    "\n",
    "    # Split each line into individual values and convert them to floats\n",
    "    for line in branch_lines:\n",
    "        valores = line.split()\n",
    "        if len(valores) == 4:\n",
    "            branch = [float(valor) for valor in valores]\n",
    "            branches.append(branch)\n",
    "\n",
    "# Print the extracted branch data\n",
    "for branch in branches:\n",
    "    print(branch)\n",
    "\n",
    "match = re.search(bus_demand_pattern, text, re.DOTALL)\n",
    "if match:\n",
    "    bus_demand_data = match.group(1)\n",
    "\n",
    "    # Split the data into individual lines and remove comments\n",
    "    bus_demand_lines = bus_demand_data.split('\\n')\n",
    "    bus_demand_lines = [line.strip() for line in bus_demand_lines if not line.strip().startswith('%')]\n",
    "\n",
    "    # Split each line into individual values and convert them to floats\n",
    "    for line in bus_demand_lines:\n",
    "        valores = line.split()\n",
    "        if len(valores) >= 4:\n",
    "            bus = [int(valores[0]), float(valores[1]), float(valores[2]), float(valores[3])]\n",
    "            bus_demand.append(bus)\n",
    "\n",
    "# Print the extracted bus demand data\n",
    "for bus in bus_demand:\n",
    "    print(bus)\n",
    "\n"
   ]
  },
  {
   "cell_type": "code",
   "execution_count": null,
   "id": "1c6be099-c9f9-42b8-b32a-28915cc94367",
   "metadata": {
    "tags": []
   },
   "outputs": [],
   "source": [
    "\n",
    "nref=values.get(\"nref\")\n",
    "nodes = list(range(1,int(nref)+1))\n",
    "print(nodes)"
   ]
  },
  {
   "cell_type": "code",
   "execution_count": null,
   "id": "d3b84c9c-c4a4-47b4-a2f3-2a40e7530496",
   "metadata": {
    "tags": []
   },
   "outputs": [],
   "source": [
    "potencias = ['Activa', 'Reactiva']\n",
    "pd = {}\n",
    "qd = {}\n",
    "\n",
    "for bus in bus_demand:\n",
    "    node = bus[0]\n",
    "    active_power = bus[1]\n",
    "    reactive_power = bus[2]\n",
    "    pd[(node)] = active_power\n",
    "    qd[( node)] = reactive_power\n",
    "\n",
    "print(\"active\")\n",
    "for key, value in pd.items():\n",
    "\n",
    "    print(key, value)\n",
    "\n",
    "print(\"reactive\")\n",
    "for key, value in qd.items():\n",
    "    print(key, value)"
   ]
  },
  {
   "cell_type": "code",
   "execution_count": null,
   "id": "2896ab5d-7fe5-47a4-857a-05f44faf73cd",
   "metadata": {
    "tags": []
   },
   "outputs": [],
   "source": [
    "pd.get(14)"
   ]
  },
  {
   "cell_type": "code",
   "execution_count": null,
   "id": "114d6865-92a0-430e-a849-f95398fd3bdd",
   "metadata": {
    "tags": []
   },
   "outputs": [],
   "source": [
    "impedencia = [\"Resistencia\", \"Reactancia\" ]\n",
    "\n",
    "#resistencia\n",
    "r = {}\n",
    "#Reactancia\n",
    "x = {}\n",
    "#arcos\n",
    "B = []\n",
    "\n",
    "for branch in branches:\n",
    "    from_node = int(branch[0])\n",
    "    to_node = int(branch[1])\n",
    "    resistance = branch[2]\n",
    "    reactance = branch[3]\n",
    "    \n",
    "    \n",
    "    B.append( (from_node, to_node))\n",
    "    r[( from_node, to_node)] = resistance*0.01\n",
    "    x[( from_node, to_node)] = reactance*0.01\n",
    "\n",
    "print(\"Resistencia\")\n",
    "for key, value in r.items():\n",
    "    print(key, value)\n",
    "\n",
    "print(\"Reactancia\")\n",
    "for key, value in x.items():\n",
    "    print(key, value)\n",
    "    \n",
    "print(\"arcos\")\n",
    "print(B)"
   ]
  },
  {
   "cell_type": "code",
   "execution_count": null,
   "id": "6f9052f6-92a8-438d-876d-11f4fd13815a",
   "metadata": {
    "tags": []
   },
   "outputs": [],
   "source": [
    "print(r.get((14,13)))"
   ]
  },
  {
   "cell_type": "markdown",
   "id": "408d3678-d401-4c44-a64d-a15e45dc27e8",
   "metadata": {},
   "source": [
    "# Visualización del grafo"
   ]
  },
  {
   "cell_type": "code",
   "execution_count": null,
   "id": "435a858d-def5-4f15-b020-8d945aaf3fba",
   "metadata": {
    "tags": []
   },
   "outputs": [
    {
     "data": {
      "image/png": "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",
      "text/plain": [
       "<Figure size 640x480 with 1 Axes>"
      ]
     },
     "metadata": {},
     "output_type": "display_data"
    }
   ],
   "source": [
    "# Crear un grafo dirigido\n",
    "G = nx.DiGraph()\n",
    "\n",
    "# Añadir nodos\n",
    "for node in nodes:\n",
    "    G.add_node(node)\n",
    "    \n",
    "for i, j in B:\n",
    "    G.add_edge(i,j)\n",
    "    \n",
    "pos = nx.spring_layout(G)\n",
    "nx.draw(G, pos, with_labels=True, node_size=1000, node_color='lightgray', arrowsize=20, width=2, font_size=15)"
   ]
  },
  {
   "cell_type": "markdown",
   "id": "05c37abc-d6d4-4438-9eaf-963a79b9e612",
   "metadata": {},
   "source": [
    "Creación del modelo\n",
    "\n",
    "\n",
    "Para le modelo t=1"
   ]
  },
  {
   "cell_type": "code",
<<<<<<< HEAD
   "execution_count": 10,
=======
   "execution_count": null,
>>>>>>> 4c9577f977aa2997aebd38f447a3a4b4350a6aa9
   "id": "90840822-6bde-49ee-8b43-e07baacd4191",
   "metadata": {
    "tags": []
   },
<<<<<<< HEAD
   "outputs": [
    {
     "name": "stdout",
     "output_type": "stream",
     "text": [
      "Set parameter Username\n",
      "Academic license - for non-commercial use only - expires 2024-10-22\n",
      "21.39 24.150000000000002\n"
     ]
    }
   ],
=======
   "outputs": [],
>>>>>>> 4c9577f977aa2997aebd38f447a3a4b4350a6aa9
   "source": [
    "# Create optimization model\n",
    "m = gp.Model(\"RSD\")\n",
    "#Constantes\n",
    "\n",
    "#tolerancia\n",
    "tol=0.0000001\n",
    "\n",
    "# b=lo que genera/consume cada nodo\n",
    "b_v= 0.1\n",
    "\n",
    "# tension minimima kV\n",
    "vmin=float(values.get(\"vmin\"))*float(values.get(\"vbase\"))\n",
    "\n",
    "# tension maxima kV\n",
    "vmax= float(values.get(\"vmax\"))*float(values.get(\"vbase\"))\n",
    "\n",
    "# Potencia base kW\n",
    "sbase= values.get(\"sbase\")/0.8\n",
    "\n",
    "print(vmin, vmax)\n",
    "# Variables\n",
    "# Estado de la llave del arco i y j\n",
    "y =  m.addVars(nodes, nodes,  vtype=GRB.BINARY, name=\"y\")\n",
    "\n",
    "# Flujo de potencia activa entre los nodos i y j \n",
    "P =  m.addVars(nodes,nodes, vtype=GRB.CONTINUOUS, name=\"P\")\n",
    "\n",
    "# Flujo de potencia reactiva entre los nodos i y j \n",
    "Q = m.addVars(nodes,nodes,  vtype=GRB.CONTINUOUS, name=\"Q\")\n",
    "\n",
    "# Flujo de Corriente entre los nodos i y j\n",
    "I = m.addVars(nodes,nodes,  vtype=GRB.CONTINUOUS, name=\"I\")\n",
    "\n",
    "# Raiz cuadrada del flujo de Corriente entre los nodos i y j\n",
    "Isqrt = m.addVars(nodes,nodes,  vtype=GRB.CONTINUOUS, name=\"Isqrt\")\n",
    "\n",
    "# Voltaje del nodo i\n",
    "V = m.addVars(nodes,  vtype=GRB.CONTINUOUS, lb=vmin, ub=vmax, name=\"V\")\n",
    "\n",
    "# Raiz cuadrada del voltaje del nodo i\n",
    "Vsqrt = m.addVars(nodes, vtype=GRB.CONTINUOUS, name=\"Vsqrt\")\n",
    "\n",
    "# Delta del V\n",
    "deltaV= m.addVars(nodes,nodes,  vtype=GRB.CONTINUOUS, name=\"deltaV\")\n"
   ]
  },
  {
   "cell_type": "code",
<<<<<<< HEAD
   "execution_count": 11,
=======
   "execution_count": null,
   "id": "8922c833-57e5-48ea-9c6b-f5a65ceca433",
   "metadata": {
    "tags": []
   },
   "outputs": [],
   "source": [
    "print (r[14,13])"
   ]
  },
  {
   "cell_type": "code",
   "execution_count": null,
   "id": "b885cfc6-38aa-42d2-9bcd-f1ce889a2183",
   "metadata": {
    "tags": []
   },
   "outputs": [],
   "source": [
    "for (i,j)in B:\n",
    "    print(r[i, j] )"
   ]
  },
  {
   "cell_type": "code",
   "execution_count": null,
   "id": "e08078d2-7084-4297-a0e1-233908a38b0b",
   "metadata": {
    "tags": []
   },
   "outputs": [],
   "source": [
    "for (i,j)in B:\n",
    "    print(x[i, j] )"
   ]
  },
  {
   "cell_type": "code",
   "execution_count": null,
   "id": "39a26f1b-1134-476e-90c7-957638e922bc",
   "metadata": {
    "tags": []
   },
   "outputs": [],
   "source": [
    "for i in pd:\n",
    "    print(pd[i] )"
   ]
  },
  {
   "cell_type": "code",
   "execution_count": null,
>>>>>>> 4c9577f977aa2997aebd38f447a3a4b4350a6aa9
   "id": "30efaf4d-ec34-4597-879f-49fedaad5a41",
   "metadata": {
    "tags": []
   },
   "outputs": [],
   "source": [
    "for (i, j) in B:\n",
    "    m.addConstr(Isqrt[i, j] * Isqrt[i, j] == I[i, j], name=f\"sqrt_constraint_I_{i}_{j}\")"
   ]
  },
  {
   "cell_type": "code",
<<<<<<< HEAD
   "execution_count": 12,
=======
   "execution_count": null,
>>>>>>> 4c9577f977aa2997aebd38f447a3a4b4350a6aa9
   "id": "97f1c256-f20f-4343-8a28-a2833d048d75",
   "metadata": {
    "tags": []
   },
   "outputs": [],
   "source": [
    "for i in nodes:\n",
    "    m.addConstr(Vsqrt[i] * Vsqrt[i] == V[i], name=f\"sqrt_constraint_V_{i}_{j}\")"
   ]
  },
  {
   "cell_type": "code",
<<<<<<< HEAD
   "execution_count": 13,
=======
   "execution_count": null,
>>>>>>> 4c9577f977aa2997aebd38f447a3a4b4350a6aa9
   "id": "3b309399-acbb-409f-97d4-52820008921e",
   "metadata": {
    "tags": []
   },
   "outputs": [],
   "source": [
    "m.update()"
   ]
  },
  {
   "cell_type": "markdown",
   "id": "6155ed3e-202d-4206-a5f2-bae0b7f35ca6",
   "metadata": {},
   "source": [
    "### Función Objetivo\n",
    "\n",
    "$$\n",
    "Min \\sum\\limits_{ij \\in {B}} {{R_{ij}}I_{ij}^{sqr}};\n",
    "$$\n"
   ]
  },
  {
   "cell_type": "code",
<<<<<<< HEAD
   "execution_count": 14,
=======
   "execution_count": null,
>>>>>>> 4c9577f977aa2997aebd38f447a3a4b4350a6aa9
   "id": "f4829c18-026b-4232-912c-29b4206d2cef",
   "metadata": {
    "tags": []
   },
   "outputs": [],
   "source": [
    "FO = LinExpr()\n",
    "for (i, j) in B:\n",
    "    FO += Isqrt[i,j] * r[i, j]*y[i,j]\n",
    "\n",
    "m.setObjective(FO, GRB.MINIMIZE)\n",
    "    "
   ]
  },
  {
   "cell_type": "markdown",
   "id": "aca66814-d283-464d-b65a-b0d05c33f010",
   "metadata": {},
   "source": [
    "### Restricciones del problema"
   ]
  },
  {
   "cell_type": "markdown",
   "id": "7555fd10-5118-4f47-b153-c86715ad7cb4",
   "metadata": {},
   "source": [
    "1. Equilibrio de potencia activa: esta restricción regula que la cantidad total de potencia activa que es consumida en el sistema eléctrico sea igual a la generada y entregada al sistema, además debe ser igual a la demandada del nodo. \n",
    "\n",
    "$$\n",
    "\\sum\\limits_{ki \\in {B}} {{P_{ki}}}   - \\sum\\limits_{ij \\in {B}} {\\left( {{P_{ij}} + {R_{ij}}I_{ij}^{sqr}} \\right)} + P_{i,t}^S = P_{i,t}^D;\\forall i \\in {N}\n",
    "$$"
   ]
  },
  {
   "cell_type": "code",
<<<<<<< HEAD
   "execution_count": 15,
=======
   "execution_count": null,
   "id": "fac6f84a-c21d-4094-a8a9-523bfe7372ee",
   "metadata": {
    "tags": []
   },
   "outputs": [],
   "source": [
    "print(values.get(\"sbase\"))"
   ]
  },
  {
   "cell_type": "code",
   "execution_count": null,
>>>>>>> 4c9577f977aa2997aebd38f447a3a4b4350a6aa9
   "id": "50a7cb4d-ac1d-4363-af34-864652f8dd34",
   "metadata": {},
   "outputs": [],
   "source": [
    "#si\n",
    "for i in nodes:\n",
    "    \n",
    "    expr1 =0\n",
    "    expr2 =0\n",
    "    for k in nodes:\n",
    "        if ((k,i) in B):\n",
    "            expr1+=(P[k, i])\n",
    "    \n",
    "    for j in nodes:\n",
    "        if ((i,j) in B):\n",
    "            expr2+= P[i, j] + r[i, j] * Isqrt[i, j]\n",
    "    \n",
    "    \n",
    "    r1 = expr1 - expr2 + sbase\n",
    "    \n",
    "    \n",
    "    m.addConstr(r1 == pd[i], name=f\"demanda potencia activa _{i}\")\n"
   ]
  },
  {
   "cell_type": "markdown",
   "id": "d2516c16-54b1-4777-ad07-d8166cfb66db",
   "metadata": {},
   "source": [
    "2. Equilibrio de potencia reactiva: permite que la cantidad total de potencia reactiva que es consumida en el sistema eléctrico sea igual a la generada y entregada al sistema y debe igualar la demanda del nodo.\n",
    "\n",
    "$$\n",
    "\\sum\\limits_{ki \\in {B}} {{Q_{ki,t}}}   - \\sum\\limits_{ij \\in {B}} {\\left( {{Q_{ij,t}} + {X_{ij}}I_{ij,t}^{sqr}} \\right)}  + Q_{i,t}^S= Q_{i,t}^D;\\forall i \\in {N},    \\forall t \\in {T}\n",
    "$$ "
   ]
  },
  {
   "cell_type": "code",
<<<<<<< HEAD
   "execution_count": 16,
=======
   "execution_count": null,
>>>>>>> 4c9577f977aa2997aebd38f447a3a4b4350a6aa9
   "id": "e8fe7987-6457-482d-b866-355b43e5606f",
   "metadata": {},
   "outputs": [],
   "source": [
<<<<<<< HEAD
    "for i in nodes:\n",
    "    \n",
    "    expr1 =0\n",
    "    expr2 =0\n",
    "    for k in nodes:\n",
    "        if ((k,i) in B):\n",
    "            expr1+=(Q[k, i])\n",
    "    \n",
    "    for j in nodes:\n",
    "        if ((i,j) in B):\n",
    "            expr2+= Q[i, j] + x[i, j] * Isqrt[i, j]\n",
    "    \n",
    "\n",
    "    r1 = expr1 - expr2 + sbase\n",
    "    \n",
    "\n",
    "    m.addConstr(r1 == qd[i], name=f\"demanda potencia reactiva _{i}\")\n"
=======
    "#si\n",
    "for i in nodes: \n",
    "    expr1= quicksum(Q[k,i] for (k,i) in B)\n",
    "    expr2= quicksum((Q[i,j] + r[i,j]*Isqrt[i,j]) for (i,j) in B)\n",
    "    r2= expr1-expr2+ sbase\n",
    "    m.addConstr(r2== qd[i], name=f\"demanda potencia reactiva _{i}\")"
>>>>>>> 4c9577f977aa2997aebd38f447a3a4b4350a6aa9
   ]
  },
  {
   "cell_type": "markdown",
   "id": "5e32b3dd-f3fe-4629-ad23-2ae087b8088c",
   "metadata": {},
   "source": [
    "3. Restricción del limite de la magnitud de tensión. El voltaje debe encontrarse entre un rango especifico. \n",
    "\n",
    "$$\n",
    "{V_{i,t}^{sqr} = V_{j,t}^{sqr} + 2\\left( {{R_{ij}}{P_{ij,t}} + {X_{ij}}{Q_{ij,t}}} \\right)}- Z_{ij}^2{I_{ij,t}^{sqr}} + \\Delta_{ij,t}^{V}; \\forall ij \\in {B},  \\forall  t \\in {T}\n",
    "$$\n",
    "\n",
    "$$\n",
    "{V_{i}^{sqr} = V_{j}^{sqr} + 2\\left( {{R_{ij}}{P_{ij}} + {X_{ij}}{Q_{ij}}} \\right)}- (x_{ij}^2+r_{i,j}^2){I_{ij}^{sqr}} + \\Delta_{ij}^{V}; \\forall ij \\in {B}\n",
    "$$\n",
    "\n",
    "$Z_{i,j}=x_{ij}^2+r_{i,j}^2$"
   ]
  },
  {
   "cell_type": "code",
<<<<<<< HEAD
   "execution_count": 17,
=======
   "execution_count": null,
>>>>>>> 4c9577f977aa2997aebd38f447a3a4b4350a6aa9
   "id": "ca768179-d8f5-4a47-be08-3d2530966b8a",
   "metadata": {},
   "outputs": [],
   "source": [
    "#no pero da 0 \n",
    "for i,j in B: \n",
    "    expr1= 2*(P[(i, j)] * r[i,j] +Q[(i, j)] *x[i,j])\n",
    "    expr2= (x[i,j]**2 + r[i,j]**2) *Isqrt[i,j]\n",
    "    r3= Vsqrt[(j)] + expr1 - expr2 + deltaV[i,j]\n",
    "    \n",
    "    m.addConstr(Vsqrt[i]==r3,name=f\"limite de magnitud de tensión\")\n",
    "    \n"
   ]
  },
  {
   "cell_type": "markdown",
   "id": "4abe8ed5-4542-4b65-b343-7cd347057ec4",
   "metadata": {},
   "source": [
    "4. Restricción que permite regular la magnitud de tensión entre los nodos del sistema con respecto al estado de conexión/desconexión de las llaves de interconexión entre los nodos. \n",
    "\n",
    "$$\n",
    "- {b^V}( {1 - {y_{ij}^B}}) \\le \\Delta _{ij}^V \\le {b^V}( {1 -  {y_{ij}^B}});\\forall ij \\in B\n",
    "$$\n",
    "b= lo que genera/consume cada nodo\n"
   ]
  },
  {
   "cell_type": "code",
<<<<<<< HEAD
   "execution_count": 18,
=======
   "execution_count": null,
>>>>>>> 4c9577f977aa2997aebd38f447a3a4b4350a6aa9
   "id": "eb773f75-2b19-4076-9156-b872593c6164",
   "metadata": {},
   "outputs": [],
   "source": [
    "#no\n",
    "for (i,j) in B: \n",
    "    expr1= -b_v *(1 - y[i, j])\n",
    "    m.addConstr(expr1 <= deltaV[(i, j)] ,name=f\"regular la magnitud minima de tensión entre los nodos del sistema con respecto a las llaves\")\n",
    "    expr2 = b_v * (1 - y[i, j])\n",
    "    m.addConstr(deltaV[(i, j)]<= expr2,name=f\"regular la magnitud maxima de tensión entre los nodos del sistema con respecto a las llaves\")\n",
    "\n",
    "   "
   ]
  },
  {
   "cell_type": "markdown",
   "id": "2d3e0b97-833e-492f-828c-21c73b4f9588",
   "metadata": {},
   "source": [
    "5. Restricción que permite que se sigan las leyes de la conservación de energía en el sistema eléctrico y tiene en cuenta la relación entre las magnitudes de tensión, corriente y potencias activas y reactivas\n",
    "$$\n",
    "V_{j}^{sqr} I_{ij}^{sqr} = P_{ij}^2 +  Q_{ij}^2;\\forall ij \\in {B}\n",
    "$$\n",
    "\n",
    "Esta se debe de linealizar, para lograr que sea una restricción optima de LP"
   ]
  },
  {
   "cell_type": "code",
<<<<<<< HEAD
   "execution_count": 19,
=======
   "execution_count": null,
>>>>>>> 4c9577f977aa2997aebd38f447a3a4b4350a6aa9
   "id": "d9c6881d-26e6-495e-89ac-cc56b5d1761b",
   "metadata": {},
   "outputs": [],
   "source": [
    "#no pero da 0 \n",
    "for (i,j) in B:\n",
    "    m.addConstr(Vsqrt[j] * Isqrt[i, j] == P[i, j] * P[i, j] + Q[i, j] * Q[i, j],\n",
    "                    name=f\"restriccion_cuadratica_{i}_{j}\")"
   ]
  },
  {
   "cell_type": "markdown",
   "id": "e7eebccb-e47f-495f-82cd-01e41122f00a",
   "metadata": {
    "tags": []
   },
   "source": [
    "6. Conservación de potencia en el sistema eléctrico. \n",
    "\n",
    "$$\n",
    "{ {\\underline V }^2} \\le V_{i}^{sqr} \\le {\\overline V }^2;\\forall i \\in N\n",
    "$$"
   ]
  },
  {
   "cell_type": "code",
<<<<<<< HEAD
   "execution_count": 20,
=======
   "execution_count": null,
>>>>>>> 4c9577f977aa2997aebd38f447a3a4b4350a6aa9
   "id": "aa74b776-95f8-4ed9-b4f7-21d272ee0546",
   "metadata": {},
   "outputs": [],
   "source": [
    "#si\n",
    "for i in nodes:\n",
    "    m.addConstr(vmin**2<= Vsqrt[i], name =f\" Conservación_minima_de_potencia_{i}\")\n",
    "    m.addConstr(Vsqrt[i]<=vmax**2, name =f\" Conservación_maxima_de_potencia_{i}\")"
   ]
  },
  {
   "cell_type": "markdown",
   "id": "5453bec0-86ff-49e4-bd1c-cca99e80be27",
   "metadata": {},
   "source": [
    "7. Límites al cuadrado de la magnitud de la corriente entre los nodos i y j cuando la llave de interconexión se encuentre abierta. \n",
    "\n",
    "$$\n",
    "0 \\le I_{ij}^{sqr} \\le \\overline I_{ij}^2 y_{ij}^B;\\forall ij \\in {B}\n",
    "$$\n",
    "\n",
    "$  \\overline I_{ij} = V_{max} / R_{i,j}$\n"
   ]
  },
  {
   "cell_type": "code",
<<<<<<< HEAD
   "execution_count": 21,
=======
   "execution_count": null,
>>>>>>> 4c9577f977aa2997aebd38f447a3a4b4350a6aa9
   "id": "b7893d60-d912-40a7-85fa-39523f0d2fc4",
   "metadata": {},
   "outputs": [],
   "source": [
    "#no pero da 0 \n",
    "for (i,j) in B:\n",
    "    m.addConstr(0<=Isqrt[i,j], name=f\"magnitud_minima_Corriente_{i}_{j}\")\n",
    "    m.addConstr(Isqrt[i,j]<= (vmax/r[i,j])**2*y[i,j], name=f\"magnitud_maxima_Corriente_{i}_{j}\")\n",
    "    "
   ]
  },
  {
   "cell_type": "markdown",
   "id": "c24be64b-874e-4c4e-bf1d-4509166e2cb7",
   "metadata": {},
   "source": [
    "8. Restricción de radialidad\n",
    "\n",
    "$$\\sum_{ij \\in B}{ y_{ij,t}^B} = |N|- |N_{sub}|$$\n",
    "\n",
    "Para le caso Nsub= 1, entonces\n",
    "\n",
    "$$\\sum_{ij \\in B}{ y_{ij,t}^B} = |N|- 1$$\n"
   ]
  },
  {
   "cell_type": "code",
<<<<<<< HEAD
   "execution_count": 22,
=======
   "execution_count": null,
>>>>>>> 4c9577f977aa2997aebd38f447a3a4b4350a6aa9
   "id": "ac60b9a3-7871-4366-8f3e-eb50e37e4753",
   "metadata": {
    "tags": []
   },
   "outputs": [],
   "source": [
    "print(nodes)\n",
    "print(len(nodes))"
   ]
  },
  {
   "cell_type": "code",
<<<<<<< HEAD
   "execution_count": 23,
   "id": "eb56b4e4-63e2-49cf-9424-3c3f78b43070",
   "metadata": {},
   "outputs": [
    {
     "data": {
      "text/plain": [
       "<gurobi.Constr *Awaiting Model Update*>"
      ]
     },
     "execution_count": 23,
     "metadata": {},
     "output_type": "execute_result"
    }
   ],
=======
   "execution_count": null,
   "id": "eb56b4e4-63e2-49cf-9424-3c3f78b43070",
   "metadata": {},
   "outputs": [],
>>>>>>> 4c9577f977aa2997aebd38f447a3a4b4350a6aa9
   "source": [
    "valor=0\n",
    "\n",
    "for (i,j) in B:\n",
    "    valor+=y[i,j]\n",
    "    \n",
    "m.addConstr(valor ==len(nodes)-1, name=f\"Restriccione_de_radialidad\")"
   ]
  },
  {
   "cell_type": "code",
<<<<<<< HEAD
   "execution_count": 24,
=======
   "execution_count": null,
>>>>>>> 4c9577f977aa2997aebd38f447a3a4b4350a6aa9
   "id": "6c417ee2-8a78-4042-8d50-1100a2695098",
   "metadata": {
    "tags": []
   },
   "outputs": [],
   "source": [
    "m.update()"
   ]
  },
  {
   "cell_type": "code",
<<<<<<< HEAD
   "execution_count": 25,
   "id": "9cfe737e-920d-4726-8e8a-0cde855a77c4",
   "metadata": {},
   "outputs": [
    {
     "name": "stdout",
     "output_type": "stream",
     "text": [
      "Gurobi Optimizer version 10.0.3 build v10.0.3rc0 (win64)\n",
      "\n",
      "CPU model: 12th Gen Intel(R) Core(TM) i5-1240P, instruction set [SSE2|AVX|AVX2]\n",
      "Thread count: 12 physical cores, 16 logical processors, using up to 16 threads\n",
      "\n",
      "Optimize a model with 137 rows, 1204 columns and 348 nonzeros\n",
      "Model fingerprint: 0x6ca22a57\n",
      "Model has 16 quadratic objective terms\n",
      "Model has 46 quadratic constraints\n",
      "Variable types: 1008 continuous, 196 integer (196 binary)\n",
      "Coefficient statistics:\n",
      "  Matrix range     [3e-03, 4e+05]\n",
      "  QMatrix range    [1e+00, 1e+00]\n",
      "  QLMatrix range   [1e+00, 1e+00]\n",
      "  Objective range  [0e+00, 0e+00]\n",
      "  QObjective range [8e-02, 2e-01]\n",
      "  Bounds range     [1e+00, 2e+01]\n",
      "  RHS range        [1e-01, 1e+05]\n",
      "Presolve removed 46 rows and 1080 columns\n",
      "Presolve time: 0.00s\n",
      "\n",
      "Explored 0 nodes (0 simplex iterations) in 0.04 seconds (0.00 work units)\n",
      "Thread count was 1 (of 16 available processors)\n",
      "\n",
      "Solution count 0\n",
      "\n",
      "Model is infeasible or unbounded\n",
      "Best objective -, best bound -, gap -\n"
     ]
    }
   ],
=======
   "execution_count": null,
   "id": "9cfe737e-920d-4726-8e8a-0cde855a77c4",
   "metadata": {},
   "outputs": [],
>>>>>>> 4c9577f977aa2997aebd38f447a3a4b4350a6aa9
   "source": [
    "m.setParam('NonConvex', 2)\n",
    "m.optimize()"
   ]
  },
  {
   "cell_type": "code",
   "execution_count": 26,
   "id": "dd09915c-6aaf-40f8-a10b-cf4c1017e783",
   "metadata": {},
   "outputs": [
    {
     "name": "stdout",
     "output_type": "stream",
     "text": [
      "IIS computation: initial model status unknown, solving to determine model status\n",
      "Presolve removed 46 rows and 1080 columns\n",
      "Presolve time: 0.00s\n",
      "\n",
      "Explored 0 nodes (0 simplex iterations) in 0.01 seconds (0.00 work units)\n",
      "Thread count was 1 (of 16 available processors)\n",
      "\n",
      "Solution count 0\n",
      "\n",
      "Model is infeasible\n",
      "Best objective -, best bound -, gap -\n",
      "\n",
      "IIS computed: 1 constraints, 2 bounds\n",
      "IIS runtime: 0.03 seconds (0.00 work units)\n"
     ]
    }
   ],
   "source": [
    "m.computeIIS()"
   ]
  },
  {
   "cell_type": "code",
   "execution_count": 27,
   "id": "e1feab80-2e82-434d-be44-727848950d4c",
   "metadata": {
    "tags": []
   },
   "outputs": [
    {
     "name": "stdout",
     "output_type": "stream",
     "text": [
      "\n",
      "IIS computed: 1 constraints, 2 bounds\n",
      "IIS runtime: 0.01 seconds (0.00 work units)\n"
     ]
    }
   ],
   "source": [
    "if m.Status == GRB.INFEASIBLE:\n",
    "    m.computeIIS()\n",
    "    m.write('iismodel.ilp')"
   ]
  },
  {
   "cell_type": "code",
   "execution_count": 28,
   "id": "af5ca039-d743-4bc9-a806-247f253d6a0c",
   "metadata": {
    "tags": []
   },
   "outputs": [
    {
     "name": "stdout",
     "output_type": "stream",
     "text": [
      "\n",
      "The following constraints and variables are in the IIS:\n",
      "\tdemanda potencia activa _1: P[2,1] + P[10,1] = -122900.0\n",
      "\tP[2,1] ≥ 0.0\n",
      "\tP[10,1] ≥ 0.0\n"
     ]
    }
   ],
   "source": [
    "# Print out the IIS constraints and variables\n",
    "print('\\nThe following constraints and variables are in the IIS:')\n",
    "for c in m.getConstrs():\n",
    "    if c.IISConstr: \n",
    "        print(f'\\t{c.constrname}: {m.getRow(c)} {c.Sense} {c.RHS}')\n",
    "\n",
    "\n",
    "for v in m.getVars():\n",
    "\n",
    "    if v.IISLB: print(f'\\t{v.varname} ≥ {v.LB}')\n",
    "    if v.IISUB: print(f'\\t{v.varname} ≤ {v.UB}')"
   ]
  }
 ],
 "metadata": {
  "kernelspec": {
   "display_name": "Python 3.9.7 64-bit ('anaconda3')",
   "language": "python",
   "name": "python3"
  },
  "language_info": {
   "codemirror_mode": {
    "name": "ipython",
    "version": 3
   },
   "file_extension": ".py",
   "mimetype": "text/x-python",
   "name": "python",
   "nbconvert_exporter": "python",
   "pygments_lexer": "ipython3",
   "version": "3.9.7"
  },
  "toc-autonumbering": true,
  "toc-showcode": true,
  "toc-showmarkdowntxt": true,
  "toc-showtags": true,
  "vscode": {
   "interpreter": {
    "hash": "0e5b05a2c72109a80a1739f4a0fb6a82aaaba83a4949d7c1fc365c11fc8240a3"
   }
  }
 },
 "nbformat": 4,
 "nbformat_minor": 5
}
