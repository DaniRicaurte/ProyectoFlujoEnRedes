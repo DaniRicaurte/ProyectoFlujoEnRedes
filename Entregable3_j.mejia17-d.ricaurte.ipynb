{
 "cells": [
  {
   "cell_type": "code",
   "execution_count": null,
   "id": "1968f76b-bf68-4ea4-8151-550f5d05a417",
   "metadata": {
    "tags": []
   },
   "outputs": [],
   "source": [
    "import networkx as nx\n",
    "import matplotlib.pyplot as plt\n",
    "import gurobipy as gp\n",
    "import math\n",
    "from gurobipy import *\n",
    "GRB_LICENSE_FILE=\"/Users/juanamejia/gurobi.lic\""
   ]
  },
  {
   "cell_type": "markdown",
   "id": "5b946d36-1a27-4a7d-aca6-e163d3917208",
   "metadata": {
    "tags": []
   },
   "source": [
    "|Estudiante|Código|Correo|\n",
    "|-----|-----|----|\n",
    "|Juana Mejía Botero|20221512|j.mejia17|\n",
    "|Daniela Ricaurte Echeverry|201822966|d.ricaurte|\n",
    "\n",
    "# Proyecto - Entrega 3\n",
    "\n",
    "# Table de Contenido\n",
    "[[_TOC_]]\n",
    "\n",
    "## Modelo Matemático\n",
    "\n",
    "### Variables del Problema\n",
    "- $y_{ij}$ variable binaria que representa el *estado de la llave de interconexión* entre i y j, donde esta será 1 si la llave está abierta y 0 si se encuentra cerrada.  \n",
    "- $P_{ij}$ variable continua que representa el flujo de *potencia activa* entre los nodos $i$ y $j$.\n",
    "- $Q_{ij}$ variable continua que representa el flujo de *potencia reactiva* entre los nodos $i$ y $j$.\n",
    "- $I_{ij}$ variable continua que representa el flujo de corriente entre los nodos $i$ y $j$.\n",
    "- $V_{i}$ variable continua  representa el voltaje en el nodo $i$.\n",
    "\n",
    "\n",
    "### Parámetros del Problema\n",
    "\n",
    "- $P_{i}^{D}$ representa la demanda de potencia activa en el nodo $i$ \n",
    "\n",
    "- $Q_{i}^{D}$  representa la demanda de potencia  reactiva en el nodo $i$.\n",
    "\n",
    "- $R_{ij}$ representa la resistencia de la linea entre los nodos $i$ y $j$ \n",
    "\n",
    "- $X_{ij}$ representa la reactancia de la linea entre los nodos $i$ y $j$."
   ]
  },
  {
   "cell_type": "code",
   "execution_count": null,
   "id": "4dfdd295-4d80-4068-a9bd-07e250cdeee0",
   "metadata": {
    "tags": []
   },
   "outputs": [],
   "source": [
    "# Base de datos\n",
    "file = open(\"/Users/juanamejia/Desktop/uni/SVII/FR/datos14.txt\", \"r\",encoding='latin-1')\n",
    "\n",
    "print(file.read())\n",
    "print()\n",
    "\n"
   ]
  },
  {
   "cell_type": "code",
   "execution_count": null,
   "id": "be1741d4-27c8-4b01-9ad9-b6e5a8fb67fd",
   "metadata": {
    "tags": []
   },
   "outputs": [],
   "source": [
    "import re\n",
    "\n",
    "# Define a dictionary to store the values\n",
    "values = {}\n",
    "branches = []\n",
    "bus_demand = []\n",
    "\n",
    "\n",
    "# Define regular expressions to match the variables and their values\n",
    "patterns = {\n",
    "    'nref': r'nref\\s*=\\s*([\\d.]+);',\n",
    "    'vref': r'vref\\s*=\\s*([\\d.]+);',\n",
    "    'vbase': r'vbase\\s*=\\s*([\\d.]+);',\n",
    "    'sbase': r'sbase\\s*=\\s*([\\d.]+);',\n",
    "    'tol': r'tol\\s*=\\s*([\\d.eE+-]+);',  # Updated for exponent notation\n",
    "    'vmin': r'vmin\\s*=\\s*([\\d.]+);',\n",
    "    'vmax': r'vmax\\s*=\\s*([\\d.]+);',\n",
    "    'zbase': r'zbase\\s*=\\s*([\\d.]+);',\n",
    "}\n",
    "\n",
    "branch_pattern = r'ramos\\s*=\\s*\\[(.*?)\\];'\n",
    "bus_demand_pattern = r'barras\\s*=\\s*\\[(.*?)\\];'\n",
    "\n",
    "# Read the content of the file\n",
    "file_path = \"/Users/juanamejia/Desktop/uni/SVII/FR/datos14.txt\"\n",
    "with open(file_path, \"r\",encoding='latin-1' ) as file:\n",
    "    text = file.read()\n",
    "\n",
    "# Extract the values using regular expressions\n",
    "for key, pattern in patterns.items():\n",
    "    match = re.search(pattern, text, re.IGNORECASE)\n",
    "    if match:\n",
    "        if key == 'tol':\n",
    "            print(key)\n",
    "            base, exponent = match.group(1).split('e')\n",
    "            values[key] = float(base) * 10 ** int(exponent)\n",
    "        else:\n",
    "            values[key] = float(match.group(1))\n",
    "print (values)\n",
    "# Print the extracted values\n",
    "for key, value in values.items():\n",
    "    print(\"items\")\n",
    "    print(f\"{key}: {value}\")\n",
    "    \n",
    "\n",
    "# Extract branch data using the pattern\n",
    "match = re.search(branch_pattern, text, re.DOTALL)\n",
    "if match:\n",
    "    branch_data = match.group(1)\n",
    "\n",
    "    # Split the data into individual lines and remove comments\n",
    "    branch_lines = branch_data.split('\\n')\n",
    "    branch_lines = [line.strip() for line in branch_lines if not line.strip().startswith('%')]\n",
    "\n",
    "    # Split each line into individual values and convert them to floats\n",
    "    for line in branch_lines:\n",
    "        valores = line.split()\n",
    "        if len(valores) == 4:\n",
    "            branch = [float(valor) for valor in valores]\n",
    "            branches.append(branch)\n",
    "\n",
    "# Print the extracted branch data\n",
    "for branch in branches:\n",
    "    print(branch)\n",
    "\n",
    "match = re.search(bus_demand_pattern, text, re.DOTALL)\n",
    "if match:\n",
    "    bus_demand_data = match.group(1)\n",
    "\n",
    "    # Split the data into individual lines and remove comments\n",
    "    bus_demand_lines = bus_demand_data.split('\\n')\n",
    "    bus_demand_lines = [line.strip() for line in bus_demand_lines if not line.strip().startswith('%')]\n",
    "\n",
    "    # Split each line into individual values and convert them to floats\n",
    "    for line in bus_demand_lines:\n",
    "        valores = line.split()\n",
    "        if len(valores) >= 4:\n",
    "            bus = [int(valores[0]), float(valores[1]), float(valores[2]), float(valores[3])]\n",
    "            bus_demand.append(bus)\n",
    "\n",
    "# Print the extracted bus demand data\n",
    "for bus in bus_demand:\n",
    "    print(bus)\n",
    "\n"
   ]
  },
  {
   "cell_type": "code",
   "execution_count": null,
   "id": "1c6be099-c9f9-42b8-b32a-28915cc94367",
   "metadata": {
    "tags": []
   },
   "outputs": [],
   "source": [
    "\n",
    "nref=values.get(\"nref\")\n",
    "nodes = list(range(1,int(nref)+1))\n",
    "print(nodes)"
   ]
  },
  {
   "cell_type": "code",
   "execution_count": null,
   "id": "d3b84c9c-c4a4-47b4-a2f3-2a40e7530496",
   "metadata": {
    "tags": []
   },
   "outputs": [],
   "source": [
    "potencias = ['Activa', 'Reactiva']\n",
    "pd = {}\n",
    "qd = {}\n",
    "\n",
    "for bus in bus_demand:\n",
    "    node = bus[0]\n",
    "    active_power = bus[1]\n",
    "    reactive_power = bus[2]\n",
    "    pd[(node)] = active_power\n",
    "    qd[( node)] = reactive_power\n",
    "\n",
    "print(\"active\")\n",
    "for key, value in pd.items():\n",
    "\n",
    "    print(key, value)\n",
    "\n",
    "print(\"reactive\")\n",
    "for key, value in qd.items():\n",
    "    print(key, value)"
   ]
  },
  {
   "cell_type": "code",
   "execution_count": null,
   "id": "2896ab5d-7fe5-47a4-857a-05f44faf73cd",
   "metadata": {
    "tags": []
   },
   "outputs": [],
   "source": [
    "pd.get(14)"
   ]
  },
  {
   "cell_type": "code",
   "execution_count": null,
   "id": "114d6865-92a0-430e-a849-f95398fd3bdd",
   "metadata": {
    "tags": []
   },
   "outputs": [],
   "source": [
    "impedencia = [\"Resistencia\", \"Reactancia\" ]\n",
    "\n",
    "#resistencia\n",
    "r = {}\n",
    "#Reactancia\n",
    "x = {}\n",
    "#arcos\n",
    "B = []\n",
    "\n",
    "for branch in branches:\n",
    "    from_node = int(branch[0])\n",
    "    to_node = int(branch[1])\n",
    "    resistance = branch[2]\n",
    "    reactance = branch[3]\n",
    "    \n",
    "    \n",
    "    B.append( (from_node, to_node))\n",
    "    r[( from_node, to_node)] = resistance*0.01\n",
    "    x[( from_node, to_node)] = reactance*0.01\n",
    "\n",
    "print(\"Resistencia\")\n",
    "for key, value in r.items():\n",
    "    print(key, value)\n",
    "\n",
    "print(\"Reactancia\")\n",
    "for key, value in x.items():\n",
    "    print(key, value)\n",
    "    \n",
    "print(\"arcos\")\n",
    "print(B)"
   ]
  },
  {
   "cell_type": "code",
   "execution_count": null,
   "id": "6f9052f6-92a8-438d-876d-11f4fd13815a",
   "metadata": {
    "tags": []
   },
   "outputs": [],
   "source": [
    "print(r.get((14,13)))"
   ]
  },
  {
   "cell_type": "code",
   "execution_count": null,
   "id": "435a858d-def5-4f15-b020-8d945aaf3fba",
   "metadata": {
    "tags": []
   },
   "outputs": [],
   "source": [
    "# Crear un grafo dirigido\n",
    "G = nx.DiGraph()\n",
    "\n",
    "# Añadir nodos\n",
    "for node in nodes:\n",
    "    G.add_node(node)\n",
    "    \n",
    "\n",
    "    "
   ]
  },
  {
   "cell_type": "markdown",
   "id": "05c37abc-d6d4-4438-9eaf-963a79b9e612",
   "metadata": {},
   "source": [
    "Creación del modelo\n",
    "\n",
    "\n",
    "Para le modelo t=1"
   ]
  },
  {
   "cell_type": "code",
   "execution_count": null,
   "id": "90840822-6bde-49ee-8b43-e07baacd4191",
   "metadata": {
    "tags": []
   },
   "outputs": [],
   "source": [
    "# Create optimization model\n",
    "m = gp.Model(\"RSD\")\n",
    "#Constantes\n",
    "\n",
    "#tolerancia\n",
    "tol=0.0000001\n",
    "\n",
    "# b=lo que genera/consume cada nodo\n",
    "b_v= 0.1\n",
    "\n",
    "# tension minimima kV\n",
    "vmin=float(values.get(\"vmin\"))*float(values.get(\"vbase\"))\n",
    "\n",
    "# tension maxima kV\n",
    "vmax= float(values.get(\"vmax\"))*float(values.get(\"vbase\"))\n",
    "\n",
    "# Potencia base kW\n",
    "sbase= values.get(\"sbase\")/0.8\n",
    "\n",
    "print(vmin, vmax)\n",
    "# Variables\n",
    "# Estado de la llave del arco i y j\n",
    "y =  m.addVars(nodes, nodes,  vtype=GRB.BINARY, name=\"y\")\n",
    "\n",
    "# Flujo de potencia activa entre los nodos i y j \n",
    "P =  m.addVars(nodes,nodes, vtype=GRB.CONTINUOUS, name=\"P\")\n",
    "\n",
    "# Flujo de potencia reactiva entre los nodos i y j \n",
    "Q = m.addVars(nodes,nodes,  vtype=GRB.CONTINUOUS, name=\"Q\")\n",
    "\n",
    "# Flujo de Corriente entre los nodos i y j\n",
    "I = m.addVars(nodes,nodes,  vtype=GRB.CONTINUOUS, name=\"I\")\n",
    "\n",
    "# Raiz cuadrada del flujo de Corriente entre los nodos i y j\n",
    "Isqrt = m.addVars(nodes,nodes,  vtype=GRB.CONTINUOUS, name=\"Isqrt\")\n",
    "\n",
    "# Voltaje del nodo i\n",
    "V = m.addVars(nodes,  vtype=GRB.CONTINUOUS, lb=vmin, ub=vmax, name=\"V\")\n",
    "\n",
    "# Raiz cuadrada del voltaje del nodo i\n",
    "Vsqrt = m.addVars(nodes, vtype=GRB.CONTINUOUS, name=\"Vsqrt\")\n",
    "\n",
    "# Delta del V\n",
    "deltaV= m.addVars(nodes,nodes,  vtype=GRB.CONTINUOUS, name=\"deltaV\")\n"
   ]
  },
  {
   "cell_type": "code",
   "execution_count": null,
   "id": "8922c833-57e5-48ea-9c6b-f5a65ceca433",
   "metadata": {
    "tags": []
   },
   "outputs": [],
   "source": [
    "print (r[14,13])"
   ]
  },
  {
   "cell_type": "code",
   "execution_count": null,
   "id": "b885cfc6-38aa-42d2-9bcd-f1ce889a2183",
   "metadata": {
    "tags": []
   },
   "outputs": [],
   "source": [
    "for (i,j)in B:\n",
    "    print(r[i, j] )"
   ]
  },
  {
   "cell_type": "code",
   "execution_count": null,
   "id": "e08078d2-7084-4297-a0e1-233908a38b0b",
   "metadata": {
    "tags": []
   },
   "outputs": [],
   "source": [
    "for (i,j)in B:\n",
    "    print(x[i, j] )"
   ]
  },
  {
   "cell_type": "code",
   "execution_count": null,
   "id": "39a26f1b-1134-476e-90c7-957638e922bc",
   "metadata": {
    "tags": []
   },
   "outputs": [],
   "source": [
    "for i in pd:\n",
    "    print(pd[i] )"
   ]
  },
  {
   "cell_type": "code",
   "execution_count": null,
   "id": "30efaf4d-ec34-4597-879f-49fedaad5a41",
   "metadata": {
    "tags": []
   },
   "outputs": [],
   "source": [
    "for (i, j) in B:\n",
    "    m.addConstr(Isqrt[i, j] * Isqrt[i, j] == I[i, j], name=f\"sqrt_constraint_I_{i}_{j}\")"
   ]
  },
  {
   "cell_type": "code",
   "execution_count": null,
   "id": "97f1c256-f20f-4343-8a28-a2833d048d75",
   "metadata": {
    "tags": []
   },
   "outputs": [],
   "source": [
    "for i in nodes:\n",
    "    m.addConstr(Vsqrt[i] * Vsqrt[i] == V[i], name=f\"sqrt_constraint_V_{i}_{j}\")"
   ]
  },
  {
   "cell_type": "code",
   "execution_count": null,
   "id": "3b309399-acbb-409f-97d4-52820008921e",
   "metadata": {
    "tags": []
   },
   "outputs": [],
   "source": [
    "m.update()"
   ]
  },
  {
   "cell_type": "markdown",
   "id": "6155ed3e-202d-4206-a5f2-bae0b7f35ca6",
   "metadata": {},
   "source": [
    "### Función Objetivo\n",
    "\n",
    "$$\n",
    "Min \\sum\\limits_{ij \\in {B}} {{R_{ij}}I_{ij}^{sqr}};\n",
    "$$\n"
   ]
  },
  {
   "cell_type": "code",
   "execution_count": null,
   "id": "f4829c18-026b-4232-912c-29b4206d2cef",
   "metadata": {
    "tags": []
   },
   "outputs": [],
   "source": [
    "FO = LinExpr()\n",
    "for (i, j) in B:\n",
    "    FO += Isqrt[i,j] * r[i, j]\n",
    "\n",
    "m.setObjective(FO, GRB.MINIMIZE)\n",
    "    "
   ]
  },
  {
   "cell_type": "markdown",
   "id": "aca66814-d283-464d-b65a-b0d05c33f010",
   "metadata": {},
   "source": [
    "### Restricciones del problema"
   ]
  },
  {
   "cell_type": "markdown",
   "id": "7555fd10-5118-4f47-b153-c86715ad7cb4",
   "metadata": {},
   "source": [
    "1. Equilibrio de potencia activa: esta restricción regula que la cantidad total de potencia activa que es consumida en el sistema eléctrico sea igual a la generada y entregada al sistema, además debe ser igual a la demandada del nodo. \n",
    "\n",
    "$$\n",
    "\\sum\\limits_{ki \\in {B}} {{P_{ki}}}   - \\sum\\limits_{ij \\in {B}} {\\left( {{P_{ij}} + {R_{ij}}I_{ij}^{sqr}} \\right)} + P_{i,t}^S = P_{i,t}^D;\\forall i \\in {N}\n",
    "$$"
   ]
  },
  {
   "cell_type": "code",
   "execution_count": null,
   "id": "fac6f84a-c21d-4094-a8a9-523bfe7372ee",
   "metadata": {
    "tags": []
   },
   "outputs": [],
   "source": [
    "print(values.get(\"sbase\"))"
   ]
  },
  {
   "cell_type": "code",
   "execution_count": null,
   "id": "50a7cb4d-ac1d-4363-af34-864652f8dd34",
   "metadata": {},
   "outputs": [],
   "source": [
    "#si\n",
    "for i in nodes:\n",
    "    # Create a linear expression for the first part\n",
    "    expr1 = quicksum(P[k, i] for (k, i) in B)\n",
    "    \n",
    "    # Create a linear expression for the second part\n",
    "    expr2 = quicksum((P[i, j] + r[i, j] * Isqrt[i, j]) for (i, j) in B)\n",
    "    \n",
    "    # Subtract the second expression from the first and add sbase\n",
    "    r1 = expr1 - expr2 + sbase\n",
    "    \n",
    "    # Add the constraint\n",
    "    m.addConstr(r1 == pd[i], name=f\"demanda potencia activa _{i}\")\n"
   ]
  },
  {
   "cell_type": "markdown",
   "id": "d2516c16-54b1-4777-ad07-d8166cfb66db",
   "metadata": {},
   "source": [
    "2. Equilibrio de potencia reactiva: permite que la cantidad total de potencia reactiva que es consumida en el sistema eléctrico sea igual a la generada y entregada al sistema y debe igualar la demanda del nodo.\n",
    "\n",
    "$$\n",
    "\\sum\\limits_{ki \\in {B}} {{Q_{ki,t}}}   - \\sum\\limits_{ij \\in {B}} {\\left( {{Q_{ij,t}} + {X_{ij}}I_{ij,t}^{sqr}} \\right)}  + Q_{i,t}^S= Q_{i,t}^D;\\forall i \\in {N},    \\forall t \\in {T}\n",
    "$$ "
   ]
  },
  {
   "cell_type": "code",
   "execution_count": null,
   "id": "e8fe7987-6457-482d-b866-355b43e5606f",
   "metadata": {},
   "outputs": [],
   "source": [
    "#si\n",
    "for i in nodes: \n",
    "    expr1= quicksum(Q[k,i] for (k,i) in B)\n",
    "    expr2= quicksum((Q[i,j] + r[i,j]*Isqrt[i,j]) for (i,j) in B)\n",
    "    r2= expr1-expr2+ sbase\n",
    "    m.addConstr(r2== qd[i], name=f\"demanda potencia reactiva _{i}\")"
   ]
  },
  {
   "cell_type": "markdown",
   "id": "5e32b3dd-f3fe-4629-ad23-2ae087b8088c",
   "metadata": {},
   "source": [
    "3. Restricción del limite de la magnitud de tensión. El voltaje debe encontrarse entre un rango especifico. \n",
    "\n",
    "$$\n",
    "{V_{i,t}^{sqr} = V_{j,t}^{sqr} + 2\\left( {{R_{ij}}{P_{ij,t}} + {X_{ij}}{Q_{ij,t}}} \\right)}- Z_{ij}^2{I_{ij,t}^{sqr}} + \\Delta_{ij,t}^{V}; \\forall ij \\in {B},  \\forall  t \\in {T}\n",
    "$$\n",
    "\n",
    "$$\n",
    "{V_{i}^{sqr} = V_{j}^{sqr} + 2\\left( {{R_{ij}}{P_{ij}} + {X_{ij}}{Q_{ij}}} \\right)}- (x_{ij}^2+r_{i,j}^2){I_{ij}^{sqr}} + \\Delta_{ij}^{V}; \\forall ij \\in {B}\n",
    "$$\n",
    "\n",
    "$Z_{i,j}=x_{ij}^2+r_{i,j}^2$"
   ]
  },
  {
   "cell_type": "code",
   "execution_count": null,
   "id": "ca768179-d8f5-4a47-be08-3d2530966b8a",
   "metadata": {},
   "outputs": [],
   "source": [
    "#no pero da 0 \n",
    "for i,j in B: \n",
    "    expr1= 2*(P[(i, j)] * r[i,j] +Q[(i, j)] *x[i,j])\n",
    "    expr2= (x[i,j]**2 + r[i,j]**2) *Isqrt[i,j]\n",
    "    r3= Vsqrt[(j)] + expr1 - expr2 + deltaV[i,j]\n",
    "    \n",
    "    m.addConstr(Vsqrt[i]==r3,name=f\"limite de magnitud de tensión\")"
   ]
  },
  {
   "cell_type": "markdown",
   "id": "4abe8ed5-4542-4b65-b343-7cd347057ec4",
   "metadata": {},
   "source": [
    "4. Restricción que permite regular la magnitud de tensión entre los nodos del sistema con respecto al estado de conexión/desconexión de las llaves de interconexión entre los nodos. \n",
    "\n",
    "$$\n",
    "- {b^V}( {1 - {y_{ij}^B}}) \\le \\Delta _{ij}^V \\le {b^V}( {1 -  {y_{ij}^B}});\\forall ij \\in B\n",
    "$$\n",
    "b= lo que genera/consume cada nodo\n"
   ]
  },
  {
   "cell_type": "code",
   "execution_count": null,
   "id": "eb773f75-2b19-4076-9156-b872593c6164",
   "metadata": {},
   "outputs": [],
   "source": [
    "#no\n",
    "for (i,j) in B: \n",
    "    expr1= -b_v *(1 - y[i, j])\n",
    "    m.addConstr(expr1 <= deltaV[(i, j)] ,name=f\"regular la magnitud minima de tensión entre los nodos del sistema con respecto a las llaves\")\n",
    "    expr2 = b_v * (1 - y[i, j])\n",
    "    m.addConstr(deltaV[(i, j)]<= expr2,name=f\"regular la magnitud maxima de tensión entre los nodos del sistema con respecto a las llaves\")\n",
    "\n",
    "   "
   ]
  },
  {
   "cell_type": "markdown",
   "id": "2d3e0b97-833e-492f-828c-21c73b4f9588",
   "metadata": {},
   "source": [
    "5. Restricción que permite que se sigan las leyes de la conservación de energía en el sistema eléctrico y tiene en cuenta la relación entre las magnitudes de tensión, corriente y potencias activas y reactivas\n",
    "$$\n",
    "V_{j}^{sqr} I_{ij}^{sqr} = P_{ij}^2 +  Q_{ij}^2;\\forall ij \\in {B}\n",
    "$$\n",
    "\n",
    "Esta se debe de linealizar, para lograr que sea una restricción optima de LP"
   ]
  },
  {
   "cell_type": "code",
   "execution_count": null,
   "id": "d9c6881d-26e6-495e-89ac-cc56b5d1761b",
   "metadata": {},
   "outputs": [],
   "source": [
    "#no pero da 0 \n",
    "for (i,j) in B:\n",
    "    m.addConstr(Vsqrt[j] * Isqrt[i, j] == P[i, j] * P[i, j] + Q[i, j] * Q[i, j],\n",
    "                    name=f\"restriccion_cuadratica_{i}_{j}\")"
   ]
  },
  {
   "cell_type": "markdown",
   "id": "e7eebccb-e47f-495f-82cd-01e41122f00a",
   "metadata": {
    "tags": []
   },
   "source": [
    "6. Conservación de potencia en el sistema eléctrico. \n",
    "\n",
    "$$\n",
    "{ {\\underline V }^2} \\le V_{i}^{sqr} \\le {\\overline V }^2;\\forall i \\in N\n",
    "$$"
   ]
  },
  {
   "cell_type": "code",
   "execution_count": null,
   "id": "aa74b776-95f8-4ed9-b4f7-21d272ee0546",
   "metadata": {},
   "outputs": [],
   "source": [
    "#si\n",
    "for i in nodes:\n",
    "    m.addConstr(vmin**2<= Vsqrt[i], name =f\" Conservación_minima_de_potencia_{i}\")\n",
    "    m.addConstr(Vsqrt[i]<=vmax**2, name =f\" Conservación_maxima_de_potencia_{i}\")"
   ]
  },
  {
   "cell_type": "markdown",
   "id": "5453bec0-86ff-49e4-bd1c-cca99e80be27",
   "metadata": {},
   "source": [
    "7. Límites al cuadrado de la magnitud de la corriente entre los nodos i y j cuando la llave de interconexión se encuentre abierta. \n",
    "\n",
    "$$\n",
    "0 \\le I_{ij}^{sqr} \\le \\overline I_{ij}^2 y_{ij}^B;\\forall ij \\in {B}\n",
    "$$\n",
    "\n",
    "$  \\overline I_{ij} = V_{max} / R_{i,j}$\n"
   ]
  },
  {
   "cell_type": "code",
   "execution_count": null,
   "id": "b7893d60-d912-40a7-85fa-39523f0d2fc4",
   "metadata": {},
   "outputs": [],
   "source": [
    "#no pero da 0 \n",
    "for (i,j) in B:\n",
    "    m.addConstr(0<=Isqrt[i,j], name=f\"magnitud_minima_Corriente_{i}_{j}\")\n",
    "    m.addConstr(Isqrt[i,j]<= (vmax/r[i,j])**2*y[i,j], name=f\"magnitud_maxima_Corriente_{i}_{j}\")\n",
    "    "
   ]
  },
  {
   "cell_type": "markdown",
   "id": "93b5ef13-4cb8-4cc5-a5c0-3d3508fbf663",
   "metadata": {},
   "source": [
    "8. Restricción de la variable de estado de funcionamiento de los interruptores de interconexión $y_{ij,t}^B$.\n",
    "\n",
    "$$\n",
    "y_{ij,t}^B \\in \\left\\{ {0,1} \\right\\};\\forall ij \\in {B}, \\forall t \\in {T}\n",
    "$$"
   ]
  },
  {
   "cell_type": "markdown",
   "id": "c24be64b-874e-4c4e-bf1d-4509166e2cb7",
   "metadata": {},
   "source": [
    "9. Restricción de radialidad\n",
    "\n",
    "$$\\sum_{ij \\in B}{ y_{ij,t}^B} = |N|- |N_{sub}|$$\n",
    "\n",
    "Para le caso Nsub= 1, entonces\n",
    "\n",
    "$$\\sum_{ij \\in B}{ y_{ij,t}^B} = |N|- 1$$\n"
   ]
  },
  {
   "cell_type": "code",
   "execution_count": null,
   "id": "ac60b9a3-7871-4366-8f3e-eb50e37e4753",
   "metadata": {
    "tags": []
   },
   "outputs": [],
   "source": [
    "print(nodes)\n",
    "print(len(nodes))"
   ]
  },
  {
   "cell_type": "code",
   "execution_count": null,
   "id": "eb56b4e4-63e2-49cf-9424-3c3f78b43070",
   "metadata": {},
   "outputs": [],
   "source": [
    "valor=0\n",
    "\n",
    "for (i,j) in B:\n",
    "    valor+=y[i,j]\n",
    "    \n",
    "m.addConstr(valor ==len(nodes)-1, name=f\"Restriccione_de_radialidad\")"
   ]
  },
  {
   "cell_type": "code",
   "execution_count": null,
   "id": "6c417ee2-8a78-4042-8d50-1100a2695098",
   "metadata": {
    "tags": []
   },
   "outputs": [],
   "source": [
    "m.update()"
   ]
  },
  {
   "cell_type": "code",
   "execution_count": null,
   "id": "9cfe737e-920d-4726-8e8a-0cde855a77c4",
   "metadata": {},
   "outputs": [],
   "source": [
    "m.setParam('NonConvex', 2)\n",
    "m.optimize()"
   ]
  },
  {
   "cell_type": "code",
   "execution_count": null,
   "id": "dd09915c-6aaf-40f8-a10b-cf4c1017e783",
   "metadata": {},
   "outputs": [],
   "source": []
  }
 ],
 "metadata": {
  "kernelspec": {
   "display_name": "Python 3.9.7 64-bit ('anaconda3')",
   "language": "python",
   "name": "python3"
  },
  "language_info": {
   "codemirror_mode": {
    "name": "ipython",
    "version": 3
   },
   "file_extension": ".py",
   "mimetype": "text/x-python",
   "name": "python",
   "nbconvert_exporter": "python",
   "pygments_lexer": "ipython3",
   "version": "3.9.7"
  },
  "toc-autonumbering": true,
  "toc-showcode": true,
  "toc-showmarkdowntxt": true,
  "toc-showtags": true,
  "vscode": {
   "interpreter": {
    "hash": "0e5b05a2c72109a80a1739f4a0fb6a82aaaba83a4949d7c1fc365c11fc8240a3"
   }
  }
 },
 "nbformat": 4,
 "nbformat_minor": 5
}
