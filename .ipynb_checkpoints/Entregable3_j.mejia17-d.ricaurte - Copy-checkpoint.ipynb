{
 "cells": [
  {
   "cell_type": "code",
   "execution_count": 1,
   "id": "1968f76b-bf68-4ea4-8151-550f5d05a417",
   "metadata": {
    "tags": []
   },
   "outputs": [],
   "source": [
    "import networkx as nx\n",
    "import matplotlib.pyplot as plt\n",
    "import gurobipy as gp\n",
    "import math\n",
    "import re\n",
    "from gurobipy import *"
   ]
  },
  {
   "cell_type": "code",
   "execution_count": null,
   "id": "8f3cd8a9",
   "metadata": {},
   "outputs": [],
   "source": []
  },
  {
   "cell_type": "markdown",
   "id": "5b946d36-1a27-4a7d-aca6-e163d3917208",
   "metadata": {
    "tags": []
   },
   "source": [
    "|Estudiante|Código|Correo|\n",
    "|-----|-----|----|\n",
    "|Juana Mejía Botero|20221512|j.mejia17|\n",
    "|Daniela Ricaurte Echeverry|201822966|d.ricaurte|\n",
    "\n",
    "# Proyecto - Entrega 3\n",
    "\n",
    "\n",
    "## Modelo Matemático\n",
    "\n",
    "### Variables del Problema\n",
    "- $y_{ij}$ variable binaria que representa el *estado de la llave de interconexión* entre i y j, donde esta será 1 si la llave está abierta y 0 si se encuentra cerrada.  \n",
    "- $P_{ij}$ variable continua que representa el flujo de *potencia activa* entre los nodos $i$ y $j$.\n",
    "- $Q_{ij}$ variable continua que representa el flujo de *potencia reactiva* entre los nodos $i$ y $j$.\n",
    "- $I_{ij}$ variable continua que representa el flujo de corriente entre los nodos $i$ y $j$.\n",
    "- $V_{i}$ variable continua  representa el voltaje en el nodo $i$.\n",
    "\n",
    "\n",
    "### Parámetros del Problema\n",
    "\n",
    "- $P_{i}^{D}$ representa la demanda de potencia activa en el nodo $i$ \n",
    "\n",
    "- $Q_{i}^{D}$  representa la demanda de potencia  reactiva en el nodo $i$.\n",
    "\n",
    "- $R_{ij}$ representa la resistencia de la linea entre los nodos $i$ y $j$ \n",
    "\n",
    "- $X_{ij}$ representa la reactancia de la linea entre los nodos $i$ y $j$."
   ]
  },
  {
   "cell_type": "code",
   "execution_count": 2,
   "id": "4dfdd295-4d80-4068-a9bd-07e250cdeee0",
   "metadata": {
    "tags": []
   },
   "outputs": [
    {
     "name": "stdout",
     "output_type": "stream",
     "text": [
      "%% Datos del Sistema de 14 barras\n",
      "\n",
      "% Datos globales\n",
      "nref  = 14;         % nodo de referencia\n",
      "vref  = 1.0;        % tensión en la subestación (pu)\n",
      "vbase = 23.0;       % Tensión base (kV)\n",
      "sbase = 100000;     % Potencia base (kVA)\n",
      "tol   = 10^-8;      % Tolerancia del error permitido\n",
      "vmin  = 0.93;       % Tensión mínima (pu)\n",
      "vmax  = 1.05;       % Tensión máxima (pu)\n",
      "\n",
      "% Base de impedancia\n",
      "zbase = 100;\n",
      "\n",
      "% Datos de ramas\n",
      "%             de    para       R(%)     X(%)\n",
      "ramos = [     14      13       7.50    10.00\n",
      "              13      12       8.00    11.00\n",
      "              13      11       9.00    18.00\n",
      "              11      10       4.00     4.00\n",
      "              14       9      11.00    11.00\n",
      "               9       8       8.00    11.00\n",
      "               9       7      11.00    11.00\n",
      "               8       6      11.00    11.00\n",
      "               8       5       8.00    11.00\n",
      "              14       4      11.00    11.00\n",
      "               4       3       9.00    12.00\n",
      "               4       2       8.00    11.00\n",
      "               2       1       4.00     4.00\n",
      "              12       6       4.00     4.00\n",
      "               7       3       4.00     4.00\n",
      "              10       1       9.00    12.00 ];\n",
      "\n",
      "% Demanda de potencia activa y reactiva en las barras\n",
      "%          barra       Pd(kW)  Qd(kW) Qbc(kW)\n",
      "barras = [    14          0.0     0.0     0.0\n",
      "              13       2000.0  1600.0     0.0\n",
      "              12       3000.0  1500.0  1100.0\n",
      "              11       2000.0   800.0  1200.0\n",
      "              10       1500.0  1200.0     0.0\n",
      "               9       4000.0  2700.0     0.0\n",
      "               8       5000.0  3000.0  1200.0\n",
      "               7       1000.0   900.0     0.0\n",
      "               6        600.0   100.0   600.0\n",
      "               5       4500.0  2000.0  3700.0\n",
      "               4       1000.0   900.0     0.0\n",
      "               3       1000.0   700.0  1800.0\n",
      "               2       1000.0   900.0     0.0\n",
      "               1       2100.0  1000.0  1800.0 ];\n",
      "\n",
      "\n"
     ]
    }
   ],
   "source": [
    "\n",
    "file = open(\"C:\\\\Users\\\\danir\\\\OneDrive - Universidad de los andes\\\\Flujo de Redes\\\\Proyecto\\\\datos14.txt\", \"r\")\n",
    "\n",
    "print(file.read())\n",
    "print()\n",
    "\n"
   ]
  },
  {
   "cell_type": "code",
   "execution_count": 3,
   "id": "be1741d4-27c8-4b01-9ad9-b6e5a8fb67fd",
   "metadata": {
    "tags": []
   },
   "outputs": [
    {
     "name": "stdout",
     "output_type": "stream",
     "text": [
      "{'nref': 14.0, 'vref': 1.0, 'vbase': 23.0, 'sbase': 100000.0, 'vmin': 0.93, 'vmax': 1.05, 'zbase': 100.0}\n",
      "items\n",
      "nref: 14.0\n",
      "items\n",
      "vref: 1.0\n",
      "items\n",
      "vbase: 23.0\n",
      "items\n",
      "sbase: 100000.0\n",
      "items\n",
      "vmin: 0.93\n",
      "items\n",
      "vmax: 1.05\n",
      "items\n",
      "zbase: 100.0\n",
      "[14.0, 13.0, 7.5, 10.0]\n",
      "[13.0, 12.0, 8.0, 11.0]\n",
      "[13.0, 11.0, 9.0, 18.0]\n",
      "[11.0, 10.0, 4.0, 4.0]\n",
      "[14.0, 9.0, 11.0, 11.0]\n",
      "[9.0, 8.0, 8.0, 11.0]\n",
      "[9.0, 7.0, 11.0, 11.0]\n",
      "[8.0, 6.0, 11.0, 11.0]\n",
      "[8.0, 5.0, 8.0, 11.0]\n",
      "[14.0, 4.0, 11.0, 11.0]\n",
      "[4.0, 3.0, 9.0, 12.0]\n",
      "[4.0, 2.0, 8.0, 11.0]\n",
      "[2.0, 1.0, 4.0, 4.0]\n",
      "[12.0, 6.0, 4.0, 4.0]\n",
      "[7.0, 3.0, 4.0, 4.0]\n",
      "[10.0, 1.0, 9.0, 12.0]\n",
      "[14, 0.0, 0.0, 0.0]\n",
      "[13, 2000.0, 1600.0, 0.0]\n",
      "[12, 3000.0, 1500.0, 1100.0]\n",
      "[11, 2000.0, 800.0, 1200.0]\n",
      "[10, 1500.0, 1200.0, 0.0]\n",
      "[9, 4000.0, 2700.0, 0.0]\n",
      "[8, 5000.0, 3000.0, 1200.0]\n",
      "[7, 1000.0, 900.0, 0.0]\n",
      "[6, 600.0, 100.0, 600.0]\n",
      "[5, 4500.0, 2000.0, 3700.0]\n",
      "[4, 1000.0, 900.0, 0.0]\n",
      "[3, 1000.0, 700.0, 1800.0]\n",
      "[2, 1000.0, 900.0, 0.0]\n",
      "[1, 2100.0, 1000.0, 1800.0]\n"
     ]
    }
   ],
   "source": [
    "import re\n",
    "\n",
    "values = {}\n",
    "branches = []\n",
    "bus_demand = []\n",
    "\n",
    "\n",
    "patterns = {\n",
    "    'nref': r'nref\\s*=\\s*([\\d.]+);',\n",
    "    'vref': r'vref\\s*=\\s*([\\d.]+);',\n",
    "    'vbase': r'vbase\\s*=\\s*([\\d.]+);',\n",
    "    'sbase': r'sbase\\s*=\\s*([\\d.]+);',\n",
    "    'tol': r'tol\\s*=\\s*([\\d.eE+-]+);',  \n",
    "    'vmin': r'vmin\\s*=\\s*([\\d.]+);',\n",
    "    'vmax': r'vmax\\s*=\\s*([\\d.]+);',\n",
    "    'zbase': r'zbase\\s*=\\s*([\\d.]+);',\n",
    "}\n",
    "\n",
    "branch_pattern = r'ramos\\s*=\\s*\\[(.*?)\\];'\n",
    "bus_demand_pattern = r'barras\\s*=\\s*\\[(.*?)\\];'\n",
    "\n",
    "\n",
    "file_path = \"C:\\\\Users\\\\danir\\\\OneDrive - Universidad de los andes\\\\Flujo de Redes\\\\Proyecto\\\\datos14.txt\"\n",
    "with open(file_path, \"r\") as file:\n",
    "    text = file.read()\n",
    "\n",
    "for key, pattern in patterns.items():\n",
    "    match = re.search(pattern, text, re.IGNORECASE)\n",
    "    if match:\n",
    "        if key == 'tol':\n",
    "            print(key)\n",
    "            base, exponent = match.group(1).split('e')\n",
    "            values[key] = float(base) * 10 ** int(exponent)\n",
    "        else:\n",
    "            values[key] = float(match.group(1))\n",
    "print (values)\n",
    "\n",
    "for key, value in values.items():\n",
    "    print(\"items\")\n",
    "    print(f\"{key}: {value}\")\n",
    "    \n",
    "\n",
    "match = re.search(branch_pattern, text, re.DOTALL)\n",
    "if match:\n",
    "    branch_data = match.group(1)\n",
    "\n",
    "    \n",
    "    branch_lines = branch_data.split('\\n')\n",
    "    branch_lines = [line.strip() for line in branch_lines if not line.strip().startswith('%')]\n",
    "\n",
    "   \n",
    "    for line in branch_lines:\n",
    "        valores = line.split()\n",
    "        if len(valores) == 4:\n",
    "            branch = [float(valor) for valor in valores]\n",
    "            branches.append(branch)\n",
    "\n",
    "for branch in branches:\n",
    "    print(branch)\n",
    "\n",
    "match = re.search(bus_demand_pattern, text, re.DOTALL)\n",
    "if match:\n",
    "    bus_demand_data = match.group(1)\n",
    "\n",
    "   \n",
    "    bus_demand_lines = bus_demand_data.split('\\n')\n",
    "    bus_demand_lines = [line.strip() for line in bus_demand_lines if not line.strip().startswith('%')]\n",
    "\n",
    "   \n",
    "    for line in bus_demand_lines:\n",
    "        valores = line.split()\n",
    "        if len(valores) >= 4:\n",
    "            bus = [int(valores[0]), float(valores[1]), float(valores[2]), float(valores[3])]\n",
    "            bus_demand.append(bus)\n",
    "\n",
    "for bus in bus_demand:\n",
    "    print(bus)\n",
    "\n"
   ]
  },
  {
   "cell_type": "code",
   "execution_count": 4,
   "id": "1c6be099-c9f9-42b8-b32a-28915cc94367",
   "metadata": {
    "tags": []
   },
   "outputs": [
    {
     "name": "stdout",
     "output_type": "stream",
     "text": [
      "[1, 2, 3, 4, 5, 6, 7, 8, 9, 10, 11, 12, 13, 14]\n"
     ]
    }
   ],
   "source": [
    "\n",
    "nref=values.get(\"nref\")\n",
    "nodes = list(range(1,int(nref)+1))\n",
    "print(nodes)"
   ]
  },
  {
   "cell_type": "code",
   "execution_count": 5,
   "id": "d3b84c9c-c4a4-47b4-a2f3-2a40e7530496",
   "metadata": {
    "tags": []
   },
   "outputs": [
    {
     "name": "stdout",
     "output_type": "stream",
     "text": [
      "active\n",
      "14 0.0\n",
      "13 2000.0\n",
      "12 3000.0\n",
      "11 2000.0\n",
      "10 1500.0\n",
      "9 4000.0\n",
      "8 5000.0\n",
      "7 1000.0\n",
      "6 600.0\n",
      "5 4500.0\n",
      "4 1000.0\n",
      "3 1000.0\n",
      "2 1000.0\n",
      "1 2100.0\n",
      "reactive\n",
      "14 0.0\n",
      "13 1600.0\n",
      "12 1500.0\n",
      "11 800.0\n",
      "10 1200.0\n",
      "9 2700.0\n",
      "8 3000.0\n",
      "7 900.0\n",
      "6 100.0\n",
      "5 2000.0\n",
      "4 900.0\n",
      "3 700.0\n",
      "2 900.0\n",
      "1 1000.0\n"
     ]
    }
   ],
   "source": [
    "potencias = ['Activa', 'Reactiva']\n",
    "pd = {}\n",
    "qd = {}\n",
    "\n",
    "for bus in bus_demand:\n",
    "    node = bus[0]\n",
    "    active_power = bus[1]\n",
    "    reactive_power = bus[2]\n",
    "    pd[(node)] = active_power\n",
    "    qd[( node)] = reactive_power\n",
    "\n",
    "print(\"active\")\n",
    "for key, value in pd.items():\n",
    "\n",
    "    print(key, value)\n",
    "\n",
    "print(\"reactive\")\n",
    "for key, value in qd.items():\n",
    "    print(key, value)"
   ]
  },
  {
   "cell_type": "code",
   "execution_count": 6,
   "id": "2896ab5d-7fe5-47a4-857a-05f44faf73cd",
   "metadata": {
    "tags": []
   },
   "outputs": [
    {
     "data": {
      "text/plain": [
       "0.0"
      ]
     },
     "execution_count": 6,
     "metadata": {},
     "output_type": "execute_result"
    }
   ],
   "source": [
    "pd.get(14)"
   ]
  },
  {
   "cell_type": "code",
   "execution_count": 7,
   "id": "114d6865-92a0-430e-a849-f95398fd3bdd",
   "metadata": {
    "tags": []
   },
   "outputs": [
    {
     "name": "stdout",
     "output_type": "stream",
     "text": [
      "Resistencia\n",
      "(14, 13) 0.075\n",
      "(13, 12) 0.08\n",
      "(13, 11) 0.09\n",
      "(11, 10) 0.04\n",
      "(14, 9) 0.11\n",
      "(9, 8) 0.08\n",
      "(9, 7) 0.11\n",
      "(8, 6) 0.11\n",
      "(8, 5) 0.08\n",
      "(14, 4) 0.11\n",
      "(4, 3) 0.09\n",
      "(4, 2) 0.08\n",
      "(2, 1) 0.04\n",
      "(12, 6) 0.04\n",
      "(7, 3) 0.04\n",
      "(10, 1) 0.09\n",
      "Reactancia\n",
      "(14, 13) 0.1\n",
      "(13, 12) 0.11\n",
      "(13, 11) 0.18\n",
      "(11, 10) 0.04\n",
      "(14, 9) 0.11\n",
      "(9, 8) 0.11\n",
      "(9, 7) 0.11\n",
      "(8, 6) 0.11\n",
      "(8, 5) 0.11\n",
      "(14, 4) 0.11\n",
      "(4, 3) 0.12\n",
      "(4, 2) 0.11\n",
      "(2, 1) 0.04\n",
      "(12, 6) 0.04\n",
      "(7, 3) 0.04\n",
      "(10, 1) 0.12\n",
      "arcos\n",
      "[(14, 13), (13, 12), (13, 11), (11, 10), (14, 9), (9, 8), (9, 7), (8, 6), (8, 5), (14, 4), (4, 3), (4, 2), (2, 1), (12, 6), (7, 3), (10, 1)]\n"
     ]
    }
   ],
   "source": [
    "impedencia = [\"Resistencia\", \"Reactancia\" ]\n",
    "\n",
    "#resistencia\n",
    "r = {}\n",
    "#Reactancia\n",
    "x = {}\n",
    "#arcos\n",
    "B = []\n",
    "\n",
    "for branch in branches:\n",
    "    from_node = int(branch[0])\n",
    "    to_node = int(branch[1])\n",
    "    resistance = branch[2]\n",
    "    reactance = branch[3]\n",
    "    \n",
    "    \n",
    "    B.append( (from_node, to_node))\n",
    "    r[( from_node, to_node)] = resistance*0.01\n",
    "    x[( from_node, to_node)] = reactance*0.01\n",
    "\n",
    "print(\"Resistencia\")\n",
    "for key, value in r.items():\n",
    "    print(key, value)\n",
    "\n",
    "print(\"Reactancia\")\n",
    "for key, value in x.items():\n",
    "    print(key, value)\n",
    "    \n",
    "print(\"arcos\")\n",
    "print(B)"
   ]
  },
  {
   "cell_type": "code",
   "execution_count": 8,
   "id": "6f9052f6-92a8-438d-876d-11f4fd13815a",
   "metadata": {
    "tags": []
   },
   "outputs": [
    {
     "name": "stdout",
     "output_type": "stream",
     "text": [
      "0.075\n"
     ]
    }
   ],
   "source": [
    "print(r.get((14,13)))"
   ]
  },
  {
   "cell_type": "markdown",
   "id": "26f8fcb9-5e88-4536-8917-9d4ce88a5ec1",
   "metadata": {},
   "source": [
    "### Visualización del Grafo"
   ]
  },
  {
   "cell_type": "code",
   "execution_count": 34,
   "id": "435a858d-def5-4f15-b020-8d945aaf3fba",
   "metadata": {
    "tags": []
   },
   "outputs": [
    {
     "data": {
      "image/png": "[encoded data removed]",
      "text/plain": [
       "<Figure size 640x480 with 1 Axes>"
      ]
     },
     "metadata": {},
     "output_type": "display_data"
    }
   ],
   "source": [
    "# Crear un grafo dirigido\n",
    "G = nx.DiGraph()\n",
    "\n",
    "# Añadir nodos\n",
    "for node in nodes:\n",
    "    G.add_node(node)\n",
    "    \n",
    "for i, j in B:\n",
    "    G.add_edge(i,j)\n",
    "    \n",
    "pos = nx.spring_layout(G)\n",
    "nx.draw(G, pos, with_labels=True, node_size=1000, node_color='lightgray', arrowsize=20, width=2, font_size=15)"
   ]
  },
  {
   "cell_type": "markdown",
   "id": "05c37abc-d6d4-4438-9eaf-963a79b9e612",
   "metadata": {},
   "source": [
    "Creación del modelo\n",
    "\n",
    "\n",
    "Para le modelo t=1"
   ]
  },
  {
   "cell_type": "code",
   "execution_count": 10,
   "id": "90840822-6bde-49ee-8b43-e07baacd4191",
   "metadata": {
    "tags": []
   },
   "outputs": [
    {
     "name": "stdout",
     "output_type": "stream",
     "text": [
      "Set parameter Username\n",
      "Academic license - for non-commercial use only - expires 2024-10-22\n",
      "21.39 24.150000000000002\n"
     ]
    }
   ],
   "source": [
    "# Create optimization model\n",
    "m = gp.Model(\"RSD\")\n",
    "#Constantes\n",
    "\n",
    "#tolerancia\n",
    "tol=0.0000001\n",
    "\n",
    "# b=lo que genera/consume cada nodo\n",
    "b_v= 0.1\n",
    "\n",
    "# tension minimima kV\n",
    "vmin=float(values.get(\"vmin\"))*float(values.get(\"vbase\"))\n",
    "\n",
    "# tension maxima kV\n",
    "vmax= float(values.get(\"vmax\"))*float(values.get(\"vbase\"))\n",
    "\n",
    "# Potencia base kW\n",
    "sbase= values.get(\"sbase\")/0.8\n",
    "\n",
    "print(vmin, vmax)\n",
    "# Variables\n",
    "# Estado de la llave del arco i y j\n",
    "y =  m.addVars(nodes, nodes,  vtype=GRB.BINARY, name=\"y\")\n",
    "\n",
    "# Flujo de potencia activa entre los nodos i y j \n",
    "P =  m.addVars(nodes,nodes, vtype=GRB.CONTINUOUS, name=\"P\")\n",
    "\n",
    "# Flujo de potencia reactiva entre los nodos i y j \n",
    "Q = m.addVars(nodes,nodes,  vtype=GRB.CONTINUOUS, name=\"Q\")\n",
    "\n",
    "# Flujo de Corriente entre los nodos i y j\n",
    "I = m.addVars(nodes,nodes,  vtype=GRB.CONTINUOUS, name=\"I\")\n",
    "\n",
    "# Raiz cuadrada del flujo de Corriente entre los nodos i y j\n",
    "Isqrt = m.addVars(nodes,nodes,  vtype=GRB.CONTINUOUS, name=\"Isqrt\")\n",
    "\n",
    "# Voltaje del nodo i\n",
    "V = m.addVars(nodes,  vtype=GRB.CONTINUOUS, lb=vmin, ub=vmax, name=\"V\")\n",
    "\n",
    "# Raiz cuadrada del voltaje del nodo i\n",
    "Vsqrt = m.addVars(nodes, vtype=GRB.CONTINUOUS, name=\"Vsqrt\")\n",
    "\n",
    "# Delta del V\n",
    "deltaV= m.addVars(nodes,nodes,  vtype=GRB.CONTINUOUS, name=\"deltaV\")\n"
   ]
  },
  {
   "cell_type": "code",
   "execution_count": 11,
   "id": "30efaf4d-ec34-4597-879f-49fedaad5a41",
   "metadata": {
    "tags": []
   },
   "outputs": [],
   "source": [
    "for (i, j) in B:\n",
    "    m.addConstr(Isqrt[i, j] * Isqrt[i, j] == I[i, j], name=f\"sqrt_constraint_I_{i}_{j}\")"
   ]
  },
  {
   "cell_type": "code",
   "execution_count": 12,
   "id": "97f1c256-f20f-4343-8a28-a2833d048d75",
   "metadata": {
    "tags": []
   },
   "outputs": [],
   "source": [
    "for i in nodes:\n",
    "    m.addConstr(Vsqrt[i] * Vsqrt[i] == V[i], name=f\"sqrt_constraint_V_{i}_{j}\")"
   ]
  },
  {
   "cell_type": "code",
   "execution_count": 13,
   "id": "3b309399-acbb-409f-97d4-52820008921e",
   "metadata": {
    "tags": []
   },
   "outputs": [],
   "source": [
    "m.update()"
   ]
  },
  {
   "cell_type": "markdown",
   "id": "6155ed3e-202d-4206-a5f2-bae0b7f35ca6",
   "metadata": {},
   "source": [
    "### Función Objetivo\n",
    "\n",
    "$$\n",
    "Min \\sum\\limits_{ij \\in {B}} {{R_{ij}}I_{ij}^{sqr}};\n",
    "$$\n"
   ]
  },
  {
   "cell_type": "code",
   "execution_count": 14,
   "id": "f4829c18-026b-4232-912c-29b4206d2cef",
   "metadata": {
    "tags": []
   },
   "outputs": [],
   "source": [
    "FO = LinExpr()\n",
    "for (i, j) in B:\n",
    "    FO += Isqrt[i,j] * r[i, j]*y[i,j]\n",
    "\n",
    "m.setObjective(FO, GRB.MINIMIZE)\n",
    "    "
   ]
  },
  {
   "cell_type": "markdown",
   "id": "aca66814-d283-464d-b65a-b0d05c33f010",
   "metadata": {},
   "source": [
    "### Restricciones del problema"
   ]
  },
  {
   "cell_type": "markdown",
   "id": "7555fd10-5118-4f47-b153-c86715ad7cb4",
   "metadata": {},
   "source": [
    "1. Equilibrio de potencia activa: esta restricción regula que la cantidad total de potencia activa que es consumida en el sistema eléctrico sea igual a la generada y entregada al sistema, además debe ser igual a la demandada del nodo. \n",
    "\n",
    "$$\n",
    "\\sum\\limits_{ki \\in {B}} {{P_{ki}}}   - \\sum\\limits_{ij \\in {B}} {\\left( {{P_{ij}} + {R_{ij}}I_{ij}^{sqr}} \\right)} + P_{i,t}^S = P_{i,t}^D;\\forall i \\in {N}\n",
    "$$"
   ]
  },
  {
   "cell_type": "code",
   "execution_count": 15,
   "id": "50a7cb4d-ac1d-4363-af34-864652f8dd34",
   "metadata": {},
   "outputs": [],
   "source": [
    "for i in nodes:\n",
    "    \n",
    "    expr1 =0\n",
    "    expr2 =0\n",
    "    for k in nodes:\n",
    "        if ((k,i) in B):\n",
    "            expr1+=(P[k, i])\n",
    "    \n",
    "    for j in nodes:\n",
    "        if ((i,j) in B):\n",
    "            expr2+= P[i, j] + r[i, j] * Isqrt[i, j]\n",
    "    \n",
    "    \n",
    "    r1 = expr1 - expr2 + sbase\n",
    "    \n",
    "    \n",
    "    m.addConstr(r1 == pd[i], name=f\"demanda potencia activa _{i}\")\n"
   ]
  },
  {
   "cell_type": "markdown",
   "id": "d2516c16-54b1-4777-ad07-d8166cfb66db",
   "metadata": {},
   "source": [
    "2. Equilibrio de potencia reactiva: permite que la cantidad total de potencia reactiva que es consumida en el sistema eléctrico sea igual a la generada y entregada al sistema y debe igualar la demanda del nodo.\n",
    "\n",
    "$$\n",
    "\\sum\\limits_{ki \\in {B}} {{Q_{ki,t}}}   - \\sum\\limits_{ij \\in {B}} {\\left( {{Q_{ij,t}} + {X_{ij}}I_{ij,t}^{sqr}} \\right)}  + Q_{i,t}^S= Q_{i,t}^D;\\forall i \\in {N},    \\forall t \\in {T}\n",
    "$$ "
   ]
  },
  {
   "cell_type": "code",
   "execution_count": 16,
   "id": "e8fe7987-6457-482d-b866-355b43e5606f",
   "metadata": {},
   "outputs": [],
   "source": [
    "for i in nodes:\n",
    "    \n",
    "    expr1 =0\n",
    "    expr2 =0\n",
    "    for k in nodes:\n",
    "        if ((k,i) in B):\n",
    "            expr1+=(Q[k, i])\n",
    "    \n",
    "    for j in nodes:\n",
    "        if ((i,j) in B):\n",
    "            expr2+= Q[i, j] + x[i, j] * Isqrt[i, j]\n",
    "    \n",
    "\n",
    "    r1 = expr1 - expr2 + sbase\n",
    "    \n",
    "\n",
    "    m.addConstr(r1 == qd[i], name=f\"demanda potencia reactiva _{i}\")\n"
   ]
  },
  {
   "cell_type": "markdown",
   "id": "5e32b3dd-f3fe-4629-ad23-2ae087b8088c",
   "metadata": {},
   "source": [
    "3. Restricción del limite de la magnitud de tensión. El voltaje debe encontrarse entre un rango especifico. \n",
    "\n",
    "$$\n",
    "{V_{i,t}^{sqr} = V_{j,t}^{sqr} + 2\\left( {{R_{ij}}{P_{ij,t}} + {X_{ij}}{Q_{ij,t}}} \\right)}- Z_{ij}^2{I_{ij,t}^{sqr}} + \\Delta_{ij,t}^{V}; \\forall ij \\in {B},  \\forall  t \\in {T}\n",
    "$$\n",
    "\n",
    "$$\n",
    "{V_{i}^{sqr} = V_{j}^{sqr} + 2\\left( {{R_{ij}}{P_{ij}} + {X_{ij}}{Q_{ij}}} \\right)}- (x_{ij}^2+r_{i,j}^2){I_{ij}^{sqr}} + \\Delta_{ij}^{V}; \\forall ij \\in {B}\n",
    "$$\n",
    "\n",
    "$Z_{i,j}=x_{ij}^2+r_{i,j}^2$"
   ]
  },
  {
   "cell_type": "code",
   "execution_count": 17,
   "id": "ca768179-d8f5-4a47-be08-3d2530966b8a",
   "metadata": {},
   "outputs": [],
   "source": [
    "for i,j in B: \n",
    "    expr1= 2*(P[(i, j)] * r[i,j] +Q[(i, j)] *x[i,j])\n",
    "    expr2= (x[i,j]**2 + r[i,j]**2) *Isqrt[i,j]\n",
    "    r3= Vsqrt[(j)] + expr1 - expr2 + deltaV[i,j]\n",
    "    \n",
    "    m.addConstr(Vsqrt[i]==r3,name=f\"limite de magnitud de tensión\")\n",
    "    \n"
   ]
  },
  {
   "cell_type": "markdown",
   "id": "4abe8ed5-4542-4b65-b343-7cd347057ec4",
   "metadata": {},
   "source": [
    "4. Restricción que permite regular la magnitud de tensión entre los nodos del sistema con respecto al estado de conexión/desconexión de las llaves de interconexión entre los nodos. \n",
    "\n",
    "$$\n",
    "- {b^V}( {1 - {y_{ij}^B}}) \\le \\Delta _{ij}^V \\le {b^V}( {1 -  {y_{ij}^B}});\\forall ij \\in B\n",
    "$$\n",
    "b= lo que genera/consume cada nodo\n"
   ]
  },
  {
   "cell_type": "code",
   "execution_count": 18,
   "id": "eb773f75-2b19-4076-9156-b872593c6164",
   "metadata": {},
   "outputs": [],
   "source": [
    "for (i,j) in B: \n",
    "    expr1= -b_v *(1 - y[i, j])\n",
    "    m.addConstr(expr1 <= deltaV[(i, j)] ,name=f\"regular la magnitud minima de tensión entre los nodos del sistema con respecto a las llaves\")\n",
    "    expr2 = b_v * (1 - y[i, j])\n",
    "    m.addConstr(deltaV[(i, j)]<= expr2,name=f\"regular la magnitud maxima de tensión entre los nodos del sistema con respecto a las llaves\")\n",
    "\n",
    "   "
   ]
  },
  {
   "cell_type": "markdown",
   "id": "2d3e0b97-833e-492f-828c-21c73b4f9588",
   "metadata": {},
   "source": [
    "5. Restricción que permite que se sigan las leyes de la conservación de energía en el sistema eléctrico y tiene en cuenta la relación entre las magnitudes de tensión, corriente y potencias activas y reactivas\n",
    "$$\n",
    "V_{j}^{sqr} I_{ij}^{sqr} = P_{ij}^2 +  Q_{ij}^2;\\forall ij \\in {B}\n",
    "$$\n",
    "\n",
    "Esta se debe de linealizar, para lograr que sea una restricción optima de LP"
   ]
  },
  {
   "cell_type": "code",
   "execution_count": 19,
   "id": "d9c6881d-26e6-495e-89ac-cc56b5d1761b",
   "metadata": {},
   "outputs": [],
   "source": [
    "for (i,j) in B:\n",
    "    m.addConstr(Vsqrt[j] * Isqrt[i, j] == P[i, j] * P[i, j] + Q[i, j] * Q[i, j],\n",
    "                    name=f\"restriccion_cuadratica_{i}_{j}\")"
   ]
  },
  {
   "cell_type": "markdown",
   "id": "e7eebccb-e47f-495f-82cd-01e41122f00a",
   "metadata": {
    "tags": []
   },
   "source": [
    "6. Conservación de potencia en el sistema eléctrico. \n",
    "\n",
    "$$\n",
    "{ {\\underline V }^2} \\le V_{i}^{sqr} \\le {\\overline V }^2;\\forall i \\in N\n",
    "$$"
   ]
  },
  {
   "cell_type": "code",
   "execution_count": 20,
   "id": "aa74b776-95f8-4ed9-b4f7-21d272ee0546",
   "metadata": {},
   "outputs": [],
   "source": [
    "for i in nodes:\n",
    "    m.addConstr(vmin**2<= Vsqrt[i], name =f\" Conservación_minima_de_potencia_{i}\")\n",
    "    m.addConstr(Vsqrt[i]<=vmax**2, name =f\" Conservación_maxima_de_potencia_{i}\")"
   ]
  },
  {
   "cell_type": "markdown",
   "id": "5453bec0-86ff-49e4-bd1c-cca99e80be27",
   "metadata": {},
   "source": [
    "7. Límites al cuadrado de la magnitud de la corriente entre los nodos i y j cuando la llave de interconexión se encuentre abierta. \n",
    "\n",
    "$$\n",
    "0 \\le I_{ij}^{sqr} \\le \\overline I_{ij}^2 y_{ij}^B;\\forall ij \\in {B}\n",
    "$$\n",
    "\n",
    "$  \\overline I_{ij} = V_{max} / R_{i,j}$\n"
   ]
  },
  {
   "cell_type": "code",
   "execution_count": 21,
   "id": "b7893d60-d912-40a7-85fa-39523f0d2fc4",
   "metadata": {},
   "outputs": [],
   "source": [
    "for (i,j) in B:\n",
    "    m.addConstr(0<=Isqrt[i,j], name=f\"magnitud_minima_Corriente_{i}_{j}\")\n",
    "    m.addConstr(Isqrt[i,j]<= (vmax/r[i,j])**2*y[i,j], name=f\"magnitud_maxima_Corriente_{i}_{j}\")\n",
    "    "
   ]
  },
  {
   "cell_type": "markdown",
   "id": "93b5ef13-4cb8-4cc5-a5c0-3d3508fbf663",
   "metadata": {},
   "source": [
    "8. Restricción de la variable de estado de funcionamiento de los interruptores de interconexión $y_{ij,t}^B$.\n",
    "\n",
    "$$\n",
    "y_{ij,t}^B \\in \\left\\{ {0,1} \\right\\};\\forall ij \\in {B}, \\forall t \\in {T}\n",
    "$$"
   ]
  },
  {
   "cell_type": "markdown",
   "id": "c24be64b-874e-4c4e-bf1d-4509166e2cb7",
   "metadata": {},
   "source": [
    "9. Restricción de radialidad\n",
    "\n",
    "$$\\sum_{ij \\in B}{ y_{ij,t}^B} = |N|- |N_{sub}|$$\n",
    "\n",
    "Para le caso Nsub= 1, entonces\n",
    "\n",
    "$$\\sum_{ij \\in B}{ y_{ij,t}^B} = |N|- 1$$\n"
   ]
  },
  {
   "cell_type": "code",
   "execution_count": 22,
   "id": "ac60b9a3-7871-4366-8f3e-eb50e37e4753",
   "metadata": {
    "tags": []
   },
   "outputs": [
    {
     "name": "stdout",
     "output_type": "stream",
     "text": [
      "[1, 2, 3, 4, 5, 6, 7, 8, 9, 10, 11, 12, 13, 14]\n",
      "14\n"
     ]
    }
   ],
   "source": [
    "print(nodes)\n",
    "print(len(nodes))"
   ]
  },
  {
   "cell_type": "code",
   "execution_count": 23,
   "id": "eb56b4e4-63e2-49cf-9424-3c3f78b43070",
   "metadata": {},
   "outputs": [
    {
     "data": {
      "text/plain": [
       "<gurobi.Constr *Awaiting Model Update*>"
      ]
     },
     "execution_count": 23,
     "metadata": {},
     "output_type": "execute_result"
    }
   ],
   "source": [
    "valor=0\n",
    "\n",
    "for (i,j) in B:\n",
    "    valor+=y[i,j]\n",
    "    \n",
    "m.addConstr(valor ==len(nodes)-1, name=f\"Restriccione_de_radialidad\")"
   ]
  },
  {
   "cell_type": "code",
   "execution_count": 24,
   "id": "6c417ee2-8a78-4042-8d50-1100a2695098",
   "metadata": {
    "tags": []
   },
   "outputs": [],
   "source": [
    "m.update()"
   ]
  },
  {
   "cell_type": "code",
   "execution_count": 25,
   "id": "9cfe737e-920d-4726-8e8a-0cde855a77c4",
   "metadata": {},
   "outputs": [
    {
     "name": "stdout",
     "output_type": "stream",
     "text": [
      "Gurobi Optimizer version 10.0.3 build v10.0.3rc0 (win64)\n",
      "\n",
      "CPU model: 12th Gen Intel(R) Core(TM) i5-1240P, instruction set [SSE2|AVX|AVX2]\n",
      "Thread count: 12 physical cores, 16 logical processors, using up to 16 threads\n",
      "\n",
      "Optimize a model with 137 rows, 1204 columns and 348 nonzeros\n",
      "Model fingerprint: 0x6ca22a57\n",
      "Model has 16 quadratic objective terms\n",
      "Model has 46 quadratic constraints\n",
      "Variable types: 1008 continuous, 196 integer (196 binary)\n",
      "Coefficient statistics:\n",
      "  Matrix range     [3e-03, 4e+05]\n",
      "  QMatrix range    [1e+00, 1e+00]\n",
      "  QLMatrix range   [1e+00, 1e+00]\n",
      "  Objective range  [0e+00, 0e+00]\n",
      "  QObjective range [8e-02, 2e-01]\n",
      "  Bounds range     [1e+00, 2e+01]\n",
      "  RHS range        [1e-01, 1e+05]\n",
      "Presolve removed 46 rows and 1080 columns\n",
      "Presolve time: 0.00s\n",
      "\n",
      "Explored 0 nodes (0 simplex iterations) in 0.02 seconds (0.00 work units)\n",
      "Thread count was 1 (of 16 available processors)\n",
      "\n",
      "Solution count 0\n",
      "\n",
      "Model is infeasible or unbounded\n",
      "Best objective -, best bound -, gap -\n"
     ]
    }
   ],
   "source": [
    "m.optimize()"
   ]
  },
  {
   "cell_type": "code",
   "execution_count": 26,
   "id": "dd09915c-6aaf-40f8-a10b-cf4c1017e783",
   "metadata": {},
   "outputs": [
    {
     "name": "stdout",
     "output_type": "stream",
     "text": [
      "IIS computation: initial model status unknown, solving to determine model status\n",
      "Presolve removed 46 rows and 1080 columns\n",
      "Presolve time: 0.00s\n",
      "\n",
      "Explored 0 nodes (0 simplex iterations) in 0.01 seconds (0.00 work units)\n",
      "Thread count was 1 (of 16 available processors)\n",
      "\n",
      "Solution count 0\n",
      "\n",
      "Model is infeasible\n",
      "Best objective -, best bound -, gap -\n",
      "\n",
      "IIS computed: 1 constraints, 2 bounds\n",
      "IIS runtime: 0.03 seconds (0.00 work units)\n"
     ]
    }
   ],
   "source": [
    "m.computeIIS()"
   ]
  },
  {
   "cell_type": "code",
   "execution_count": 27,
   "id": "e1feab80-2e82-434d-be44-727848950d4c",
   "metadata": {
    "tags": []
   },
   "outputs": [
    {
     "name": "stdout",
     "output_type": "stream",
     "text": [
      "\n",
      "IIS computed: 1 constraints, 2 bounds\n",
      "IIS runtime: 0.00 seconds (0.00 work units)\n"
     ]
    }
   ],
   "source": [
    "if m.Status == GRB.INFEASIBLE:\n",
    "    m.computeIIS()\n",
    "    m.write('iismodel.ilp')"
   ]
  },
  {
   "cell_type": "code",
   "execution_count": 30,
   "id": "af5ca039-d743-4bc9-a806-247f253d6a0c",
   "metadata": {
    "tags": []
   },
   "outputs": [
    {
     "name": "stdout",
     "output_type": "stream",
     "text": [
      "\n",
      "The following constraints and variables are in the IIS:\n",
      "\tdemanda potencia activa _1: P[2,1] + P[10,1] = -122900.0\n",
      "\tP[2,1] ≥ 0.0\n",
      "\tP[10,1] ≥ 0.0\n"
     ]
    }
   ],
   "source": [
    "# Print out the IIS constraints and variables\n",
    "print('\\nThe following constraints and variables are in the IIS:')\n",
    "for c in m.getConstrs():\n",
    "    if c.IISConstr: \n",
    "        print(f'\\t{c.constrname}: {m.getRow(c)} {c.Sense} {c.RHS}')\n",
    "\n",
    "\n",
    "for v in m.getVars():\n",
    "\n",
    "    if v.IISLB: print(f'\\t{v.varname} ≥ {v.LB}')\n",
    "    if v.IISUB: print(f'\\t{v.varname} ≤ {v.UB}')"
   ]
  }
 ],
 "metadata": {
  "kernelspec": {
   "display_name": "Python 3 (ipykernel)",
   "language": "python",
   "name": "python3"
  },
  "language_info": {
   "codemirror_mode": {
    "name": "ipython",
    "version": 3
   },
   "file_extension": ".py",
   "mimetype": "text/x-python",
   "name": "python",
   "nbconvert_exporter": "python",
   "pygments_lexer": "ipython3",
   "version": "3.11.4"
  },
  "toc-autonumbering": true,
  "toc-showcode": true,
  "toc-showmarkdowntxt": true,
  "toc-showtags": true
 },
 "nbformat": 4,
 "nbformat_minor": 5
}
