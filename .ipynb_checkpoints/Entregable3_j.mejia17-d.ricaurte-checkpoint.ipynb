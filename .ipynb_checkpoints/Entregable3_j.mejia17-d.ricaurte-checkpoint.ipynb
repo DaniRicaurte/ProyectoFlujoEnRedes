{
 "cells": [
  {
   "cell_type": "code",
   "execution_count": 1,
   "id": "1968f76b-bf68-4ea4-8151-550f5d05a417",
   "metadata": {
    "tags": []
   },
   "outputs": [],
   "source": [
    "import networkx as nx\n",
    "import matplotlib.pyplot as plt\n",
    "import gurobipy as gp\n",
    "import math\n",
    "from gurobipy import *"
   ]
  },
  {
   "cell_type": "markdown",
   "id": "5b946d36-1a27-4a7d-aca6-e163d3917208",
   "metadata": {
    "tags": []
   },
   "source": [
    "|Estudiante|Código|Correo|\n",
    "|-----|-----|----|\n",
    "|Juana Mejía Botero|20221512|j.mejia17|\n",
    "|Daniela Ricaurte Echeverry|201822966|d.ricaurte|\n",
    "\n",
    "# Proyecto - Entrega 3\n",
    "\n",
    "# Table de Contenido\n",
    "[[_TOC_]]\n",
    "\n",
    "## Modelo Matemático\n",
    "\n",
    "### Variables del Problema\n",
    "- $y_{ij}$ variable binaria que representa el *estado de la llave de interconexión* entre i y j, donde esta será 1 si la llave está abierta y 0 si se encuentra cerrada.  \n",
    "- $P_{ij}$ variable continua que representa el flujo de *potencia activa* entre los nodos $i$ y $j$.\n",
    "- $Q_{ij}$ variable continua que representa el flujo de *potencia reactiva* entre los nodos $i$ y $j$.\n",
    "- $I_{ij}$ variable continua que representa el flujo de corriente entre los nodos $i$ y $j$.\n",
    "- $V_{i}$ variable continua  representa el voltaje en el nodo $i$.\n",
    "\n",
    "\n",
    "### Parámetros del Problema\n",
    "\n",
    "- $P_{i}^{D}$ representa la demanda de potencia activa en el nodo $i$ \n",
    "\n",
    "- $Q_{i}^{D}$  representa la demanda de potencia  reactiva en el nodo $i$.\n",
    "\n",
    "- $R_{ij}$ representa la resistencia de la linea entre los nodos $i$ y $j$ \n",
    "\n",
    "- $X_{ij}$ representa la reactancia de la linea entre los nodos $i$ y $j$."
   ]
  },
  {
   "cell_type": "code",
   "execution_count": 2,
   "id": "4dfdd295-4d80-4068-a9bd-07e250cdeee0",
   "metadata": {
    "tags": []
   },
   "outputs": [
    {
     "name": "stdout",
     "output_type": "stream",
     "text": [
      "%% Datos del Sistema de 14 barras\n",
      "\n",
      "% Datos globales\n",
      "nref  = 14;         % nodo de referencia\n",
      "vref  = 1.0;        % tensión en la subestación (pu)\n",
      "vbase = 23.0;       % Tensión base (kV)\n",
      "sbase = 100000;     % Potencia base (kVA)\n",
      "tol   = 10^-8;      % Tolerancia del error permitido\n",
      "vmin  = 0.93;       % Tensión mínima (pu)\n",
      "vmax  = 1.05;       % Tensión máxima (pu)\n",
      "\n",
      "% Base de impedancia\n",
      "zbase = 100;\n",
      "\n",
      "% Datos de ramas\n",
      "%             de    para       R(%)     X(%)\n",
      "ramos = [     14      13       7.50    10.00\n",
      "              13      12       8.00    11.00\n",
      "              13      11       9.00    18.00\n",
      "              11      10       4.00     4.00\n",
      "              14       9      11.00    11.00\n",
      "               9       8       8.00    11.00\n",
      "               9       7      11.00    11.00\n",
      "               8       6      11.00    11.00\n",
      "               8       5       8.00    11.00\n",
      "              14       4      11.00    11.00\n",
      "               4       3       9.00    12.00\n",
      "               4       2       8.00    11.00\n",
      "               2       1       4.00     4.00\n",
      "              12       6       4.00     4.00\n",
      "               7       3       4.00     4.00\n",
      "              10       1       9.00    12.00 ];\n",
      "\n",
      "% Demanda de potencia activa y reactiva en las barras\n",
      "%          barra       Pd(kW)  Qd(kW) Qbc(kW)\n",
      "barras = [    14          0.0     0.0     0.0\n",
      "              13       2000.0  1600.0     0.0\n",
      "              12       3000.0  1500.0  1100.0\n",
      "              11       2000.0   800.0  1200.0\n",
      "              10       1500.0  1200.0     0.0\n",
      "               9       4000.0  2700.0     0.0\n",
      "               8       5000.0  3000.0  1200.0\n",
      "               7       1000.0   900.0     0.0\n",
      "               6        600.0   100.0   600.0\n",
      "               5       4500.0  2000.0  3700.0\n",
      "               4       1000.0   900.0     0.0\n",
      "               3       1000.0   700.0  1800.0\n",
      "               2       1000.0   900.0     0.0\n",
      "               1       2100.0  1000.0  1800.0 ];\n",
      "\n",
      "\n"
     ]
    }
   ],
   "source": [
    "# Base de datos\n",
    "file = open(\"C:\\\\Users\\\\danir\\\\OneDrive - Universidad de los andes\\\\Flujo de Redes\\\\Proyecto\\\\datos14.txt\", \"r\")\n",
    "\n",
    "print(file.read())\n",
    "print()\n",
    "\n"
   ]
  },
  {
   "cell_type": "code",
   "execution_count": 3,
   "id": "be1741d4-27c8-4b01-9ad9-b6e5a8fb67fd",
   "metadata": {
    "tags": []
   },
   "outputs": [
    {
     "name": "stdout",
     "output_type": "stream",
     "text": [
      "{'nref': 14.0, 'vref': 1.0, 'vbase': 23.0, 'sbase': 100000.0, 'vmin': 0.93, 'vmax': 1.05, 'zbase': 100.0}\n",
      "items\n",
      "nref: 14.0\n",
      "items\n",
      "vref: 1.0\n",
      "items\n",
      "vbase: 23.0\n",
      "items\n",
      "sbase: 100000.0\n",
      "items\n",
      "vmin: 0.93\n",
      "items\n",
      "vmax: 1.05\n",
      "items\n",
      "zbase: 100.0\n",
      "[14.0, 13.0, 7.5, 10.0]\n",
      "[13.0, 12.0, 8.0, 11.0]\n",
      "[13.0, 11.0, 9.0, 18.0]\n",
      "[11.0, 10.0, 4.0, 4.0]\n",
      "[14.0, 9.0, 11.0, 11.0]\n",
      "[9.0, 8.0, 8.0, 11.0]\n",
      "[9.0, 7.0, 11.0, 11.0]\n",
      "[8.0, 6.0, 11.0, 11.0]\n",
      "[8.0, 5.0, 8.0, 11.0]\n",
      "[14.0, 4.0, 11.0, 11.0]\n",
      "[4.0, 3.0, 9.0, 12.0]\n",
      "[4.0, 2.0, 8.0, 11.0]\n",
      "[2.0, 1.0, 4.0, 4.0]\n",
      "[12.0, 6.0, 4.0, 4.0]\n",
      "[7.0, 3.0, 4.0, 4.0]\n",
      "[10.0, 1.0, 9.0, 12.0]\n",
      "[14, 0.0, 0.0, 0.0]\n",
      "[13, 2000.0, 1600.0, 0.0]\n",
      "[12, 3000.0, 1500.0, 1100.0]\n",
      "[11, 2000.0, 800.0, 1200.0]\n",
      "[10, 1500.0, 1200.0, 0.0]\n",
      "[9, 4000.0, 2700.0, 0.0]\n",
      "[8, 5000.0, 3000.0, 1200.0]\n",
      "[7, 1000.0, 900.0, 0.0]\n",
      "[6, 600.0, 100.0, 600.0]\n",
      "[5, 4500.0, 2000.0, 3700.0]\n",
      "[4, 1000.0, 900.0, 0.0]\n",
      "[3, 1000.0, 700.0, 1800.0]\n",
      "[2, 1000.0, 900.0, 0.0]\n",
      "[1, 2100.0, 1000.0, 1800.0]\n"
     ]
    }
   ],
   "source": [
    "import re\n",
    "\n",
    "# Define a dictionary to store the values\n",
    "values = {}\n",
    "branches = []\n",
    "bus_demand = []\n",
    "\n",
    "\n",
    "# Define regular expressions to match the variables and their values\n",
    "patterns = {\n",
    "    'nref': r'nref\\s*=\\s*([\\d.]+);',\n",
    "    'vref': r'vref\\s*=\\s*([\\d.]+);',\n",
    "    'vbase': r'vbase\\s*=\\s*([\\d.]+);',\n",
    "    'sbase': r'sbase\\s*=\\s*([\\d.]+);',\n",
    "    'tol': r'tol\\s*=\\s*([\\d.eE+-]+);',  # Updated for exponent notation\n",
    "    'vmin': r'vmin\\s*=\\s*([\\d.]+);',\n",
    "    'vmax': r'vmax\\s*=\\s*([\\d.]+);',\n",
    "    'zbase': r'zbase\\s*=\\s*([\\d.]+);',\n",
    "}\n",
    "\n",
    "branch_pattern = r'ramos\\s*=\\s*\\[(.*?)\\];'\n",
    "bus_demand_pattern = r'barras\\s*=\\s*\\[(.*?)\\];'\n",
    "\n",
    "# Read the content of the file\n",
    "file_path = \"C:\\\\Users\\\\danir\\\\OneDrive - Universidad de los andes\\\\Flujo de Redes\\\\Proyecto\\\\datos14.txt\"\n",
    "with open(file_path, \"r\") as file:\n",
    "    text = file.read()\n",
    "\n",
    "# Extract the values using regular expressions\n",
    "for key, pattern in patterns.items():\n",
    "    match = re.search(pattern, text, re.IGNORECASE)\n",
    "    if match:\n",
    "        if key == 'tol':\n",
    "            print(key)\n",
    "            base, exponent = match.group(1).split('e')\n",
    "            values[key] = float(base) * 10 ** int(exponent)\n",
    "        else:\n",
    "            values[key] = float(match.group(1))\n",
    "print (values)\n",
    "# Print the extracted values\n",
    "for key, value in values.items():\n",
    "    print(\"items\")\n",
    "    print(f\"{key}: {value}\")\n",
    "    \n",
    "\n",
    "# Extract branch data using the pattern\n",
    "match = re.search(branch_pattern, text, re.DOTALL)\n",
    "if match:\n",
    "    branch_data = match.group(1)\n",
    "\n",
    "    # Split the data into individual lines and remove comments\n",
    "    branch_lines = branch_data.split('\\n')\n",
    "    branch_lines = [line.strip() for line in branch_lines if not line.strip().startswith('%')]\n",
    "\n",
    "    # Split each line into individual values and convert them to floats\n",
    "    for line in branch_lines:\n",
    "        valores = line.split()\n",
    "        if len(valores) == 4:\n",
    "            branch = [float(valor) for valor in valores]\n",
    "            branches.append(branch)\n",
    "\n",
    "# Print the extracted branch data\n",
    "for branch in branches:\n",
    "    print(branch)\n",
    "\n",
    "match = re.search(bus_demand_pattern, text, re.DOTALL)\n",
    "if match:\n",
    "    bus_demand_data = match.group(1)\n",
    "\n",
    "    # Split the data into individual lines and remove comments\n",
    "    bus_demand_lines = bus_demand_data.split('\\n')\n",
    "    bus_demand_lines = [line.strip() for line in bus_demand_lines if not line.strip().startswith('%')]\n",
    "\n",
    "    # Split each line into individual values and convert them to floats\n",
    "    for line in bus_demand_lines:\n",
    "        valores = line.split()\n",
    "        if len(valores) >= 4:\n",
    "            bus = [int(valores[0]), float(valores[1]), float(valores[2]), float(valores[3])]\n",
    "            bus_demand.append(bus)\n",
    "\n",
    "# Print the extracted bus demand data\n",
    "for bus in bus_demand:\n",
    "    print(bus)\n",
    "\n"
   ]
  },
  {
   "cell_type": "code",
   "execution_count": 4,
   "id": "1c6be099-c9f9-42b8-b32a-28915cc94367",
   "metadata": {
    "tags": []
   },
   "outputs": [
    {
     "name": "stdout",
     "output_type": "stream",
     "text": [
      "[1, 2, 3, 4, 5, 6, 7, 8, 9, 10, 11, 12, 13, 14]\n"
     ]
    }
   ],
   "source": [
    "\n",
    "nref=values.get(\"nref\")\n",
    "nodes = list(range(1,int(nref)+1))\n",
    "print(nodes)"
   ]
  },
  {
   "cell_type": "code",
   "execution_count": 5,
   "id": "d3b84c9c-c4a4-47b4-a2f3-2a40e7530496",
   "metadata": {
    "tags": []
   },
   "outputs": [
    {
     "name": "stdout",
     "output_type": "stream",
     "text": [
      "active\n",
      "14 0.0\n",
      "13 2000.0\n",
      "12 3000.0\n",
      "11 2000.0\n",
      "10 1500.0\n",
      "9 4000.0\n",
      "8 5000.0\n",
      "7 1000.0\n",
      "6 600.0\n",
      "5 4500.0\n",
      "4 1000.0\n",
      "3 1000.0\n",
      "2 1000.0\n",
      "1 2100.0\n",
      "reactive\n",
      "14 0.0\n",
      "13 1600.0\n",
      "12 1500.0\n",
      "11 800.0\n",
      "10 1200.0\n",
      "9 2700.0\n",
      "8 3000.0\n",
      "7 900.0\n",
      "6 100.0\n",
      "5 2000.0\n",
      "4 900.0\n",
      "3 700.0\n",
      "2 900.0\n",
      "1 1000.0\n"
     ]
    }
   ],
   "source": [
    "potencias = ['Activa', 'Reactiva']\n",
    "pd = {}\n",
    "qd = {}\n",
    "\n",
    "for bus in bus_demand:\n",
    "    node = bus[0]\n",
    "    active_power = bus[1]\n",
    "    reactive_power = bus[2]\n",
    "    pd[(node)] = active_power\n",
    "    qd[( node)] = reactive_power\n",
    "\n",
    "print(\"active\")\n",
    "for key, value in pd.items():\n",
    "\n",
    "    print(key, value)\n",
    "\n",
    "print(\"reactive\")\n",
    "for key, value in qd.items():\n",
    "    print(key, value)"
   ]
  },
  {
   "cell_type": "code",
   "execution_count": 6,
   "id": "2896ab5d-7fe5-47a4-857a-05f44faf73cd",
   "metadata": {
    "tags": []
   },
   "outputs": [
    {
     "data": {
      "text/plain": [
       "0.0"
      ]
     },
     "execution_count": 6,
     "metadata": {},
     "output_type": "execute_result"
    }
   ],
   "source": [
    "pd.get(14)"
   ]
  },
  {
   "cell_type": "code",
   "execution_count": 7,
   "id": "114d6865-92a0-430e-a849-f95398fd3bdd",
   "metadata": {
    "tags": []
   },
   "outputs": [
    {
     "name": "stdout",
     "output_type": "stream",
     "text": [
      "Resistencia\n",
      "(14, 13) 0.075\n",
      "(13, 12) 0.08\n",
      "(13, 11) 0.09\n",
      "(11, 10) 0.04\n",
      "(14, 9) 0.11\n",
      "(9, 8) 0.08\n",
      "(9, 7) 0.11\n",
      "(8, 6) 0.11\n",
      "(8, 5) 0.08\n",
      "(14, 4) 0.11\n",
      "(4, 3) 0.09\n",
      "(4, 2) 0.08\n",
      "(2, 1) 0.04\n",
      "(12, 6) 0.04\n",
      "(7, 3) 0.04\n",
      "(10, 1) 0.09\n",
      "Reactancia\n",
      "(14, 13) 0.1\n",
      "(13, 12) 0.11\n",
      "(13, 11) 0.18\n",
      "(11, 10) 0.04\n",
      "(14, 9) 0.11\n",
      "(9, 8) 0.11\n",
      "(9, 7) 0.11\n",
      "(8, 6) 0.11\n",
      "(8, 5) 0.11\n",
      "(14, 4) 0.11\n",
      "(4, 3) 0.12\n",
      "(4, 2) 0.11\n",
      "(2, 1) 0.04\n",
      "(12, 6) 0.04\n",
      "(7, 3) 0.04\n",
      "(10, 1) 0.12\n",
      "arcos\n",
      "[(14, 13), (13, 12), (13, 11), (11, 10), (14, 9), (9, 8), (9, 7), (8, 6), (8, 5), (14, 4), (4, 3), (4, 2), (2, 1), (12, 6), (7, 3), (10, 1)]\n"
     ]
    }
   ],
   "source": [
    "impedencia = [\"Resistencia\", \"Reactancia\" ]\n",
    "\n",
    "#resistencia\n",
    "r = {}\n",
    "#Reactancia\n",
    "x = {}\n",
    "#arcos\n",
    "B = []\n",
    "\n",
    "for branch in branches:\n",
    "    from_node = int(branch[0])\n",
    "    to_node = int(branch[1])\n",
    "    resistance = branch[2]\n",
    "    reactance = branch[3]\n",
    "    \n",
    "    \n",
    "    B.append( (from_node, to_node))\n",
    "    r[( from_node, to_node)] = resistance*0.01\n",
    "    x[( from_node, to_node)] = reactance*0.01\n",
    "\n",
    "print(\"Resistencia\")\n",
    "for key, value in r.items():\n",
    "    print(key, value)\n",
    "\n",
    "print(\"Reactancia\")\n",
    "for key, value in x.items():\n",
    "    print(key, value)\n",
    "    \n",
    "print(\"arcos\")\n",
    "print(B)"
   ]
  },
  {
   "cell_type": "code",
   "execution_count": 8,
   "id": "6f9052f6-92a8-438d-876d-11f4fd13815a",
   "metadata": {
    "tags": []
   },
   "outputs": [
    {
     "name": "stdout",
     "output_type": "stream",
     "text": [
      "0.075\n"
     ]
    }
   ],
   "source": [
    "print(r.get((14,13)))"
   ]
  },
  {
   "cell_type": "code",
   "execution_count": 9,
   "id": "435a858d-def5-4f15-b020-8d945aaf3fba",
   "metadata": {
    "tags": []
   },
   "outputs": [],
   "source": [
    "# Crear un grafo dirigido\n",
    "G = nx.DiGraph()\n",
    "\n",
    "# Añadir nodos\n",
    "for node in nodes:\n",
    "    G.add_node(node)\n",
    "    \n",
    "\n",
    "    "
   ]
  },
  {
   "cell_type": "markdown",
   "id": "05c37abc-d6d4-4438-9eaf-963a79b9e612",
   "metadata": {},
   "source": [
    "Creación del modelo\n",
    "\n",
    "\n",
    "Para le modelo t=1"
   ]
  },
  {
   "cell_type": "code",
   "execution_count": 42,
   "id": "90840822-6bde-49ee-8b43-e07baacd4191",
   "metadata": {
    "tags": []
   },
   "outputs": [],
   "source": [
    "# Create optimization model\n",
    "m = gp.Model(\"RSD\")\n",
    "#Constantes\n",
    "\n",
    "#tolerancia\n",
    "tol=0.0000001\n",
    "\n",
    "# b=lo que genera/consume cada nodo\n",
    "b_v= 0.1\n",
    "\n",
    "# Variables\n",
    "# Estado de la llave del arco i y j\n",
    "y =  m.addVars(nodes, nodes,  vtype=GRB.BINARY, name=\"y\")\n",
    "\n",
    "# Flujo de potencia activa entre los nodos i y j \n",
    "P =  m.addVars(nodes,nodes, vtype=GRB.CONTINUOUS, name=\"P\")\n",
    "\n",
    "# Flujo de potencia reactiva entre los nodos i y j \n",
    "Q = m.addVars(nodes,nodes,  vtype=GRB.CONTINUOUS, name=\"Q\")\n",
    "\n",
    "# Flujo de Corriente entre los nodos i y j\n",
    "I = m.addVars(nodes,nodes,  vtype=GRB.CONTINUOUS, name=\"I\")\n",
    "\n",
    "# Raiz cuadrada del flujo de Corriente entre los nodos i y j\n",
    "Isqrt = m.addVars(nodes,nodes,  vtype=GRB.CONTINUOUS, name=\"Isqrt\")\n",
    "\n",
    "# Voltaje del nodo i\n",
    "V = m.addVars(nodes,  vtype=GRB.CONTINUOUS, lb=(values.get(\"vmin\")*values.get(\"vbase\"), ub=(values.get(\"vmax\")*values*, name=\"V\")\n",
    "\n",
    "# Raiz cuadrada del voltaje del nodo i\n",
    "Vsqrt = m.addVars(nodes, vtype=GRB.CONTINUOUS, name=\"Vsqrt\")\n",
    "\n",
    "# Delta del V\n",
    "deltaV= m.addVars(nodes,nodes,  vtype=GRB.CONTINUOUS, name=\"deltaV\")\n"
   ]
  },
  {
   "cell_type": "code",
   "execution_count": 27,
   "id": "8922c833-57e5-48ea-9c6b-f5a65ceca433",
   "metadata": {
    "tags": []
   },
   "outputs": [
    {
     "name": "stdout",
     "output_type": "stream",
     "text": [
      "0.075\n"
     ]
    }
   ],
   "source": [
    "print (r[14,13])"
   ]
  },
  {
   "cell_type": "code",
   "execution_count": 28,
   "id": "b885cfc6-38aa-42d2-9bcd-f1ce889a2183",
   "metadata": {
    "tags": []
   },
   "outputs": [
    {
     "name": "stdout",
     "output_type": "stream",
     "text": [
      "0.075\n",
      "0.08\n",
      "0.09\n",
      "0.04\n",
      "0.11\n",
      "0.08\n",
      "0.11\n",
      "0.11\n",
      "0.08\n",
      "0.11\n",
      "0.09\n",
      "0.08\n",
      "0.04\n",
      "0.04\n",
      "0.04\n",
      "0.09\n"
     ]
    }
   ],
   "source": [
    "for (i,j)in B:\n",
    "    print(r[i, j] )"
   ]
  },
  {
   "cell_type": "code",
   "execution_count": 38,
   "id": "e08078d2-7084-4297-a0e1-233908a38b0b",
   "metadata": {
    "tags": []
   },
   "outputs": [
    {
     "name": "stdout",
     "output_type": "stream",
     "text": [
      "0.1\n",
      "0.11\n",
      "0.18\n",
      "0.04\n",
      "0.11\n",
      "0.11\n",
      "0.11\n",
      "0.11\n",
      "0.11\n",
      "0.11\n",
      "0.12\n",
      "0.11\n",
      "0.04\n",
      "0.04\n",
      "0.04\n",
      "0.12\n"
     ]
    }
   ],
   "source": [
    "for (i,j)in B:\n",
    "    print(x[i, j] )"
   ]
  },
  {
   "cell_type": "code",
   "execution_count": 29,
   "id": "39a26f1b-1134-476e-90c7-957638e922bc",
   "metadata": {
    "tags": []
   },
   "outputs": [
    {
     "name": "stdout",
     "output_type": "stream",
     "text": [
      "0.0\n",
      "2000.0\n",
      "3000.0\n",
      "2000.0\n",
      "1500.0\n",
      "4000.0\n",
      "5000.0\n",
      "1000.0\n",
      "600.0\n",
      "4500.0\n",
      "1000.0\n",
      "1000.0\n",
      "1000.0\n",
      "2100.0\n"
     ]
    }
   ],
   "source": [
    "for i in pd:\n",
    "    print(pd[i] )"
   ]
  },
  {
   "cell_type": "code",
   "execution_count": 30,
   "id": "30efaf4d-ec34-4597-879f-49fedaad5a41",
   "metadata": {
    "tags": []
   },
   "outputs": [],
   "source": [
    "for (i, j) in B:\n",
    "    m.addConstr(Isqrt[i, j] * Isqrt[i, j] == I[i, j], name=f\"sqrt_constraint_I_{i}_{j}\")"
   ]
  },
  {
   "cell_type": "code",
   "execution_count": 31,
   "id": "97f1c256-f20f-4343-8a28-a2833d048d75",
   "metadata": {
    "tags": []
   },
   "outputs": [],
   "source": [
    "for i in nodes:\n",
    "    m.addConstr(Vsqrt[i] * Vsqrt[i] == V[i], name=f\"sqrt_constraint_V_{i}_{j}\")"
   ]
  },
  {
   "cell_type": "code",
   "execution_count": 32,
   "id": "3b309399-acbb-409f-97d4-52820008921e",
   "metadata": {
    "tags": []
   },
   "outputs": [],
   "source": [
    "m.update()"
   ]
  },
  {
   "cell_type": "markdown",
   "id": "6155ed3e-202d-4206-a5f2-bae0b7f35ca6",
   "metadata": {},
   "source": [
    "### Función Objetivo\n",
    "\n",
    "$$\n",
    "Min \\sum\\limits_{ij \\in {B}} {{R_{ij}}I_{ij}^{sqr}};\n",
    "$$\n"
   ]
  },
  {
   "cell_type": "code",
   "execution_count": 33,
   "id": "f4829c18-026b-4232-912c-29b4206d2cef",
   "metadata": {
    "tags": []
   },
   "outputs": [],
   "source": [
    "FO = LinExpr()\n",
    "for (i, j) in B:\n",
    "    FO += Isqrt[i,j] * r[i, j]\n",
    "\n",
    "m.setObjective(FO, GRB.MINIMIZE)\n",
    "    "
   ]
  },
  {
   "cell_type": "markdown",
   "id": "aca66814-d283-464d-b65a-b0d05c33f010",
   "metadata": {},
   "source": [
    "### Restricciones del problema"
   ]
  },
  {
   "cell_type": "markdown",
   "id": "7555fd10-5118-4f47-b153-c86715ad7cb4",
   "metadata": {},
   "source": [
    "1. Equilibrio de potencia activa: esta restricción regula que la cantidad total de potencia activa que es consumida en el sistema eléctrico sea igual a la generada y entregada al sistema, además debe ser igual a la demandada del nodo. \n",
    "\n",
    "$$\n",
    "\\sum\\limits_{ki \\in {B}} {{P_{ki}}}   - \\sum\\limits_{ij \\in {B}} {\\left( {{P_{ij}} + {R_{ij}}I_{ij}^{sqr}} \\right)} + P_{i,t}^S = P_{i,t}^D;\\forall i \\in {N}\n",
    "$$"
   ]
  },
  {
   "cell_type": "code",
   "execution_count": 34,
   "id": "fac6f84a-c21d-4094-a8a9-523bfe7372ee",
   "metadata": {
    "tags": []
   },
   "outputs": [
    {
     "name": "stdout",
     "output_type": "stream",
     "text": [
      "100000.0\n"
     ]
    }
   ],
   "source": [
    "print(values.get(\"sbase\"))"
   ]
  },
  {
   "cell_type": "code",
   "execution_count": 35,
   "id": "50a7cb4d-ac1d-4363-af34-864652f8dd34",
   "metadata": {},
   "outputs": [],
   "source": [
    "for i in nodes:\n",
    "    # Create a linear expression for the first part\n",
    "    expr1 = quicksum(P[k, i] for (k, i) in B)\n",
    "    \n",
    "    # Create a linear expression for the second part\n",
    "    expr2 = quicksum((P[i, j] + r[i, j] * Isqrt[i, j]) for (i, j) in B)\n",
    "    \n",
    "    # Subtract the second expression from the first and add sbase\n",
    "    r1 = expr1 - expr2 + values.get(\"sbase\")\n",
    "    \n",
    "    # Add the constraint\n",
    "    m.addConstr(r1 == pd[i], name=f\"demanda potencia activa _{i}\")\n"
   ]
  },
  {
   "cell_type": "markdown",
   "id": "d2516c16-54b1-4777-ad07-d8166cfb66db",
   "metadata": {},
   "source": [
    "2. Equilibrio de potencia reactiva: permite que la cantidad total de potencia reactiva que es consumida en el sistema eléctrico sea igual a la generada y entregada al sistema y debe igualar la demanda del nodo.\n",
    "\n",
    "$$\n",
    "\\sum\\limits_{ki \\in {B}} {{Q_{ki,t}}}   - \\sum\\limits_{ij \\in {B}} {\\left( {{Q_{ij,t}} + {X_{ij}}I_{ij,t}^{sqr}} \\right)}  + Q_{i,t}^S= Q_{i,t}^D;\\forall i \\in {N},    \\forall t \\in {T}\n",
    "$$ "
   ]
  },
  {
   "cell_type": "code",
   "execution_count": 36,
   "id": "e8fe7987-6457-482d-b866-355b43e5606f",
   "metadata": {},
   "outputs": [],
   "source": [
    "for i in nodes: \n",
    "    expr1= quicksum(Q[k,i] for (k,i) in B)\n",
    "    expr2= quicksum((Q[i,j] + r[i,j]*Isqrt[i,j]) for (i,j) in B)\n",
    "    r2= expr1-expr2+ values.get(\"sbase\")\n",
    "    m.addConstr(r2== qd[i], name=f\"demanda potencia reactiva _{i}\")"
   ]
  },
  {
   "cell_type": "markdown",
   "id": "5e32b3dd-f3fe-4629-ad23-2ae087b8088c",
   "metadata": {},
   "source": [
    "3. Restricción del limite de la magnitud de tensión. El voltaje debe encontrarse entre un rango especifico. \n",
    "\n",
    "$$\n",
    "{V_{i,t}^{sqr} = V_{j,t}^{sqr} + 2\\left( {{R_{ij}}{P_{ij,t}} + {X_{ij}}{Q_{ij,t}}} \\right)}- Z_{ij}^2{I_{ij,t}^{sqr}} + \\Delta_{ij,t}^{V}; \\forall ij \\in {B},  \\forall  t \\in {T}\n",
    "$$\n",
    "\n",
    "$$\n",
    "{V_{i}^{sqr} = V_{j}^{sqr} + 2\\left( {{R_{ij}}{P_{ij}} + {X_{ij}}{Q_{ij}}} \\right)}- (x_{ij}^2+r_{i,j}^2){I_{ij}^{sqr}} + \\Delta_{ij}^{V}; \\forall ij \\in {B}\n",
    "$$\n",
    "\n",
    "$Z_{i,j}=x_{ij}^2+r_{i,j}^2$"
   ]
  },
  {
   "cell_type": "code",
   "execution_count": 41,
   "id": "ca768179-d8f5-4a47-be08-3d2530966b8a",
   "metadata": {},
   "outputs": [],
   "source": [
    "for i,j in B: \n",
    "    expr1= 2*(P[(i, j)] * r[i,j] +Q[(i, j)] *x[i,j])\n",
    "    expr2= (x[i,j]**2 + r[i,j]**2) *Isqrt[i,j]\n",
    "    r3= Vsqrt[(j)] + expr1 - expr2 + deltaV[i,j]\n",
    "    \n",
    "    m.addConstr(Vsqrt[i]==r3,name=f\"limite de magnitud de tensión\")"
   ]
  },
  {
   "cell_type": "markdown",
   "id": "4abe8ed5-4542-4b65-b343-7cd347057ec4",
   "metadata": {},
   "source": [
    "4. Restricción que permite regular la magnitud de tensión entre los nodos del sistema con respecto al estado de conexión/desconexión de las llaves de interconexión entre los nodos. \n",
    "\n",
    "$$\n",
    "- {b^V}( {1 - {y_{ij}^B}}) \\le \\Delta _{ij}^V \\le {b^V}( {1 -  {y_{ij}^B}});\\forall ij \\in B\n",
    "$$\n",
    "b= lo que genera/consume cada nodo\n"
   ]
  },
  {
   "cell_type": "code",
   "execution_count": 48,
   "id": "eb773f75-2b19-4076-9156-b872593c6164",
   "metadata": {},
   "outputs": [],
   "source": [
    "for (i,j) in B: \n",
    "    expr1= -b_v *(1 - y[i, j])\n",
    "    m.addConstr(expr1 <= deltaV[(i, j)] ,name=f\"regular la magnitud minima de tensión entre los nodos del sistema con respecto a las llaves\")\n",
    "    expr2 = b_v * (1 - y[i, j])\n",
    "    m.addConstr(deltaV[(i, j)]<= expr2,name=f\"regular la magnitud maxima de tensión entre los nodos del sistema con respecto a las llaves\")\n",
    "\n",
    "   "
   ]
  },
  {
   "cell_type": "markdown",
   "id": "2d3e0b97-833e-492f-828c-21c73b4f9588",
   "metadata": {},
   "source": [
    "5. Restricción que permite que se sigan las leyes de la conservación de energía en el sistema eléctrico y tiene en cuenta la relación entre las magnitudes de tensión, corriente y potencias activas y reactivas\n",
    "$$\n",
    "V_{j}^{sqr} I_{ij}^{sqr} = P_{ij}^2 +  Q_{ij}^2;\\forall ij \\in {B}\n",
    "$$\n",
    "\n",
    "Esta se debe de linealizar, para lograr que sea una restricción optima de LP"
   ]
  },
  {
   "cell_type": "code",
   "execution_count": 49,
   "id": "d9c6881d-26e6-495e-89ac-cc56b5d1761b",
   "metadata": {},
   "outputs": [],
   "source": [
    "for (i,j) in B:\n",
    "    m.addConstr(Vsqrt[j] * Isqrt[i, j] == P[i, j] * P[i, j] + Q[i, j] * Q[i, j],\n",
    "                    name=f\"restriccion_cuadratica_{i}_{j}\")"
   ]
  },
  {
   "cell_type": "markdown",
   "id": "e7eebccb-e47f-495f-82cd-01e41122f00a",
   "metadata": {
    "tags": []
   },
   "source": [
    "6. Conservación de potencia en el sistema eléctrico. \n",
    "\n",
    "$$\n",
    "{ {\\underline V }^2} \\le V_{i}^{sqr} \\le {\\overline V }^2;\\forall i \\in N\n",
    "$$"
   ]
  },
  {
   "cell_type": "code",
   "execution_count": 51,
   "id": "aa74b776-95f8-4ed9-b4f7-21d272ee0546",
   "metadata": {},
   "outputs": [],
   "source": [
    "for i in nodes:\n",
    "    m.addConstr(values.get(\"vmin\")**2<= Vsqrt[i], name =f\" Conservación_minima_de_potencia_{i}\")\n",
    "    m.addConstr(Vsqrt[i]<=values.get(\"vmax\")**2, name =f\" Conservación_maxima_de_potencia_{i}\")"
   ]
  },
  {
   "cell_type": "markdown",
   "id": "5453bec0-86ff-49e4-bd1c-cca99e80be27",
   "metadata": {},
   "source": [
    "7. Límites al cuadrado de la magnitud de la corriente entre los nodos i y j cuando la llave de interconexión se encuentre abierta. \n",
    "\n",
    "$$\n",
    "0 \\le I_{ij}^{sqr} \\le \\overline I_{ij}^2 y_{ij}^B;\\forall ij \\in {B}\n",
    "$$\n"
   ]
  },
  {
   "cell_type": "code",
   "execution_count": 53,
   "id": "b7893d60-d912-40a7-85fa-39523f0d2fc4",
   "metadata": {},
   "outputs": [],
   "source": [
    "for (i,j) in B:\n",
    "    m.addConstr(0<=Isqrt[i,j], name=f\"magnitud_minima_Corriente_{i}_{j}\")\n",
    "    m.addConstr(Isqrt[i,j]<= (values.get(\"vmax\")/r[i,j])**2*y[i,j], name=f\"magnitud_maxima_Corriente_{i}_{j}\")\n",
    "    "
   ]
  },
  {
   "cell_type": "markdown",
   "id": "93b5ef13-4cb8-4cc5-a5c0-3d3508fbf663",
   "metadata": {},
   "source": [
    "8. Restricción de la variable de estado de funcionamiento de los interruptores de interconexión $y_{ij,t}^B$.\n",
    "\n",
    "$$\n",
    "y_{ij,t}^B \\in \\left\\{ {0,1} \\right\\};\\forall ij \\in {B}, \\forall t \\in {T}\n",
    "$$"
   ]
  },
  {
   "cell_type": "code",
   "execution_count": null,
   "id": "ff934383-f284-4b89-ab4d-173630ef94ee",
   "metadata": {},
   "outputs": [],
   "source": []
  },
  {
   "cell_type": "markdown",
   "id": "c24be64b-874e-4c4e-bf1d-4509166e2cb7",
   "metadata": {},
   "source": [
    "9. Restricción de radialidad\n",
    "\n",
    "$$\\sum_{ij \\in B}{ y_{ij,t}^B} = |N|- |N_{sub}|$$\n",
    "\n",
    "Para le caso Nsub= 1, entonces\n",
    "\n",
    "$$\\sum_{ij \\in B}{ y_{ij,t}^B} = |N|- 1$$\n"
   ]
  },
  {
   "cell_type": "code",
   "execution_count": 60,
   "id": "ac60b9a3-7871-4366-8f3e-eb50e37e4753",
   "metadata": {
    "tags": []
   },
   "outputs": [
    {
     "name": "stdout",
     "output_type": "stream",
     "text": [
      "[1, 2, 3, 4, 5, 6, 7, 8, 9, 10, 11, 12, 13, 14]\n",
      "14\n"
     ]
    }
   ],
   "source": [
    "print(nodes)\n",
    "print(len(nodes))"
   ]
  },
  {
   "cell_type": "code",
   "execution_count": 63,
   "id": "eb56b4e4-63e2-49cf-9424-3c3f78b43070",
   "metadata": {},
   "outputs": [
    {
     "data": {
      "text/plain": [
       "<gurobi.Constr *Awaiting Model Update*>"
      ]
     },
     "execution_count": 63,
     "metadata": {},
     "output_type": "execute_result"
    }
   ],
   "source": [
    "valor=0\n",
    "\n",
    "for (i,j) in B:\n",
    "    valor+=y[i,j]\n",
    "    \n",
    "m.addConstr(valor ==len(nodes)-1, name=f\"Restriccione_de_radialidad\")"
   ]
  },
  {
   "cell_type": "code",
   "execution_count": 64,
   "id": "6c417ee2-8a78-4042-8d50-1100a2695098",
   "metadata": {
    "tags": []
   },
   "outputs": [],
   "source": [
    "m.update()"
   ]
  },
  {
   "cell_type": "code",
   "execution_count": 65,
   "id": "9cfe737e-920d-4726-8e8a-0cde855a77c4",
   "metadata": {},
   "outputs": [
    {
     "name": "stdout",
     "output_type": "stream",
     "text": [
      "Gurobi Optimizer version 10.0.3 build v10.0.3rc0 (win64)\n",
      "\n",
      "CPU model: 12th Gen Intel(R) Core(TM) i5-1240P, instruction set [SSE2|AVX|AVX2]\n",
      "Thread count: 12 physical cores, 16 logical processors, using up to 16 threads\n",
      "\n"
     ]
    },
    {
     "ename": "GurobiError",
     "evalue": "Model too large for size-limited license; visit https://www.gurobi.com/free-trial for a full license",
     "output_type": "error",
     "traceback": [
      "\u001b[1;31m---------------------------------------------------------------------------\u001b[0m",
      "\u001b[1;31mGurobiError\u001b[0m                               Traceback (most recent call last)",
      "Cell \u001b[1;32mIn[65], line 1\u001b[0m\n\u001b[1;32m----> 1\u001b[0m m\u001b[38;5;241m.\u001b[39moptimize()\n",
      "File \u001b[1;32msrc\\gurobipy\\model.pxi:878\u001b[0m, in \u001b[0;36mgurobipy.Model.optimize\u001b[1;34m()\u001b[0m\n",
      "\u001b[1;31mGurobiError\u001b[0m: Model too large for size-limited license; visit https://www.gurobi.com/free-trial for a full license"
     ]
    }
   ],
   "source": [
    "m.optimize()"
   ]
  },
  {
   "cell_type": "code",
   "execution_count": null,
   "id": "dd09915c-6aaf-40f8-a10b-cf4c1017e783",
   "metadata": {},
   "outputs": [],
   "source": []
  }
 ],
 "metadata": {
  "kernelspec": {
   "display_name": "Python 3 (ipykernel)",
   "language": "python",
   "name": "python3"
  },
  "language_info": {
   "codemirror_mode": {
    "name": "ipython",
    "version": 3
   },
   "file_extension": ".py",
   "mimetype": "text/x-python",
   "name": "python",
   "nbconvert_exporter": "python",
   "pygments_lexer": "ipython3",
   "version": "3.11.4"
  },
  "toc-autonumbering": true,
  "toc-showcode": true,
  "toc-showmarkdowntxt": true,
  "toc-showtags": true
 },
 "nbformat": 4,
 "nbformat_minor": 5
}
