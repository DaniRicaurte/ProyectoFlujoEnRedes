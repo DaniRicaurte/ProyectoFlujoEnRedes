{
 "cells": [
  {
   "cell_type": "code",
   "execution_count": 34,
   "id": "1968f76b-bf68-4ea4-8151-550f5d05a417",
   "metadata": {
    "tags": []
   },
   "outputs": [],
   "source": [
    "import networkx as nx\n",
    "import matplotlib.pyplot as plt\n",
    "import gurobipy as gp\n",
    "import math\n",
    "from gurobipy import Model, GRB"
   ]
  },
  {
   "cell_type": "markdown",
   "id": "5b946d36-1a27-4a7d-aca6-e163d3917208",
   "metadata": {
    "tags": []
   },
   "source": [
    "|Estudiante|Código|Correo|\n",
    "|-----|-----|----|\n",
    "|Juana Mejía Botero|20221512|j.mejia17|\n",
    "|Daniela Ricaurte Echeverry|201822966|d.ricaurte|\n",
    "\n",
    "# Proyecto - Entrega 3\n",
    "\n",
    "# Table de Contenido\n",
    "[[_TOC_]]\n",
    "\n",
    "## Modelo Matemático\n",
    "\n",
    "### Variables del Problema\n",
    "- $y_{ij}$ variable binaria que representa el *estado de la llave de interconexión* entre i y j, donde esta será 1 si la llave está abierta y 0 si se encuentra cerrada.  \n",
    "- $P_{ij}$ variable continua que representa el flujo de *potencia activa* entre los nodos $i$ y $j$.\n",
    "- $Q_{ij}$ variable continua que representa el flujo de *potencia reactiva* entre los nodos $i$ y $j$.\n",
    "- $I_{ij}$ variable continua que representa el flujo de corriente entre los nodos $i$ y $j$.\n",
    "- $V_{i}$ variable continua  representa el voltaje en el nodo $i$.\n",
    "\n",
    "\n",
    "### Parámetros del Problema\n",
    "\n",
    "- $P_{i}^{D}$ representa la demanda de potencia activa en el nodo $i$ \n",
    "\n",
    "- $Q_{i}^{D}$  representa la demanda de potencia  reactiva en el nodo $i$.\n",
    "\n",
    "- $R_{ij}$ representa la resistencia de la linea entre los nodos $i$ y $j$ \n",
    "\n",
    "- $X_{ij}$ representa la reactancia de la linea entre los nodos $i$ y $j$."
   ]
  },
  {
   "cell_type": "code",
   "execution_count": 4,
   "id": "4dfdd295-4d80-4068-a9bd-07e250cdeee0",
   "metadata": {
    "tags": []
   },
   "outputs": [
    {
     "name": "stdout",
     "output_type": "stream",
     "text": [
      "read function: \n",
      "%% Datos del Sistema de 14 barras\n",
      "\n",
      "% Datos globales\n",
      "nref  = 14;         % nodo de referencia\n",
      "vref  = 1.0;        % tensión en la subestación (pu)\n",
      "vbase = 23.0;       % Tensión base (kV)\n",
      "sbase = 100000;     % Potencia base (kVA)\n",
      "tol   = 10^-8;      % Tolerancia del error permitido\n",
      "vmin  = 0.93;       % Tensión mínima (pu)\n",
      "vmax  = 1.05;       % Tensión máxima (pu)\n",
      "\n",
      "% Base de impedancia\n",
      "zbase = 100;\n",
      "\n",
      "% Datos de ramas\n",
      "%             de    para       R(%)     X(%)\n",
      "ramos = [     14      13       7.50    10.00\n",
      "              13      12       8.00    11.00\n",
      "              13      11       9.00    18.00\n",
      "              11      10       4.00     4.00\n",
      "              14       9      11.00    11.00\n",
      "               9       8       8.00    11.00\n",
      "               9       7      11.00    11.00\n",
      "               8       6      11.00    11.00\n",
      "               8       5       8.00    11.00\n",
      "              14       4      11.00    11.00\n",
      "               4       3       9.00    12.00\n",
      "               4       2       8.00    11.00\n",
      "               2       1       4.00     4.00\n",
      "              12       6       4.00     4.00\n",
      "               7       3       4.00     4.00\n",
      "              10       1       9.00    12.00 ];\n",
      "\n",
      "% Demanda de potencia activa y reactiva en las barras\n",
      "%          barra       Pd(kW)  Qd(kW) Qbc(kW)\n",
      "barras = [    14          0.0     0.0     0.0\n",
      "              13       2000.0  1600.0     0.0\n",
      "              12       3000.0  1500.0  1100.0\n",
      "              11       2000.0   800.0  1200.0\n",
      "              10       1500.0  1200.0     0.0\n",
      "               9       4000.0  2700.0     0.0\n",
      "               8       5000.0  3000.0  1200.0\n",
      "               7       1000.0   900.0     0.0\n",
      "               6        600.0   100.0   600.0\n",
      "               5       4500.0  2000.0  3700.0\n",
      "               4       1000.0   900.0     0.0\n",
      "               3       1000.0   700.0  1800.0\n",
      "               2       1000.0   900.0     0.0\n",
      "               1       2100.0  1000.0  1800.0 ];\n",
      "\n",
      "\n"
     ]
    }
   ],
   "source": [
    "# Base de datos\n",
    "file = open(\"C:\\\\Users\\\\danir\\\\OneDrive - Universidad de los andes\\\\Flujo de Redes\\\\Proyecto\\\\datos14.txt\", \"r\")\n",
    "\n",
    "print(file.read())\n",
    "print()\n",
    "\n"
   ]
  },
  {
   "cell_type": "code",
   "execution_count": 2,
   "id": "be1741d4-27c8-4b01-9ad9-b6e5a8fb67fd",
   "metadata": {
    "tags": []
   },
   "outputs": [
    {
     "name": "stdout",
     "output_type": "stream",
     "text": [
      "{'nref': 14.0, 'vref': 1.0, 'vbase': 23.0, 'sbase': 100000.0, 'vmin': 0.93, 'vmax': 1.05, 'zbase': 100.0}\n",
      "items\n",
      "nref: 14.0\n",
      "items\n",
      "vref: 1.0\n",
      "items\n",
      "vbase: 23.0\n",
      "items\n",
      "sbase: 100000.0\n",
      "items\n",
      "vmin: 0.93\n",
      "items\n",
      "vmax: 1.05\n",
      "items\n",
      "zbase: 100.0\n",
      "[14.0, 13.0, 7.5, 10.0]\n",
      "[13.0, 12.0, 8.0, 11.0]\n",
      "[13.0, 11.0, 9.0, 18.0]\n",
      "[11.0, 10.0, 4.0, 4.0]\n",
      "[14.0, 9.0, 11.0, 11.0]\n",
      "[9.0, 8.0, 8.0, 11.0]\n",
      "[9.0, 7.0, 11.0, 11.0]\n",
      "[8.0, 6.0, 11.0, 11.0]\n",
      "[8.0, 5.0, 8.0, 11.0]\n",
      "[14.0, 4.0, 11.0, 11.0]\n",
      "[4.0, 3.0, 9.0, 12.0]\n",
      "[4.0, 2.0, 8.0, 11.0]\n",
      "[2.0, 1.0, 4.0, 4.0]\n",
      "[12.0, 6.0, 4.0, 4.0]\n",
      "[7.0, 3.0, 4.0, 4.0]\n",
      "[10.0, 1.0, 9.0, 12.0]\n",
      "[14, 0.0, 0.0, 0.0]\n",
      "[13, 2000.0, 1600.0, 0.0]\n",
      "[12, 3000.0, 1500.0, 1100.0]\n",
      "[11, 2000.0, 800.0, 1200.0]\n",
      "[10, 1500.0, 1200.0, 0.0]\n",
      "[9, 4000.0, 2700.0, 0.0]\n",
      "[8, 5000.0, 3000.0, 1200.0]\n",
      "[7, 1000.0, 900.0, 0.0]\n",
      "[6, 600.0, 100.0, 600.0]\n",
      "[5, 4500.0, 2000.0, 3700.0]\n",
      "[4, 1000.0, 900.0, 0.0]\n",
      "[3, 1000.0, 700.0, 1800.0]\n",
      "[2, 1000.0, 900.0, 0.0]\n",
      "[1, 2100.0, 1000.0, 1800.0]\n"
     ]
    }
   ],
   "source": [
    "import re\n",
    "\n",
    "# Define a dictionary to store the values\n",
    "values = {}\n",
    "branches = []\n",
    "bus_demand = []\n",
    "\n",
    "\n",
    "# Define regular expressions to match the variables and their values\n",
    "patterns = {\n",
    "    'nref': r'nref\\s*=\\s*([\\d.]+);',\n",
    "    'vref': r'vref\\s*=\\s*([\\d.]+);',\n",
    "    'vbase': r'vbase\\s*=\\s*([\\d.]+);',\n",
    "    'sbase': r'sbase\\s*=\\s*([\\d.]+);',\n",
    "    'tol': r'tol\\s*=\\s*([\\d.eE+-]+);',  # Updated for exponent notation\n",
    "    'vmin': r'vmin\\s*=\\s*([\\d.]+);',\n",
    "    'vmax': r'vmax\\s*=\\s*([\\d.]+);',\n",
    "    'zbase': r'zbase\\s*=\\s*([\\d.]+);',\n",
    "}\n",
    "\n",
    "branch_pattern = r'ramos\\s*=\\s*\\[(.*?)\\];'\n",
    "bus_demand_pattern = r'barras\\s*=\\s*\\[(.*?)\\];'\n",
    "\n",
    "# Read the content of the file\n",
    "file_path = \"C:\\\\Users\\\\danir\\\\OneDrive - Universidad de los andes\\\\Flujo de Redes\\\\Proyecto\\\\datos14.txt\"\n",
    "with open(file_path, \"r\") as file:\n",
    "    text = file.read()\n",
    "\n",
    "# Extract the values using regular expressions\n",
    "for key, pattern in patterns.items():\n",
    "    match = re.search(pattern, text, re.IGNORECASE)\n",
    "    if match:\n",
    "        if key == 'tol':\n",
    "            print(key)\n",
    "            base, exponent = match.group(1).split('e')\n",
    "            values[key] = float(base) * 10 ** int(exponent)\n",
    "        else:\n",
    "            values[key] = float(match.group(1))\n",
    "print (values)\n",
    "# Print the extracted values\n",
    "for key, value in values.items():\n",
    "    print(\"items\")\n",
    "    print(f\"{key}: {value}\")\n",
    "    \n",
    "\n",
    "# Extract branch data using the pattern\n",
    "match = re.search(branch_pattern, text, re.DOTALL)\n",
    "if match:\n",
    "    branch_data = match.group(1)\n",
    "\n",
    "    # Split the data into individual lines and remove comments\n",
    "    branch_lines = branch_data.split('\\n')\n",
    "    branch_lines = [line.strip() for line in branch_lines if not line.strip().startswith('%')]\n",
    "\n",
    "    # Split each line into individual values and convert them to floats\n",
    "    for line in branch_lines:\n",
    "        valores = line.split()\n",
    "        if len(valores) == 4:\n",
    "            branch = [float(valor) for valor in valores]\n",
    "            branches.append(branch)\n",
    "\n",
    "# Print the extracted branch data\n",
    "for branch in branches:\n",
    "    print(branch)\n",
    "\n",
    "match = re.search(bus_demand_pattern, text, re.DOTALL)\n",
    "if match:\n",
    "    bus_demand_data = match.group(1)\n",
    "\n",
    "    # Split the data into individual lines and remove comments\n",
    "    bus_demand_lines = bus_demand_data.split('\\n')\n",
    "    bus_demand_lines = [line.strip() for line in bus_demand_lines if not line.strip().startswith('%')]\n",
    "\n",
    "    # Split each line into individual values and convert them to floats\n",
    "    for line in bus_demand_lines:\n",
    "        valores = line.split()\n",
    "        if len(valores) >= 4:\n",
    "            bus = [int(valores[0]), float(valores[1]), float(valores[2]), float(valores[3])]\n",
    "            bus_demand.append(bus)\n",
    "\n",
    "# Print the extracted bus demand data\n",
    "for bus in bus_demand:\n",
    "    print(bus)\n",
    "\n"
   ]
  },
  {
   "cell_type": "code",
   "execution_count": 3,
   "id": "1c6be099-c9f9-42b8-b32a-28915cc94367",
   "metadata": {
    "tags": []
   },
   "outputs": [
    {
     "name": "stdout",
     "output_type": "stream",
     "text": [
      "[1, 2, 3, 4, 5, 6, 7, 8, 9, 10, 11, 12, 13, 14]\n"
     ]
    }
   ],
   "source": [
    "\n",
    "nref=values.get(\"nref\")\n",
    "nodes = list(range(1,int(nref)+1))\n",
    "print(nodes)"
   ]
  },
  {
   "cell_type": "code",
   "execution_count": 5,
   "id": "d3b84c9c-c4a4-47b4-a2f3-2a40e7530496",
   "metadata": {
    "tags": []
   },
   "outputs": [
    {
     "name": "stdout",
     "output_type": "stream",
     "text": [
      "('Activa', 14) 0.0\n",
      "('Reactiva', 14) 0.0\n",
      "('Activa', 13) 2000.0\n",
      "('Reactiva', 13) 1600.0\n",
      "('Activa', 12) 3000.0\n",
      "('Reactiva', 12) 1500.0\n",
      "('Activa', 11) 2000.0\n",
      "('Reactiva', 11) 800.0\n",
      "('Activa', 10) 1500.0\n",
      "('Reactiva', 10) 1200.0\n",
      "('Activa', 9) 4000.0\n",
      "('Reactiva', 9) 2700.0\n",
      "('Activa', 8) 5000.0\n",
      "('Reactiva', 8) 3000.0\n",
      "('Activa', 7) 1000.0\n",
      "('Reactiva', 7) 900.0\n",
      "('Activa', 6) 600.0\n",
      "('Reactiva', 6) 100.0\n",
      "('Activa', 5) 4500.0\n",
      "('Reactiva', 5) 2000.0\n",
      "('Activa', 4) 1000.0\n",
      "('Reactiva', 4) 900.0\n",
      "('Activa', 3) 1000.0\n",
      "('Reactiva', 3) 700.0\n",
      "('Activa', 2) 1000.0\n",
      "('Reactiva', 2) 900.0\n",
      "('Activa', 1) 2100.0\n",
      "('Reactiva', 1) 1000.0\n"
     ]
    }
   ],
   "source": [
    "potencias = ['Activa', 'Reactiva']\n",
    "inflow = {}\n",
    "\n",
    "for bus in bus_demand:\n",
    "    node = bus[0]\n",
    "    active_power = bus[1]\n",
    "    reactive_power = bus[2]\n",
    "    inflow[('Activa', node)] = active_power\n",
    "    inflow[('Reactiva', node)] = reactive_power\n",
    "\n",
    "# Print the transformed data\n",
    "for key, value in inflow.items():\n",
    "    print(key, value)\n",
    "\n"
   ]
  },
  {
   "cell_type": "code",
   "execution_count": 33,
   "id": "114d6865-92a0-430e-a849-f95398fd3bdd",
   "metadata": {
    "tags": []
   },
   "outputs": [
    {
     "name": "stdout",
     "output_type": "stream",
     "text": [
      "Resistencia\n",
      "(14, 13) 7.5\n",
      "(13, 12) 8.0\n",
      "(13, 11) 9.0\n",
      "(11, 10) 4.0\n",
      "(14, 9) 11.0\n",
      "(9, 8) 8.0\n",
      "(9, 7) 11.0\n",
      "(8, 6) 11.0\n",
      "(8, 5) 8.0\n",
      "(14, 4) 11.0\n",
      "(4, 3) 9.0\n",
      "(4, 2) 8.0\n",
      "(2, 1) 4.0\n",
      "(12, 6) 4.0\n",
      "(7, 3) 4.0\n",
      "(10, 1) 9.0\n",
      "Reactancia\n",
      "(14, 13) 7.5\n",
      "(13, 12) 8.0\n",
      "(13, 11) 9.0\n",
      "(11, 10) 4.0\n",
      "(14, 9) 11.0\n",
      "(9, 8) 8.0\n",
      "(9, 7) 11.0\n",
      "(8, 6) 11.0\n",
      "(8, 5) 8.0\n",
      "(14, 4) 11.0\n",
      "(4, 3) 9.0\n",
      "(4, 2) 8.0\n",
      "(2, 1) 4.0\n",
      "(12, 6) 4.0\n",
      "(7, 3) 4.0\n",
      "(10, 1) 9.0\n",
      "bordes\n",
      "[(14, 13), (13, 12), (13, 11), (11, 10), (14, 9), (9, 8), (9, 7), (8, 6), (8, 5), (14, 4), (4, 3), (4, 2), (2, 1), (12, 6), (7, 3), (10, 1)]\n"
     ]
    }
   ],
   "source": [
    "impedencia = [\"Resistencia\", \"Reactancia\" ]\n",
    "\n",
    "resistencia = {}\n",
    "reactancia = {}\n",
    "bordes = []\n",
    "\n",
    "for branch in branches:\n",
    "    from_node = int(branch[0])\n",
    "    to_node = int(branch[1])\n",
    "    resistance = branch[2]\n",
    "    reactance = branch[3]\n",
    "    \n",
    "    bordes.append( (from_node, to_node))\n",
    "    resistencia[( from_node, to_node)] = resistance\n",
    "    reactancia[( from_node, to_node)] = reactance\n",
    "\n",
    "print(\"Resistencia\")\n",
    "for key, value in resistencia.items():\n",
    "    print(key, value)\n",
    "\n",
    "print(\"Reactancia\")\n",
    "for key, value in resistencia.items():\n",
    "    print(key, value)\n",
    "    \n",
    "print(\"bordes\")\n",
    "print(bordes)"
   ]
  },
  {
   "cell_type": "code",
   "execution_count": 22,
   "id": "435a858d-def5-4f15-b020-8d945aaf3fba",
   "metadata": {
    "tags": []
   },
   "outputs": [],
   "source": [
    "# Crear un grafo dirigido\n",
    "G = nx.DiGraph()\n",
    "\n",
    "# Añadir nodos\n",
    "for node in nodes:\n",
    "    G.add_node(node)\n",
    "    \n",
    "\n",
    "    "
   ]
  },
  {
   "cell_type": "markdown",
   "id": "05c37abc-d6d4-4438-9eaf-963a79b9e612",
   "metadata": {},
   "source": [
    "Creación del modelo"
   ]
  },
  {
   "cell_type": "code",
   "execution_count": 37,
   "id": "90840822-6bde-49ee-8b43-e07baacd4191",
   "metadata": {
    "tags": []
   },
   "outputs": [],
   "source": [
    "# Create optimization model\n",
    "m = gp.Model(\"RSD\")\n",
    "\n",
    "# Variables\n",
    "# Estado de la llave del arco i y j\n",
    "y =  m.addVars(nodes,nodes,  vtype=GRB.BINARY, name=\"y\")\n",
    "\n",
    "# Flujo de potencia activa entre los nodos i y j \n",
    "P =  m.addVars(nodes,nodes,  vtype=GRB.CONTINUOUS, name=\"P\")\n",
    "\n",
    "# Flujo de potencia reactiva entre los nodos i y j \n",
    "Q = m.addVars(nodes,nodes,  vtype=GRB.CONTINUOUS, name=\"Q\")\n",
    "\n",
    "# Flujo de Corriente entre los nodos i y j\n",
    "I = m.addVars(nodes,nodes,  vtype=GRB.CONTINUOUS, name=\"I\")\n",
    "\n",
    "# Voltaje del nodo i\n",
    "V = m.addVars(nodes,nodes,  vtype=GRB.CONTINUOUS, name=\"V\")\n",
    "\n",
    "\n"
   ]
  },
  {
   "cell_type": "markdown",
   "id": "6155ed3e-202d-4206-a5f2-bae0b7f35ca6",
   "metadata": {},
   "source": [
    "### Función Objetivo\n",
    "\n",
    "$$\n",
    "Min \\sum\\limits_{ij \\in {B}}\\sum\\limits_{t \\in {T}} {{R_{ij}}I_{ij,t}^{sqr}};\n",
    "$$\n"
   ]
  },
  {
   "cell_type": "code",
   "execution_count": 38,
   "id": "9788febc-fafa-4bfc-a50b-1c06ad5cb826",
   "metadata": {
    "tags": []
   },
   "outputs": [
    {
     "ename": "KeyError",
     "evalue": "(14, 13, 1)",
     "output_type": "error",
     "traceback": [
      "\u001b[1;31m---------------------------------------------------------------------------\u001b[0m",
      "\u001b[1;31mKeyError\u001b[0m                                  Traceback (most recent call last)",
      "Cell \u001b[1;32mIn[38], line 1\u001b[0m\n\u001b[1;32m----> 1\u001b[0m m\u001b[38;5;241m.\u001b[39msetObjective(\u001b[38;5;28msum\u001b[39m(\u001b[38;5;28msum\u001b[39m(resistencia[i, j] \u001b[38;5;241m*\u001b[39m math\u001b[38;5;241m.\u001b[39msqrt(I[i, j, t])  \u001b[38;5;28;01mfor\u001b[39;00m t \u001b[38;5;129;01min\u001b[39;00m nodes)\u001b[38;5;28;01mfor\u001b[39;00m i,j \u001b[38;5;129;01min\u001b[39;00m bordes), GRB\u001b[38;5;241m.\u001b[39mMINIMIZE)\n",
      "Cell \u001b[1;32mIn[38], line 1\u001b[0m, in \u001b[0;36m<genexpr>\u001b[1;34m(.0)\u001b[0m\n\u001b[1;32m----> 1\u001b[0m m\u001b[38;5;241m.\u001b[39msetObjective(\u001b[38;5;28msum\u001b[39m(\u001b[38;5;28msum\u001b[39m(resistencia[i, j] \u001b[38;5;241m*\u001b[39m math\u001b[38;5;241m.\u001b[39msqrt(I[i, j, t])  \u001b[38;5;28;01mfor\u001b[39;00m t \u001b[38;5;129;01min\u001b[39;00m nodes)\u001b[38;5;28;01mfor\u001b[39;00m i,j \u001b[38;5;129;01min\u001b[39;00m bordes), GRB\u001b[38;5;241m.\u001b[39mMINIMIZE)\n",
      "Cell \u001b[1;32mIn[38], line 1\u001b[0m, in \u001b[0;36m<genexpr>\u001b[1;34m(.0)\u001b[0m\n\u001b[1;32m----> 1\u001b[0m m\u001b[38;5;241m.\u001b[39msetObjective(\u001b[38;5;28msum\u001b[39m(\u001b[38;5;28msum\u001b[39m(resistencia[i, j] \u001b[38;5;241m*\u001b[39m math\u001b[38;5;241m.\u001b[39msqrt(I[i, j, t])  \u001b[38;5;28;01mfor\u001b[39;00m t \u001b[38;5;129;01min\u001b[39;00m nodes)\u001b[38;5;28;01mfor\u001b[39;00m i,j \u001b[38;5;129;01min\u001b[39;00m bordes), GRB\u001b[38;5;241m.\u001b[39mMINIMIZE)\n",
      "\u001b[1;31mKeyError\u001b[0m: (14, 13, 1)"
     ]
    }
   ],
   "source": [
    "m.setObjective(sum(sum(resistencia[i, j] * math.sqrt(I[i, j, t])  for t in nodes)for i,j in bordes), GRB.MINIMIZE)"
   ]
  },
  {
   "cell_type": "markdown",
   "id": "aca66814-d283-464d-b65a-b0d05c33f010",
   "metadata": {},
   "source": [
    "### Restricciones del problema"
   ]
  },
  {
   "cell_type": "markdown",
   "id": "7555fd10-5118-4f47-b153-c86715ad7cb4",
   "metadata": {},
   "source": [
    "1. Equilibrio de potencia activa: esta restricción regula que la cantidad total de potencia activa que es consumida en el sistema eléctrico sea igual a la generada y entregada al sistema, además debe ser igual a la demandada del nodo. \n",
    "\n",
    "$$\n",
    "\\sum\\limits_{ki \\in {B}} {{P_{ki,t}}}   - \\sum\\limits_{ij \\in {B}} {\\left( {{P_{ij,t}} + {R_{ij}}I_{ij,t}^{sqr}} \\right)} + P_{i,t}^S = P_{i,t}^D;\\forall i \\in {N},  \\forall t \\in {T}\n",
    "$$"
   ]
  },
  {
   "cell_type": "code",
   "execution_count": null,
   "id": "50a7cb4d-ac1d-4363-af34-864652f8dd34",
   "metadata": {},
   "outputs": [],
   "source": []
  },
  {
   "cell_type": "markdown",
   "id": "d2516c16-54b1-4777-ad07-d8166cfb66db",
   "metadata": {},
   "source": [
    "2. Equilibrio de potencia reactiva: permite que la cantidad total de potencia reactiva que es consumida en el sistema eléctrico sea igual a la generada y entregada al sistema y debe igualar la demanda del nodo.\n",
    "\n",
    "$$\n",
    "\\sum\\limits_{ki \\in {B}} {{Q_{ki,t}}}   - \\sum\\limits_{ij \\in {B}} {\\left( {{Q_{ij,t}} + {X_{ij}}I_{ij,t}^{sqr}} \\right)}  + Q_{i,t}^S= Q_{i,t}^D;\\forall i \\in {N},    \\forall t \\in {T}\n",
    "$$ "
   ]
  },
  {
   "cell_type": "code",
   "execution_count": null,
   "id": "e8fe7987-6457-482d-b866-355b43e5606f",
   "metadata": {},
   "outputs": [],
   "source": []
  },
  {
   "cell_type": "markdown",
   "id": "5e32b3dd-f3fe-4629-ad23-2ae087b8088c",
   "metadata": {},
   "source": [
    "3. Restricción del limite de la magnitud de tensión. El voltaje debe encontrarse entre un rango especifico. \n",
    "\n",
    "$$\n",
    "{V_{i,t}^{sqr} = V_{j,t}^{sqr} + 2\\left( {{R_{ij}}{P_{ij,t}} + {X_{ij}}{Q_{ij,t}}} \\right)}- Z_{ij}^2{I_{ij,t}^{sqr}} + \\Delta_{ij,t}^{V}; \\forall ij \\in {B},  \\forall  t \\in {T}\n",
    "$$"
   ]
  },
  {
   "cell_type": "code",
   "execution_count": null,
   "id": "ca768179-d8f5-4a47-be08-3d2530966b8a",
   "metadata": {},
   "outputs": [],
   "source": []
  },
  {
   "cell_type": "markdown",
   "id": "4abe8ed5-4542-4b65-b343-7cd347057ec4",
   "metadata": {},
   "source": [
    "4. Restricción que permite regular la magnitud de tensión entre los nodos del sistema con respecto al estado de conexión/desconexión de las llaves de interconexión entre los nodos. \n",
    "\n",
    "$$\n",
    "- {b^V}( {1 - {y_{ij,t}^B}}) \\le \\Delta _{ij,t}^V \\le {b^V}( {1 -  {y_{ij,t}^B}});\\forall ij \\in B,\\forall t \\in T\n",
    "$$"
   ]
  },
  {
   "cell_type": "code",
   "execution_count": null,
   "id": "eb773f75-2b19-4076-9156-b872593c6164",
   "metadata": {},
   "outputs": [],
   "source": []
  },
  {
   "cell_type": "markdown",
   "id": "2d3e0b97-833e-492f-828c-21c73b4f9588",
   "metadata": {},
   "source": [
    "5. Restricción que permite que se sigan las leyes de la conservación de energía en el sistema eléctrico y tiene en cuenta la relación entre las magnitudes de tensión, corriente y potencias activas y reactivas\n",
    "$$\n",
    "V_{j,t}^{sqr} I_{ij,t}^{sqr} = P_{ij,t}^2 +  Q_{ij,t}^2;\\forall ij \\in {B},  \\forall  t \\in T\n",
    "$$"
   ]
  },
  {
   "cell_type": "code",
   "execution_count": null,
   "id": "d9c6881d-26e6-495e-89ac-cc56b5d1761b",
   "metadata": {},
   "outputs": [],
   "source": []
  },
  {
   "cell_type": "markdown",
   "id": "e7eebccb-e47f-495f-82cd-01e41122f00a",
   "metadata": {
    "tags": []
   },
   "source": [
    "6. Conservación de potencia en el sistema eléctrico. \n",
    "\n",
    "$$\n",
    "{ {\\underline V }^2} \\le V_{i,t}^{sqr} \\le {\\overline V }^2;\\forall i \\in N,\\forall t \\in T\n",
    "$$"
   ]
  },
  {
   "cell_type": "code",
   "execution_count": null,
   "id": "aa74b776-95f8-4ed9-b4f7-21d272ee0546",
   "metadata": {},
   "outputs": [],
   "source": []
  },
  {
   "cell_type": "markdown",
   "id": "5453bec0-86ff-49e4-bd1c-cca99e80be27",
   "metadata": {},
   "source": [
    "7. Límites al cuadrado de la magnitud de la corriente entre los nodos i y j cuando la llave de interconexión se encuentre abierta. \n",
    "\n",
    "$$\n",
    "0 \\le I_{ij,t}^{sqr} \\le \\overline I_{ij}^2 y_{ij,t}^B;\\forall ij \\in {B}, \\forall t \\in {T}\n",
    "$$"
   ]
  },
  {
   "cell_type": "code",
   "execution_count": null,
   "id": "b7893d60-d912-40a7-85fa-39523f0d2fc4",
   "metadata": {},
   "outputs": [],
   "source": []
  },
  {
   "cell_type": "markdown",
   "id": "93b5ef13-4cb8-4cc5-a5c0-3d3508fbf663",
   "metadata": {},
   "source": [
    "8. Restricción de la variable de estado de funcionamiento de los interruptores de interconexión $y_{ij,t}^B$.\n",
    "\n",
    "$$\n",
    "y_{ij,t}^B \\in \\left\\{ {0,1} \\right\\};\\forall ij \\in {B}, \\forall t \\in {T}\n",
    "$$"
   ]
  },
  {
   "cell_type": "code",
   "execution_count": null,
   "id": "ff934383-f284-4b89-ab4d-173630ef94ee",
   "metadata": {},
   "outputs": [],
   "source": []
  },
  {
   "cell_type": "markdown",
   "id": "c24be64b-874e-4c4e-bf1d-4509166e2cb7",
   "metadata": {},
   "source": [
    "9. Restricción de radialidad\n",
    "\n",
    "$$\\sum_{ij \\in B}{ y_{ij,t}^B} = |N|- |N_{sub}|$$\n",
    "\n",
    "Para le caso Nsub= 1, entonces\n",
    "\n",
    "$$\\sum_{ij \\in B}{ y_{ij,t}^B} = |N|- 1$$\n"
   ]
  },
  {
   "cell_type": "code",
   "execution_count": null,
   "id": "eb56b4e4-63e2-49cf-9424-3c3f78b43070",
   "metadata": {},
   "outputs": [],
   "source": []
  },
  {
   "cell_type": "code",
   "execution_count": null,
   "id": "9cfe737e-920d-4726-8e8a-0cde855a77c4",
   "metadata": {},
   "outputs": [],
   "source": [
    "\n",
    "\n",
    "\n",
    "# Datos\n",
    "nodes = ['E1', 'E2', 'E3', 'N1', 'N2', 'N3', 'N4', 'Z1', 'Z2', 'Z3']\n",
    "edges = [('E1', 'N1'), ('E2', 'N1'), ('E2', 'N2'), ('E3', 'N3'), ('N1', 'N3'), ('N1', 'N4'), \n",
    "         ('N2', 'N4'), ('N3', 'Z1'), ('N3', 'Z2'), ('N4', 'Z2'), ('N4', 'Z3')]\n",
    "capacities = dict(zip(edges, [4000, 3000, 2000, 4500, 2500, 3500, 3000, 4000, 1500, 3000, 2500]))\n",
    "\n",
    "# Crear el modelo\n",
    "m = gp.Model(\"Evacuacion_Multiple\")\n",
    "\n",
    "# Variables\n",
    "flow = m.addVars(edges, obj=-1, ub=capacities, name=\"flow\")\n",
    "\n",
    "# Restricciones de conservación de flujo\n",
    "for node in nodes:\n",
    "    # Nodos fuente\n",
    "    if node in ['E1', 'E2', 'E3']:\n",
    "        m.addConstr(flow.sum(node, '*') - flow.sum('*', node) == flow.sum(node, '*'), f\"Fuente_{node}\")\n",
    "    # Nodos sumidero\n",
    "    elif node in ['Z1', 'Z2', 'Z3']:\n",
    "        m.addConstr(flow.sum('*', node) - flow.sum(node, '*') == flow.sum('*', node), f\"Sumidero_{node}\")\n",
    "    # Otros nodos\n",
    "    else:\n",
    "        m.addConstr(flow.sum(node, '*') - flow.sum('*', node) == 0, f\"Intermedio_{node}\")\n",
    "\n",
    "# Optimizar\n",
    "m.optimize()\n"
   ]
  }
 ],
 "metadata": {
  "kernelspec": {
   "display_name": "Python 3 (ipykernel)",
   "language": "python",
   "name": "python3"
  },
  "language_info": {
   "codemirror_mode": {
    "name": "ipython",
    "version": 3
   },
   "file_extension": ".py",
   "mimetype": "text/x-python",
   "name": "python",
   "nbconvert_exporter": "python",
   "pygments_lexer": "ipython3",
   "version": "3.11.4"
  },
  "toc-autonumbering": true,
  "toc-showcode": true,
  "toc-showmarkdowntxt": true,
  "toc-showtags": true
 },
 "nbformat": 4,
 "nbformat_minor": 5
}
