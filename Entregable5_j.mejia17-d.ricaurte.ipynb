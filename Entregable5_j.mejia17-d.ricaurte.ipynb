{
 "cells": [
  {
   "cell_type": "code",
   "execution_count": 130,
   "id": "1968f76b-bf68-4ea4-8151-550f5d05a417",
   "metadata": {
    "tags": []
   },
   "outputs": [],
   "source": [
    "\n",
    "import networkx as nx\n",
    "import matplotlib.pyplot as plt\n",
    "import gurobipy as gp\n",
    "import math\n",
    "import re\n",
    "from gurobipy import *"
   ]
  },
  {
   "cell_type": "markdown",
   "id": "401801d3",
   "metadata": {},
   "source": [
    "|Estudiante|Código|Correo|\n",
    "|-----|-----|----|\n",
    "|Juana Mejía Botero|20221512|j.mejia17|\n",
    "|Daniela Ricaurte Echeverry|201822966|d.ricaurte|\n",
    "\n",
    "# Proyecto - Entrega 5 (Estrategias de Aceleración y Optimización) \n"
   ]
  },
  {
   "cell_type": "markdown",
   "id": "6baa834b",
   "metadata": {},
   "source": [
    "## Lectura de datos"
   ]
  },
  {
   "cell_type": "code",
   "execution_count": 131,
   "id": "06359173",
   "metadata": {},
   "outputs": [],
   "source": [
    "# Datos globales del grafo\n",
    "datos_globales = {}\n",
    "\n",
    "# Nodos del grafo\n",
    "nodos = []\n",
    "\n",
    "# Demanda de potencia activa de los nodos\n",
    "pd = {}\n",
    "# Demanda de potencia reactiva de los nodos\n",
    "qd = {}\n",
    "\n",
    "# Resistencia de los arcos\n",
    "r = {}\n",
    "# Reactancia de los arcos\n",
    "x = {}\n",
    "# Arcos\n",
    "B = []\n",
    "\n",
    "#file_path = \"C:\\\\Users\\\\danir\\\\Documents\\\\GitHub\\\\ProyectoFlujoEnRedes\\\\Sistemas_test\\\\datos14.txt\"\n",
    "file_path=\"/Users/juanamejia/Desktop/uni/SVII/FR/ProyectoFlujoEnRedes/Sistemas_test/datos84.txt\""
   ]
  },
  {
   "cell_type": "code",
   "execution_count": 132,
   "id": "e2ed6c48",
   "metadata": {},
   "outputs": [],
   "source": [
    "def getFile():\n",
    "    valor=file_path.split(\"\\\\\")\n",
    "    last=valor[len(valor)-1]\n",
    "    splitted= last.split('.')\n",
    "    print(splitted[0])\n",
    "    return splitted\n",
    "\n"
   ]
  },
  {
   "cell_type": "code",
   "execution_count": 133,
   "id": "54864767",
   "metadata": {},
   "outputs": [],
   "source": [
    "def calcZbase():\n",
    "    return 1000* ((datos_globales.get('vbase')**2)/datos_globales.get('sbase'))\n",
    "\n",
    "def lecturaDocumento():\n",
    "    \n",
    "    #Valores globales    \n",
    "    patterns = {\n",
    "        'nref': r'nref\\s*=\\s*([\\d.]+);',\n",
    "        'vref': r'vref\\s*=\\s*([\\d.]+);',\n",
    "        'vbase': r'vbase\\s*=\\s*([\\d.]+);',\n",
    "        'sbase': r'sbase\\s*=\\s*([\\d.]+);',\n",
    "        'tol': r'tol\\s*=\\s*([\\d.^-]+);', \n",
    "        'vmin': r'vmin\\s*=\\s*([\\d.]+);',\n",
    "        'vmax': r'vmax\\s*=\\s*([\\d.]+);',\n",
    "        'zbase': r'zbase\\s*=\\s*([\\d.]+);',\n",
    "    }\n",
    "    \n",
    "    branch_pattern = r'ramos\\s*=\\s*\\[(.*?)\\];'\n",
    "    bus_demand_pattern = r'barras\\s*=\\s*\\[(.*?)\\];'\n",
    "    \n",
    "    branches = []\n",
    "    bus_demand = []\n",
    "    \n",
    "    with open(file_path, \"r\",encoding='latin1') as file:\n",
    "        text = file.read()\n",
    "    \n",
    "\n",
    "    for key, pattern in patterns.items():\n",
    "        match = re.search(pattern, text, re.IGNORECASE)\n",
    "        if match:\n",
    "            if key == 'tol':\n",
    "                base, exponent = match.group(1).split('^')\n",
    "                datos_globales[key] = float(base) * 10 ** int(exponent)\n",
    "\n",
    "            else:\n",
    "                datos_globales[key] = float(match.group(1))\n",
    "    \n",
    "    datos_globales[key] = calcZbase()\n",
    "    \n",
    "    # Datos de ramas      \n",
    "    match = re.search(branch_pattern, text, re.DOTALL)\n",
    "    if match:\n",
    "        branch_data = match.group(1)\n",
    "\n",
    "        \n",
    "        branch_lines = branch_data.split('\\n')\n",
    "        branch_lines = [line.strip() for line in branch_lines if not line.strip().startswith('%')]\n",
    "\n",
    "       \n",
    "        for line in branch_lines:\n",
    "            valores = line.split()\n",
    "            if len(valores) == 4:\n",
    "                branch = [float(valor) for valor in valores]\n",
    "                branches.append(branch)\n",
    "                \n",
    "    # Datos de la demanda de potencia activa y reactiva en las barras\n",
    "    match = re.search(bus_demand_pattern, text, re.DOTALL)\n",
    "    if match:\n",
    "        bus_demand_data = match.group(1)\n",
    "\n",
    "       \n",
    "        bus_demand_lines = bus_demand_data.split('\\n')\n",
    "        bus_demand_lines = [line.strip() for line in bus_demand_lines if not line.strip().startswith('%')]\n",
    "\n",
    "       \n",
    "        for line in bus_demand_lines:\n",
    "            valores = line.split()\n",
    "            if len(valores) >= 4:\n",
    "                bus = [int(valores[0]), float(valores[1]), float(valores[2]), float(valores[3])]\n",
    "                bus_demand.append(bus)\n",
    "    \n",
    "    # Editar los valores\n",
    "    valor=getFile()\n",
    "    value=valor[0].split('datos')\n",
    "    numNodos(int(value[1]))\n",
    "    potencias(bus_demand)\n",
    "    impedencia(branches)\n",
    "\n",
    "    \n",
    "def lecturaDocumento14():\n",
    "    \n",
    "    #Valores globales    \n",
    "    patterns = {\n",
    "        'nref': r'nref\\s*=\\s*([\\d.]+);',\n",
    "        'vref': r'vref\\s*=\\s*([\\d.]+);',\n",
    "        'vbase': r'vbase\\s*=\\s*([\\d.]+);',\n",
    "        'sbase': r'sbase\\s*=\\s*([\\d.]+);',\n",
    "        'tol': r'tol\\s*=\\s*([\\d.^-]+);', \n",
    "        'vmin': r'vmin\\s*=\\s*([\\d.]+);',\n",
    "        'vmax': r'vmax\\s*=\\s*([\\d.]+);',\n",
    "        'zbase': r'zbase\\s*=\\s*([\\d.]+);',\n",
    "    }\n",
    "    \n",
    "    branch_pattern = r'ramos\\s*=\\s*\\[(.*?)\\];'\n",
    "    bus_demand_pattern = r'barras\\s*=\\s*\\[(.*?)\\];'\n",
    "    \n",
    "    branches = []\n",
    "    bus_demand = []\n",
    "    \n",
    "    \n",
    "    #input('Ingresar el path del archivo \\n')\n",
    "    \n",
    "    with open(file_path, \"r\",encoding='latin1') as file:\n",
    "        text = file.read()\n",
    "    \n",
    "\n",
    "    for key, pattern in patterns.items():\n",
    "        match = re.search(pattern, text, re.IGNORECASE)\n",
    "        if match:\n",
    "            if key == 'tol':\n",
    "                base, exponent = match.group(1).split('^')\n",
    "                datos_globales[key] = float(base) * 10 ** int(exponent)\n",
    "            else:\n",
    "                datos_globales[key] = float(match.group(1))\n",
    "    \n",
    "    \n",
    "    \n",
    "    # Datos de ramas      \n",
    "    match = re.search(branch_pattern, text, re.DOTALL)\n",
    "    if match:\n",
    "        branch_data = match.group(1)\n",
    "\n",
    "        \n",
    "        branch_lines = branch_data.split('\\n')\n",
    "        branch_lines = [line.strip() for line in branch_lines if not line.strip().startswith('%')]\n",
    "\n",
    "       \n",
    "        for line in branch_lines:\n",
    "            valores = line.split()\n",
    "            if len(valores) == 4:\n",
    "                branch = [float(valor) for valor in valores]\n",
    "                branches.append(branch)\n",
    "                \n",
    "    # Datos de la demanda de potencia activa y reactiva en las barras\n",
    "    match = re.search(bus_demand_pattern, text, re.DOTALL)\n",
    "    if match:\n",
    "        bus_demand_data = match.group(1)\n",
    "\n",
    "       \n",
    "        bus_demand_lines = bus_demand_data.split('\\n')\n",
    "        bus_demand_lines = [line.strip() for line in bus_demand_lines if not line.strip().startswith('%')]\n",
    "\n",
    "       \n",
    "        for line in bus_demand_lines:\n",
    "            valores = line.split()\n",
    "            if len(valores) >= 4:\n",
    "                bus = [int(valores[0]), float(valores[1]), float(valores[2]), float(valores[3])]\n",
    "                bus_demand.append(bus)\n",
    "    \n",
    "    # Editar los valores\n",
    "    valor=getFile()\n",
    "    value=valor[0].split('datos')\n",
    "    numNodos(int(value[1]))\n",
    "    potencias(bus_demand)\n",
    "    impedencia14(branches)\n",
    "      \n",
    "        \n",
    "def impedencia14(branches): \n",
    "    for branch in branches:\n",
    "        from_node = int(branch[0])\n",
    "        to_node = int(branch[1])\n",
    "        \n",
    "        \n",
    "        B.append( (from_node, to_node))\n",
    "        B.append( ( to_node, from_node))\n",
    "        r[( from_node, to_node)] = branch[2]*0.01\n",
    "        r[( to_node, from_node)] = branch[2]*0.01\n",
    "        x[( from_node, to_node)] = branch[3]*0.01\n",
    "        x[( to_node, from_node)] = branch[3]*0.01\n",
    "\n",
    "\n",
    "    \n",
    "    \n",
    "\n",
    "def numNodos(n):\n",
    "    for i in range (1,n+1):\n",
    "        nodos.append(i)\n",
    "    \n",
    "\n",
    "\n",
    "def potencias(demand):\n",
    "    for bus in demand:\n",
    "        pd[(bus[0])] = bus[1]\n",
    "        qd[( bus[0])] = bus[2]\n",
    "      \n",
    "        \n",
    "def impedencia(branches): \n",
    "    for branch in branches:\n",
    "        from_node = int(branch[0])\n",
    "        to_node = int(branch[1])\n",
    "        \n",
    "        \n",
    "        B.append( (from_node, to_node))\n",
    "        B.append( ( to_node, from_node))\n",
    "        r[( from_node, to_node)] = branch[2]/datos_globales.get('zbase')\n",
    "        r[( to_node, from_node)] = branch[2]/datos_globales.get('zbase')\n",
    "        x[( from_node, to_node)] = branch[3]/datos_globales.get('zbase')\n",
    "        x[( to_node, from_node)] = branch[3]/datos_globales.get('zbase')\n"
   ]
  },
  {
   "cell_type": "code",
   "execution_count": 134,
   "id": "b42c4fb1",
   "metadata": {},
   "outputs": [
    {
     "data": {
      "text/plain": [
       "False"
      ]
     },
     "execution_count": 134,
     "metadata": {},
     "output_type": "execute_result"
    }
   ],
   "source": [
    "file_path.find(\"datos14\") > -1"
   ]
  },
  {
   "cell_type": "code",
   "execution_count": 135,
   "id": "805c5cb2",
   "metadata": {},
   "outputs": [
    {
     "name": "stdout",
     "output_type": "stream",
     "text": [
      "/Users/juanamejia/Desktop/uni/SVII/FR/ProyectoFlujoEnRedes/Sistemas_test/datos84\n",
      "12.996\n"
     ]
    }
   ],
   "source": [
    "if file_path.find(\"datos14\") > -1:\n",
    "    lecturaDocumento14()\n",
    "else:\n",
    "    lecturaDocumento()\n",
    "    print(datos_globales.get(\"zbase\"))\n"
   ]
  },
  {
   "cell_type": "code",
   "execution_count": 136,
   "id": "5d7c73ee-47cf-49e0-ab8f-de37a25456e8",
   "metadata": {
    "tags": []
   },
   "outputs": [
    {
     "name": "stdout",
     "output_type": "stream",
     "text": [
      "[1, 2, 3, 4, 5, 6, 7, 8, 9, 10, 11, 12, 13, 14, 15, 16, 17, 18, 19, 20, 21, 22, 23, 24, 25, 26, 27, 28, 29, 30, 31, 32, 33, 34, 35, 36, 37, 38, 39, 40, 41, 42, 43, 44, 45, 46, 47, 48, 49, 50, 51, 52, 53, 54, 55, 56, 57, 58, 59, 60, 61, 62, 63, 64, 65, 66, 67, 68, 69, 70, 71, 72, 73, 74, 75, 76, 77, 78, 79, 80, 81, 82, 83, 84]\n"
     ]
    }
   ],
   "source": [
    "print(nodos)\n",
    "for i in nodos:\n",
    "    i"
   ]
  },
  {
   "cell_type": "markdown",
   "id": "703046bc",
   "metadata": {},
   "source": [
    "## Visualización de los datos"
   ]
  },
  {
   "cell_type": "code",
   "execution_count": 137,
   "id": "a627a85f",
   "metadata": {},
   "outputs": [],
   "source": [
    "def printDatos():\n",
    "    print(\"Nodos\")\n",
    "    print(nodos)\n",
    "    \n",
    "    print(\"Datos Globales\")\n",
    "    for key, value in datos_globales.items():\n",
    "        print(f\"{key}: {value}\")\n",
    "    \n",
    "    print(\"Demanda de potencia Activa(pd)\")\n",
    "    for key, value in pd.items():\n",
    "        print(key, value)\n",
    "\n",
    "\n",
    "    print(\"Demanda de Potencia Reactiva(qd)\")\n",
    "    for key, value in qd.items():\n",
    "        print(key, value)\n",
    "    \n",
    "    print(\"Resistencia(r) de los arcos\")\n",
    "    for key, value in r.items():\n",
    "        print(key, value)\n",
    "    \n",
    "    print(\"Reactancia(x) de los arcos\")\n",
    "    for key, value in x.items():\n",
    "        print(key, value)\n",
    "        \n",
    "    print(\"Arcos\")\n",
    "    print(B)\n",
    "\n",
    "#printDatos()\n",
    "    "
   ]
  },
  {
   "cell_type": "markdown",
   "id": "8f424146",
   "metadata": {},
   "source": [
    "## Visualizción del grafo"
   ]
  },
  {
   "cell_type": "code",
   "execution_count": 138,
   "id": "19cc2778",
   "metadata": {},
   "outputs": [
    {
     "data": {
      "image/png": "[encoded data removed]",
      "text/plain": [
       "<Figure size 432x288 with 1 Axes>"
      ]
     },
     "metadata": {},
     "output_type": "display_data"
    }
   ],
   "source": [
    "def printGrafo():\n",
    "    # Crear un grafo dirigido\n",
    "    G = nx.Graph()\n",
    "    \n",
    "    # Añadir nodos\n",
    "    for node in nodos:\n",
    "        G.add_node(node)\n",
    "        \n",
    "    for i, j in B:\n",
    "        G.add_edge(i,j)\n",
    "        \n",
    "    pos = nx.spring_layout(G)\n",
    "    nx.draw(G, pos, with_labels=True, node_size=1000, node_color='lightblue', width=2, font_size=15)\n",
    "    plt.show()\n",
    "\n",
    "printGrafo()"
   ]
  },
  {
   "cell_type": "markdown",
   "id": "5b946d36-1a27-4a7d-aca6-e163d3917208",
   "metadata": {
    "tags": []
   },
   "source": [
    "\n",
    "## Modelo Matemático\n",
    "\n",
    "### Variables del Problema\n",
    "- $y_{ij}$ variable binaria que representa el *estado de la llave de interconexión* entre i y j, donde esta será 1 si la llave está abierta y 0 si se encuentra cerrada.  \n",
    "- $P_{ij}$ variable continua que representa el flujo de *potencia activa* entre los nodos $i$ y $j$.\n",
    "- $Q_{ij}$ variable continua que representa el flujo de *potencia reactiva* entre los nodos $i$ y $j$.\n",
    "- $I_{ij}$ variable continua que representa el flujo de corriente entre los nodos $i$ y $j$.\n",
    "- $V_{i}$ variable continua  representa el voltaje en el nodo $i$.\n",
    "\n",
    "\n",
    "### Parámetros del Problema\n",
    "\n",
    "- $P_{i}^{D}$ representa la demanda de potencia activa en el nodo $i$ \n",
    "\n",
    "- $Q_{i}^{D}$  representa la demanda de potencia  reactiva en el nodo $i$.\n",
    "\n",
    "- $R_{ij}$ representa la resistencia de la linea entre los nodos $i$ y $j$ \n",
    "\n",
    "- $X_{ij}$ representa la reactancia de la linea entre los nodos $i$ y $j$."
   ]
  },
  {
   "cell_type": "markdown",
   "id": "05c37abc-d6d4-4438-9eaf-963a79b9e612",
   "metadata": {},
   "source": [
    "## Creación del modelo\n",
    "\n",
    "Para le modelo $t=1$."
   ]
  },
  {
   "cell_type": "code",
   "execution_count": 139,
   "id": "90840822-6bde-49ee-8b43-e07baacd4191",
   "metadata": {
    "tags": []
   },
   "outputs": [
    {
     "name": "stdout",
     "output_type": "stream",
     "text": [
      "10.602 11.97\n"
     ]
    }
   ],
   "source": [
    "# Create optimization model\n",
    "m = gp.Model(\"RSD\")\n",
    "#Constantes\n",
    "\n",
    "#tolerancia\n",
    "tol=datos_globales.get(\"tol\")\n",
    "\n",
    "# b=lo que genera/consume cada nodo\n",
    "b_v= 0.1\n",
    "\n",
    "\n",
    "# tension minimima kV\n",
    "vmin=float(datos_globales.get(\"vmin\"))*float(datos_globales.get(\"vbase\"))\n",
    "# tension maxima kV\n",
    "vmax= float(datos_globales.get(\"vmax\"))*float(datos_globales.get(\"vbase\"))\n",
    "nref=int(datos_globales.get(\"nref\"))\n",
    "\n",
    "delV=vmax-vmin\n",
    "\n",
    "# Potencia base kW\n",
    "sbase= datos_globales.get(\"sbase\")\n",
    "\n",
    "print(vmin, vmax)\n",
    "# Variables\n",
    "# Estado de la llave del arco i y j\n",
    "y =  m.addVars(nodos, nodos,  vtype=GRB.BINARY, name=\"y\")\n",
    "\n",
    "# Flujo de potencia activa entre los nodos i y j \n",
    "P =  m.addVars(nodos,nodos, vtype=GRB.CONTINUOUS,lb= 0, ub=1,  name=\"P\")\n",
    "\n",
    "# Flujo de potencia reactiva entre los nodos i y j \n",
    "Q = m.addVars(nodos,nodos,  vtype=GRB.CONTINUOUS,lb= 0, ub=1,  name=\"Q\")\n",
    "\n",
    "\n",
    "# Valor al cuadrado del flujo de Corriente entre los nodos i y j\n",
    "Isqr = m.addVars(nodos,nodos,  vtype=GRB.CONTINUOUS, lb= 0, ub=1, name=\"Isqr\")\n",
    "\n",
    "# Valor al cuadrado del voltaje del nodo i\n",
    "Vsqr = m.addVars(nodos, vtype=GRB.CONTINUOUS, lb=vmin**2, ub=vmax**2, name=\"Vsqr\")\n",
    "\n",
    "# Delta del V\n",
    "deltaV= m.addVars(nodos, nodos, vtype=GRB.CONTINUOUS, lb=-delV, ub=delV, name=\"deltaV\")\n"
   ]
  },
  {
   "cell_type": "code",
   "execution_count": 140,
   "id": "3b309399-acbb-409f-97d4-52820008921e",
   "metadata": {
    "tags": []
   },
   "outputs": [],
   "source": [
    "m.update()"
   ]
  },
  {
   "cell_type": "markdown",
   "id": "6155ed3e-202d-4206-a5f2-bae0b7f35ca6",
   "metadata": {},
   "source": [
    "### Función Objetivo\n",
    "\n",
    "$$\n",
    "Min \\sum\\limits_{ij \\in {B}} {{R_{ij}}I_{ij}^{2}};\n",
    "$$\n"
   ]
  },
  {
   "cell_type": "code",
   "execution_count": 141,
   "id": "f4829c18-026b-4232-912c-29b4206d2cef",
   "metadata": {
    "tags": []
   },
   "outputs": [],
   "source": [
    "FO = LinExpr()\n",
    "for (i, j) in B:\n",
    "    FO += Isqr[i,j] * r[i, j]\n",
    "\n",
    "m.setObjective(FO, GRB.MINIMIZE)\n",
    "    "
   ]
  },
  {
   "cell_type": "markdown",
   "id": "aca66814-d283-464d-b65a-b0d05c33f010",
   "metadata": {},
   "source": [
    "### Restricciones del problema"
   ]
  },
  {
   "cell_type": "markdown",
   "id": "7555fd10-5118-4f47-b153-c86715ad7cb4",
   "metadata": {},
   "source": [
    "1. Equilibrio de potencia activa: esta restricción regula que la cantidad total de potencia activa que es consumida en el sistema eléctrico sea igual a la generada y entregada al sistema, además debe ser igual a la demandada del nodo. \n",
    "\n",
    "$$\n",
    "\\sum\\limits_{ki \\in {B}} {{P_{ki}}}   - \\sum\\limits_{ij \\in {B}} {\\left( {{P_{ij}} + {R_{ij}}I_{ij}^{2}} \\right)} + P_{i,t}^S = P_{i,t}^D;\\forall i \\in {N}\n",
    "$$\n"
   ]
  },
  {
   "cell_type": "code",
   "execution_count": 142,
   "id": "50a7cb4d-ac1d-4363-af34-864652f8dd34",
   "metadata": {},
   "outputs": [],
   "source": [
    "for i in nodos:    \n",
    "    #restr1\n",
    "    expr1 =0\n",
    "    expr2 =0\n",
    "    for k in nodos:\n",
    "        if ((k,i) in B):\n",
    "            expr1+=(P[k, i])\n",
    "    \n",
    "    for j in nodos:\n",
    "        if ((i,j) in B):\n",
    "            expr2+= P[i, j] + r[i, j] * Isqr[i, j]\n",
    "    \n",
    "    \n",
    "    r1 = expr1 - expr2 \n",
    "    \n",
    "    if(i!=int(datos_globales.get(\"nref\"))):\n",
    "        m.addConstr(r1 == pd[i]/sbase, name=f\"demanda_potencia_activa _{i}\")\n",
    "    else:\n",
    "        m.addConstr(r1 <= pd[i]/sbase, name=f\"demanda_potencia_activa _{i}\")"
   ]
  },
  {
   "cell_type": "markdown",
   "id": "d2516c16-54b1-4777-ad07-d8166cfb66db",
   "metadata": {},
   "source": [
    "2. Equilibrio de potencia reactiva: permite que la cantidad total de potencia reactiva que es consumida en el sistema eléctrico sea igual a la generada y entregada al sistema y debe igualar la demanda del nodo.\n",
    "\n",
    "$$\n",
    "\\sum\\limits_{ki \\in {B}} {{Q_{ki,t}}}   - \\sum\\limits_{ij \\in {B}} {\\left( {{Q_{ij,t}} + {X_{ij}}I_{ij,t}^{2}} \\right)}  + Q_{i,t}^S= Q_{i,t}^D;\\forall i \\in {N},    \\forall t \\in {T}\n",
    "$$ "
   ]
  },
  {
   "cell_type": "code",
   "execution_count": 143,
   "id": "e8fe7987-6457-482d-b866-355b43e5606f",
   "metadata": {},
   "outputs": [],
   "source": [
    "for i in nodos:\n",
    "    \n",
    "    expr1 =0\n",
    "    expr2 =0\n",
    "    for k in nodos:\n",
    "        if ((k,i) in B):\n",
    "            expr1+=(Q[k, i])\n",
    "    \n",
    "    for j in nodos:\n",
    "        if ((i,j) in B):\n",
    "            expr2+= Q[i, j] + x[i, j] * Isqr[i, j]\n",
    "    \n",
    "\n",
    "    r1 = expr1 - expr2 \n",
    "    \n",
    "\n",
    "    if(i!=int(datos_globales.get(\"nref\"))):\n",
    "        m.addConstr(r1 == qd[i]/sbase, name=f\"demanda_potencia_reactiva _{i}\")\n",
    "    else:\n",
    "        m.addConstr(r1 <= qd[i]/sbase, name=f\"demanda_potencia_reactiva _{i}\")\n"
   ]
  },
  {
   "cell_type": "markdown",
   "id": "5e32b3dd-f3fe-4629-ad23-2ae087b8088c",
   "metadata": {},
   "source": [
    "3. Restricción del limite de la magnitud de tensión. El voltaje debe encontrarse entre un rango especifico. \n",
    "\n",
    "$$\n",
    "{V_{i,t}^{sqr} = V_{j,t}^{sqr} + 2\\left( {{R_{ij}}{P_{ij,t}} + {X_{ij}}{Q_{ij,t}}} \\right)}- Z_{ij}^2{I_{ij,t}^{sqr}} + \\Delta_{ij,t}^{V}; \\forall ij \\in {B},  \\forall  t \\in {T}\n",
    "$$\n",
    "\n",
    "$$\n",
    "{V_{i}^{2} = V_{j}^{2} + 2\\left( {{R_{ij}}{P_{ij}} + {X_{ij}}{Q_{ij}}} \\right)}- (x_{ij}^2+r_{i,j}^2){I_{ij}^{2}} + \\Delta_{ij}^{V}; \\forall ij \\in {B}\n",
    "$$\n",
    "\n",
    "$Z_{i,j}=x_{ij}^2+r_{i,j}^2$"
   ]
  },
  {
   "cell_type": "code",
   "execution_count": 144,
   "id": "ca768179-d8f5-4a47-be08-3d2530966b8a",
   "metadata": {},
   "outputs": [],
   "source": [
    "for i,j in B: \n",
    "    expr1= 2*(P[(i, j)] * r[i,j] +Q[(i, j)] *x[i,j])\n",
    "    expr2= (x[i,j]**2 + r[i,j]**2) *Isqr[i,j]\n",
    "    r3= Vsqr[(j)] + expr1 - expr2 + deltaV[i,j]\n",
    "    \n",
    "    m.addConstr(Vsqr[i]==r3,name=f\"limite de magnitud de tensión\")\n",
    "    \n"
   ]
  },
  {
   "cell_type": "markdown",
   "id": "4abe8ed5-4542-4b65-b343-7cd347057ec4",
   "metadata": {},
   "source": [
    "4. Restricción que permite regular la magnitud de tensión entre los nodos del sistema con respecto al estado de conexión/desconexión de las llaves de interconexión entre los nodos. \n",
    "\n",
    "$$\n",
    "- {b^V}( {1 - {y_{ij}^B}}) \\le \\Delta _{ij}^V \\le {b^V}( {1 -  {y_{ij}^B}});\\forall ij \\in B\n",
    "$$\n",
    "b= lo que genera/consume cada nodo\n"
   ]
  },
  {
   "cell_type": "code",
   "execution_count": 145,
   "id": "eb773f75-2b19-4076-9156-b872593c6164",
   "metadata": {},
   "outputs": [],
   "source": [
    "for (i,j) in B: \n",
    "    expr1= -b_v *(1 - y[i, j])\n",
    "    m.addConstr(expr1 <= deltaV[(i, j)] ,name=f\"regular la magnitud minima de tensión entre los nodos del sistema con respecto a las llaves\")\n",
    "    expr2 = b_v * (1 - y[i, j])\n",
    "    m.addConstr(deltaV[(i, j)]<= expr2,name=f\"regular la magnitud maxima de tensión entre los nodos del sistema con respecto a las llaves\")\n",
    "\n",
    "   "
   ]
  },
  {
   "cell_type": "markdown",
   "id": "2d3e0b97-833e-492f-828c-21c73b4f9588",
   "metadata": {},
   "source": [
    "5. Restricción que permite que se sigan las leyes de la conservación de energía en el sistema eléctrico y tiene en cuenta la relación entre las magnitudes de tensión, corriente y potencias activas y reactivas\n",
    "$$\n",
    "V_{j}^{2} I_{ij}^{2} = P_{ij}^2 +  Q_{ij}^2;\\forall ij \\in {B}\n",
    "$$\n",
    "\n",
    "Esta se debe de linealizar, para lograr que sea una restricción optima de LP"
   ]
  },
  {
   "cell_type": "code",
   "execution_count": 146,
   "id": "d9c6881d-26e6-495e-89ac-cc56b5d1761b",
   "metadata": {},
   "outputs": [],
   "source": [
    "for (i,j) in B:\n",
    "    m.addConstr(Vsqr[j] * Isqr[i,j] == P[i, j] * P[i, j] + Q[i, j] * Q[i, j],\n",
    "                    name=f\"restriccion_cuadratica_{i}_{j}\")"
   ]
  },
  {
   "cell_type": "markdown",
   "id": "e7eebccb-e47f-495f-82cd-01e41122f00a",
   "metadata": {
    "tags": []
   },
   "source": [
    "6. Conservación de potencia en el sistema eléctrico. \n",
    "\n",
    "$$\n",
    "{ {\\underline V }^2} \\le V_{i}^{2} \\le {\\overline V }^2;\\forall i \\in N\n",
    "$$"
   ]
  },
  {
   "cell_type": "code",
   "execution_count": 147,
   "id": "aa74b776-95f8-4ed9-b4f7-21d272ee0546",
   "metadata": {},
   "outputs": [],
   "source": [
    "for i in nodos:\n",
    "    #m.addConstr(vmin**2<= Vsqr[i], name =f\" Conservación_minima_de_potencia_{i}\")\n",
    "    m.addConstr(Vsqr[i]<=vmax**2, name =f\" Conservación_maxima_de_potencia_{i}\")"
   ]
  },
  {
   "cell_type": "markdown",
   "id": "5453bec0-86ff-49e4-bd1c-cca99e80be27",
   "metadata": {},
   "source": [
    "7. Límites al cuadrado de la magnitud de la corriente entre los nodos i y j cuando la llave de interconexión se encuentre abierta. \n",
    "\n",
    "$$\n",
    "0 \\le I_{ij}^{2} \\le \\overline I_{ij}^2 y_{ij}^B;\\forall ij \\in {B}\n",
    "$$\n",
    "\n",
    "$  \\overline I_{ij} = V_{max} / R_{i,j}$\n",
    "\n"
   ]
  },
  {
   "cell_type": "code",
   "execution_count": 148,
   "id": "b7893d60-d912-40a7-85fa-39523f0d2fc4",
   "metadata": {},
   "outputs": [],
   "source": [
    "for (i,j) in B:\n",
    "    m.addConstr(Isqr[i,j]<= (vmax/r[i,j])**2*y[i,j], name=f\"magnitud_maxima_Corriente_{i}_{j}\")\n",
    "    "
   ]
  },
  {
   "cell_type": "markdown",
   "id": "93b5ef13-4cb8-4cc5-a5c0-3d3508fbf663",
   "metadata": {},
   "source": [
    "8. Restricción de la variable de estado de funcionamiento de los interruptores de interconexión $y_{ij,t}^B$.\n",
    "\n",
    "$$\n",
    "y_{ij,t}^B \\in \\left\\{ {0,1} \\right\\};\\forall ij \\in {B}, \\forall t \\in {T}\n",
    "$$"
   ]
  },
  {
   "cell_type": "code",
   "execution_count": 149,
   "id": "455434c1",
   "metadata": {},
   "outputs": [],
   "source": [
    "for (i,j) in B:\n",
    "    m.addConstr((y[i,j]+y[j,i])<=1, name=f\"solo_una_una_direccion_de_flujo_entre_los_nodos_{i}_{j}\")"
   ]
  },
  {
   "cell_type": "markdown",
   "id": "c24be64b-874e-4c4e-bf1d-4509166e2cb7",
   "metadata": {},
   "source": [
    "9. Restricción de radialidad\n",
    "\n",
    "$$\\sum_{ij \\in B}{ y_{ij,t}^B} = |N|- |N_{sub}|$$\n",
    "\n",
    "Para le caso Nsub= 1, entonces\n",
    "\n",
    "$$\\sum_{ij \\in B}{ y_{ij,t}^B} = |N|- 1$$\n"
   ]
  },
  {
   "cell_type": "code",
   "execution_count": 150,
   "id": "ac60b9a3-7871-4366-8f3e-eb50e37e4753",
   "metadata": {
    "tags": []
   },
   "outputs": [
    {
     "name": "stdout",
     "output_type": "stream",
     "text": [
      "[1, 2, 3, 4, 5, 6, 7, 8, 9, 10, 11, 12, 13, 14, 15, 16, 17, 18, 19, 20, 21, 22, 23, 24, 25, 26, 27, 28, 29, 30, 31, 32, 33, 34, 35, 36, 37, 38, 39, 40, 41, 42, 43, 44, 45, 46, 47, 48, 49, 50, 51, 52, 53, 54, 55, 56, 57, 58, 59, 60, 61, 62, 63, 64, 65, 66, 67, 68, 69, 70, 71, 72, 73, 74, 75, 76, 77, 78, 79, 80, 81, 82, 83, 84]\n",
      "84\n"
     ]
    }
   ],
   "source": [
    "print(nodos)\n",
    "print(len(nodos))"
   ]
  },
  {
   "cell_type": "code",
   "execution_count": 151,
   "id": "eb56b4e4-63e2-49cf-9424-3c3f78b43070",
   "metadata": {},
   "outputs": [
    {
     "name": "stdout",
     "output_type": "stream",
     "text": [
      "84\n"
     ]
    },
    {
     "data": {
      "text/plain": [
       "<gurobi.Constr *Awaiting Model Update*>"
      ]
     },
     "execution_count": 151,
     "metadata": {},
     "output_type": "execute_result"
    }
   ],
   "source": [
    "valor=0\n",
    "print(len(nodos))\n",
    "\n",
    "for (i,j) in B:\n",
    "    valor+=y[i,j]\n",
    "    \n",
    "m.addConstr(valor ==(len(nodos)-1), name=f\"Restriccione_de_radialidad\")\n"
   ]
  },
  {
   "cell_type": "code",
   "execution_count": 152,
   "id": "5b6fb026",
   "metadata": {},
   "outputs": [],
   "source": [
    "for i in nodos: \n",
    "    suma=0\n",
    "    if (i!=int(datos_globales.get(\"nref\"))):\n",
    "        for j in nodos: \n",
    "           if (i,j) in B: \n",
    "                suma+=y[j,i]\n",
    "        m.addConstr(suma >=1, name=f\"conexion{i}\")\n",
    "    else:\n",
    "        for j in nodos: \n",
    "           if (i,j) in B: \n",
    "                suma+=y[i,j]\n",
    "        m.addConstr(suma >=1, name=f\"conexion{i}\")\n",
    "\n"
   ]
  },
  {
   "cell_type": "code",
   "execution_count": 153,
   "id": "6c417ee2-8a78-4042-8d50-1100a2695098",
   "metadata": {
    "tags": []
   },
   "outputs": [],
   "source": [
    "m.update()"
   ]
  },
  {
   "cell_type": "code",
   "execution_count": 154,
   "id": "cdd3890f-91d9-49f1-9ada-5292ef8dfc21",
   "metadata": {
    "tags": []
   },
   "outputs": [
    {
     "name": "stdout",
     "output_type": "stream",
     "text": [
      "Set parameter NonConvex to value 2\n"
     ]
    }
   ],
   "source": [
    "m.setParam(\"NonConvex\",2)\n"
   ]
  },
  {
   "cell_type": "code",
   "execution_count": 155,
   "id": "9cfe737e-920d-4726-8e8a-0cde855a77c4",
   "metadata": {},
   "outputs": [
    {
     "name": "stdout",
     "output_type": "stream",
     "text": [
      "Gurobi Optimizer version 10.0.2 build v10.0.2rc0 (mac64[x86])\n",
      "\n",
      "CPU model: Intel(R) Core(TM) i5-8279U CPU @ 2.40GHz\n",
      "Thread count: 4 physical cores, 8 logical processors, using up to 8 threads\n",
      "\n",
      "Optimize a model with 1297 rows, 35364 columns and 4308 nonzeros\n",
      "Model fingerprint: 0x971c2ab5\n",
      "Model has 192 quadratic constraints\n",
      "Variable types: 28308 continuous, 7056 integer (7056 binary)\n",
      "Coefficient statistics:\n",
      "  Matrix range     [2e-05, 4e+07]\n",
      "  QMatrix range    [1e+00, 1e+00]\n",
      "  Objective range  [2e-03, 4e-02]\n",
      "  Bounds range     [1e+00, 1e+02]\n",
      "  RHS range        [9e-05, 1e+02]\n",
      "Warning: Model contains large matrix coefficient range\n",
      "         Consider reformulating model or setting NumericFocus parameter\n",
      "         to avoid numerical issues.\n",
      "Presolve removed 236 rows and 34362 columns\n",
      "Presolve time: 0.02s\n",
      "Presolved: 3096 rows, 1557 columns, 8113 nonzeros\n",
      "Presolved model has 555 bilinear constraint(s)\n",
      "Variable types: 1379 continuous, 178 integer (178 binary)\n",
      "\n",
      "Root relaxation: objective 1.202474e-06, 363 iterations, 0.01 seconds (0.01 work units)\n",
      "\n",
      "    Nodes    |    Current Node    |     Objective Bounds      |     Work\n",
      " Expl Unexpl |  Obj  Depth IntInf | Incumbent    BestBd   Gap | It/Node Time\n",
      "\n",
      "     0     0    0.00000    0  161          -    0.00000      -     -    0s\n",
      "     0     0    0.00000    0  204          -    0.00000      -     -    0s\n",
      "     0     0    0.00000    0  205          -    0.00000      -     -    0s\n",
      "     0     0    0.00000    0  222          -    0.00000      -     -    0s\n",
      "     0     0    0.00000    0  208          -    0.00000      -     -    0s\n",
      "     0     0    0.00000    0  215          -    0.00000      -     -    0s\n",
      "     0     0    0.00000    0  217          -    0.00000      -     -    0s\n",
      "     0     0    0.00000    0  230          -    0.00000      -     -    0s\n",
      "     0     0    0.00005    0  236          -    0.00005      -     -    0s\n",
      "     0     0    0.00005    0  239          -    0.00005      -     -    0s\n",
      "     0     0    0.00009    0  248          -    0.00009      -     -    0s\n",
      "     0     0    0.00010    0  251          -    0.00010      -     -    0s\n",
      "     0     0    0.00011    0  254          -    0.00011      -     -    0s\n",
      "     0     0    0.00011    0  258          -    0.00011      -     -    0s\n",
      "     0     0    0.00013    0  256          -    0.00013      -     -    0s\n",
      "     0     0    0.00013    0  265          -    0.00013      -     -    0s\n",
      "     0     0    0.00014    0  263          -    0.00014      -     -    0s\n",
      "     0     0    0.00014    0  271          -    0.00014      -     -    0s\n",
      "     0     0    0.00015    0  260          -    0.00015      -     -    0s\n",
      "     0     0    0.00015    0  262          -    0.00015      -     -    0s\n",
      "     0     0    0.00015    0  259          -    0.00015      -     -    0s\n",
      "     0     0    0.00015    0  266          -    0.00015      -     -    0s\n",
      "     0     0    0.00015    0  252          -    0.00015      -     -    0s\n",
      "     0     0    0.00015    0  251          -    0.00015      -     -    0s\n",
      "     0     0    0.00015    0  253          -    0.00015      -     -    0s\n",
      "     0     0    0.00015    0  258          -    0.00015      -     -    0s\n",
      "     0     0    0.00015    0  248          -    0.00015      -     -    0s\n",
      "     0     0    0.00015    0  248          -    0.00015      -     -    1s\n",
      "     0     2    0.00015    0  248          -    0.00015      -     -    1s\n",
      "  1047   637    0.00023   23   54          -    0.00020      -  30.5    5s\n",
      "H 1073   622                       0.0003289    0.00021  35.5%  33.5    8s\n",
      "  1202   717    0.00023   30  183    0.00033    0.00021  35.3%  38.3   10s\n",
      "  3829  1613 infeasible   28         0.00033    0.00022  33.1%  35.2   15s\n",
      "* 6675  3060              89       0.0003277    0.00023  30.4%  36.3   19s\n",
      "* 6679  3047              91       0.0003255    0.00023  29.9%  36.2   19s\n",
      "* 6680  2998              90       0.0003210    0.00023  28.9%  36.2   19s\n",
      "  7027  3197    0.00025   36  182    0.00032    0.00023  28.6%  37.1   20s\n",
      "* 8877  3593             103       0.0003127    0.00023  26.0%  37.0   22s\n",
      " 10266  4086    0.00031   39  136    0.00031    0.00023  25.4%  39.2   25s\n",
      "*10714  3994             154       0.0003084    0.00023  24.2%  39.1   26s\n",
      "*12561  4296             148       0.0003081    0.00024  23.0%  39.7   29s\n",
      " 13192  4486 infeasible   33         0.00031    0.00024  22.6%  40.2   30s\n",
      " 15198  4897    0.00028   41  158    0.00031    0.00024  21.4%  43.1   36s\n",
      " 17383  5437    0.00027   44  131    0.00031    0.00025  20.2%  44.9   41s\n",
      "*17681  5371             135       0.0003078    0.00025  20.1%  45.0   41s\n",
      " 19861  5640    0.00029   39   86    0.00031    0.00025  19.0%  46.9   46s\n",
      " 22144  5955     cutoff   41         0.00031    0.00025  17.9%  47.8   50s\n",
      "*24841  6361             357       0.0003078    0.00026  16.9%  49.2   54s\n",
      " 25161  6145    0.00030   42   92    0.00031    0.00026  16.7%  49.6   56s\n",
      " 27166  6283    0.00028   45  129    0.00031    0.00026  15.7%  51.1   60s\n",
      "*29380  6472             141       0.0003078    0.00026  14.8%  52.3   64s\n",
      " 30292  6475     cutoff   43         0.00031    0.00026  14.5%  52.4   66s\n",
      " 31720  6688    0.00030   46   83    0.00031    0.00027  13.8%  53.4   71s\n",
      "*32703  6324              57       0.0003073    0.00027  13.6%  53.5   74s\n",
      " 33392  6301    0.00029   37  140    0.00031    0.00027  13.3%  53.7   76s\n",
      " 34802  6367 infeasible   33         0.00031    0.00027  12.8%  54.5   80s\n",
      "*36862  6913             447       0.0003073    0.00027  12.4%  54.1   82s\n",
      " 37615  6542    0.00030   33  221    0.00031    0.00027  12.1%  54.4   85s\n",
      " 39963  6509     cutoff   44         0.00031    0.00027  11.3%  55.1   90s\n",
      " 42371  6378    0.00029   51  133    0.00031    0.00027  10.7%  55.5   95s\n",
      " 44756  6270     cutoff   52         0.00031    0.00028  10.2%  56.0  100s\n",
      "*46141  6134             133       0.0003073    0.00028  9.86%  56.2  103s\n",
      " 47162  5918     cutoff   33         0.00031    0.00028  9.45%  56.5  107s\n",
      " 48040  5848    0.00028   43   98    0.00031    0.00028  9.16%  56.5  111s\n",
      " 49791  5616    0.00029   51   63    0.00031    0.00028  8.66%  56.7  119s\n",
      " 50477  5421     cutoff   40         0.00031    0.00028  8.49%  57.0  122s\n",
      " 52167  5095     cutoff   50         0.00031    0.00028  7.86%  57.2  127s\n",
      "*52524  5057             115       0.0003073    0.00028  7.85%  57.1  127s\n",
      " 53857  4715     cutoff   43         0.00031    0.00028  7.44%  57.3  132s\n",
      " 54587  4558     cutoff   48         0.00031    0.00029  7.13%  57.5  135s\n",
      " 56157  4158 infeasible   37         0.00031    0.00029  6.71%  57.8  140s\n",
      "*57917  4023             169       0.0003073    0.00029  6.38%  57.8  143s\n",
      " 57979  3776     cutoff   44         0.00031    0.00029  6.21%  57.8  147s\n",
      " 58688  3584    0.00029   39  109    0.00031    0.00029  5.92%  57.9  150s\n",
      "*58856  3213              78       0.0003064    0.00029  5.65%  57.9  150s\n",
      " 59522  2943 infeasible   45         0.00031    0.00029  5.37%  57.9  155s\n",
      " 61190  2357    0.00029   40  114    0.00031    0.00029  4.88%  58.1  162s\n",
      " 62009  2021     cutoff   48         0.00031    0.00029  4.37%  58.3  165s\n",
      " 63429  1223     cutoff   36         0.00031    0.00030  3.66%  58.6  170s\n",
      "*64014  1207              71       0.0003063    0.00030  3.60%  58.7  170s\n",
      "*64015  1154              71       0.0003060    0.00030  3.49%  58.7  170s\n",
      "*64061  1154              70       0.0003060    0.00030  3.49%  58.7  170s\n",
      "\n",
      "Cutting planes:\n",
      "  Gomory: 1\n",
      "  Cover: 1\n",
      "  Implied bound: 198\n",
      "  MIR: 66\n",
      "  Flow cover: 310\n",
      "  RLT: 58\n",
      "  Relax-and-lift: 68\n",
      "\n",
      "Explored 65748 nodes (3873613 simplex iterations) in 174.89 seconds (69.05 work units)\n",
      "Thread count was 8 (of 8 available processors)\n",
      "\n",
      "Solution count 10: 0.000305981 0.000306316 0.000306443 ... 0.000307794\n",
      "\n",
      "Optimal solution found (tolerance 1.00e-04)\n",
      "Warning: max constraint violation (1.0000e-06) exceeds tolerance\n",
      "Best objective 3.059811104118e-04, best bound 3.059811104118e-04, gap 0.0000%\n"
     ]
    }
   ],
   "source": [
    "m.optimize()\n"
   ]
  },
  {
   "cell_type": "code",
   "execution_count": 156,
   "id": "e1feab80-2e82-434d-be44-727848950d4c",
   "metadata": {
    "tags": []
   },
   "outputs": [
    {
     "name": "stdout",
     "output_type": "stream",
     "text": [
      "/Users/juanamejia/Desktop/uni/SVII/FR/ProyectoFlujoEnRedes/Sistemas_test/datos84\n",
      "Warning: constraint name \"demanda_potencia_activa _1\" has a space\n"
     ]
    }
   ],
   "source": [
    "valor=getFile()\n",
    "value=valor[0]\n",
    "if m.Status == GRB.INFEASIBLE:\n",
    "    m.computeIIS()\n",
    "    m.write(f'{value}.ilp')\n",
    "else:\n",
    "    m.write(f'{value}.lp')\n",
    "    m.write(f'{value}.sol')"
   ]
  },
  {
   "cell_type": "code",
   "execution_count": 157,
   "id": "216e8c05",
   "metadata": {},
   "outputs": [
    {
     "data": {
      "image/png": "[encoded data removed]",
      "text/plain": [
       "<Figure size 432x288 with 1 Axes>"
      ]
     },
     "metadata": {},
     "output_type": "display_data"
    },
    {
     "name": "stdout",
     "output_type": "stream",
     "text": [
      "0.00030598111041180924\n"
     ]
    }
   ],
   "source": [
    "# Crear un grafo dirigido\n",
    "G = nx.Graph()\n",
    "\n",
    "def printGrafo():\n",
    "   \n",
    "    \n",
    "    \n",
    "    # Añadir nodos\n",
    "    for node in nodos:\n",
    "        G.add_node(node)\n",
    "    \n",
    "    for i, j in B:\n",
    "        if y[i,j].x>0:\n",
    "            G.add_edge(i,j)\n",
    "        \n",
    "    pos = nx.spring_layout(G)\n",
    "\n",
    "    nx.draw(G, pos, with_labels=True, node_size=120, node_color='lightblue', width=1, font_size=10)\n",
    "    nx.draw_networkx_nodes(G, pos, nodelist=[nref], node_color='red', node_size=120)\n",
    "    for edge in G.edges():\n",
    "        nx.draw_networkx_edges(G, pos, edgelist=[edge], width=1.0, alpha=0.5, edge_color='black', connectionstyle=\"arc3,rad=0.1\")\n",
    "\n",
    "    plt.show()\n",
    "\n",
    "plt.title(f'Resultado para {value}')\n",
    "printGrafo()\n",
    "print(m.objval)"
   ]
  },
  {
   "cell_type": "code",
   "execution_count": 158,
   "id": "de846dd4",
   "metadata": {},
   "outputs": [
    {
     "name": "stdout",
     "output_type": "stream",
     "text": [
      "The node '84' can reach all other nodes in the graph.\n"
     ]
    }
   ],
   "source": [
    "selected_node = nref # Replace this with the node you want to check\n",
    "\n",
    "# Check if the selected node can reach all other nodes\n",
    "reachable_nodes = set(nx.node_connected_component(G, selected_node))\n",
    "if reachable_nodes == set(nodos):\n",
    "    print(f\"The node '{selected_node}' can reach all other nodes in the graph.\")\n",
    "else:\n",
    "    print(f\"The node '{selected_node}' cannot reach all other nodes in the graph.\")"
   ]
  },
  {
   "cell_type": "code",
   "execution_count": 159,
   "id": "7883c3bc",
   "metadata": {},
   "outputs": [
    {
     "name": "stdout",
     "output_type": "stream",
     "text": [
      "[(84, 1), (1, 2), (2, 3), (3, 4), (4, 5), (5, 6), (7, 8), (7, 9), (7, 10), (84, 11), (11, 12), (12, 14), (84, 15), (15, 16), (16, 17), (17, 18), (18, 19), (19, 20), (20, 21), (21, 22), (21, 23), (23, 24), (84, 25), (25, 26), (26, 27), (27, 28), (28, 29), (84, 30), (30, 31), (31, 32), (32, 33), (34, 35), (35, 36), (36, 37), (37, 38), (39, 40), (38, 41), (84, 43), (43, 44), (44, 45), (45, 46), (84, 47), (47, 48), (48, 49), (49, 50), (50, 51), (51, 52), (52, 53), (53, 54), (84, 56), (56, 57), (57, 58), (58, 59), (59, 60), (60, 61), (63, 62), (64, 63), (84, 65), (65, 66), (66, 67), (67, 68), (68, 69), (69, 70), (70, 71), (84, 73), (73, 74), (74, 75), (75, 76), (84, 77), (77, 78), (78, 79), (79, 80), (80, 81), (81, 82), (5, 55), (60, 7), (12, 72), (76, 13), (20, 83), (29, 39), (46, 34), (40, 42), (53, 64)]\n"
     ]
    }
   ],
   "source": [
    "edges_list=[]\n",
    "for i, j in B:\n",
    "    if y[i,j].x>0:\n",
    "        edges_list.append((i,j))\n",
    "\n",
    "print(edges_list)"
   ]
  },
  {
   "cell_type": "code",
   "execution_count": 160,
   "metadata": {},
   "outputs": [],
   "source": [
    "\n",
    "GDi = nx.DiGraph()\n",
    "GDi.add_edges_from(edges_list)"
   ]
  },
  {
   "cell_type": "code",
   "execution_count": 161,
   "metadata": {},
   "outputs": [
    {
     "name": "stdout",
     "output_type": "stream",
     "text": [
      "Node 84 can reach all other nodes.\n"
     ]
    }
   ],
   "source": [
    "reachable_nodes = set(nx.descendants(GDi, nref  )).union({nref  })\n",
    "all_nodes = set(GDi.nodes())\n",
    "\n",
    "if reachable_nodes == all_nodes:\n",
    "    print(f\"Node {nref} can reach all other nodes.\")\n",
    "else:\n",
    "    print(f\"Node {nref} cannot reach all other nodes.\")"
   ]
  }
 ],
 "metadata": {
  "kernelspec": {
   "display_name": "Python 3.9.7 ('base')",
   "language": "python",
   "name": "python3"
  },
  "language_info": {
   "codemirror_mode": {
    "name": "ipython",
    "version": 3
   },
   "file_extension": ".py",
   "mimetype": "text/x-python",
   "name": "python",
   "nbconvert_exporter": "python",
   "pygments_lexer": "ipython3",
   "version": "3.9.7"
  },
  "orig_nbformat": 4,
  "vscode": {
   "interpreter": {
    "hash": "1eb0071fb01f6fa9e7b0a93c4f4598a71870befc95c28e2aff6712f1d51d97cc"
   }
  }
 },
 "nbformat": 4,
 "nbformat_minor": 2
}
